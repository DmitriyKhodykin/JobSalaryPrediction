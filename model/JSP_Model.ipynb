{
  "nbformat": 4,
  "nbformat_minor": 0,
  "metadata": {
    "colab": {
      "name": "JSP_Model.ipynb",
      "provenance": [],
      "collapsed_sections": [],
      "toc_visible": true
    },
    "kernelspec": {
      "name": "python3",
      "display_name": "Python 3"
    }
  },
  "cells": [
    {
      "cell_type": "markdown",
      "metadata": {
        "id": "1pOVaX3YhHIb",
        "colab_type": "text"
      },
      "source": [
        "# Модель для предсказания уровня зарплатных ожиданий сотрудников"
      ]
    },
    {
      "cell_type": "markdown",
      "metadata": {
        "id": "GCttf0FVhMsS",
        "colab_type": "text"
      },
      "source": [
        "## Импорты"
      ]
    },
    {
      "cell_type": "code",
      "metadata": {
        "id": "4a_6kRxehAq4",
        "colab_type": "code",
        "colab": {}
      },
      "source": [
        "import numpy as np\n",
        "import pandas as pd"
      ],
      "execution_count": 1,
      "outputs": []
    },
    {
      "cell_type": "markdown",
      "metadata": {
        "id": "NmDCu-nAh2-v",
        "colab_type": "text"
      },
      "source": [
        "## Исходные данные"
      ]
    },
    {
      "cell_type": "code",
      "metadata": {
        "id": "D8cj6umx9jM3",
        "colab_type": "code",
        "colab": {}
      },
      "source": [
        "from google.colab import drive\n",
        "drive.mount('/content/drive')\n",
        "wdir = '/content/drive/My Drive/Courses/DataScience/DataScience/I_DIPLOMA/data'"
      ],
      "execution_count": null,
      "outputs": []
    },
    {
      "cell_type": "code",
      "metadata": {
        "id": "KJPddKMThkjL",
        "colab_type": "code",
        "colab": {}
      },
      "source": [
        "raw_data = pd.read_excel(f'{wdir}/raw_data.xlsx')"
      ],
      "execution_count": null,
      "outputs": []
    },
    {
      "cell_type": "code",
      "metadata": {
        "id": "ZbipQiM8iebR",
        "colab_type": "code",
        "colab": {
          "base_uri": "https://localhost:8080/",
          "height": 366
        },
        "outputId": "cd819d7d-4588-4415-81b0-1e9935816a88"
      },
      "source": [
        "raw_data.head(3)"
      ],
      "execution_count": null,
      "outputs": [
        {
          "output_type": "execute_result",
          "data": {
            "text/html": [
              "<div>\n",
              "<style scoped>\n",
              "    .dataframe tbody tr th:only-of-type {\n",
              "        vertical-align: middle;\n",
              "    }\n",
              "\n",
              "    .dataframe tbody tr th {\n",
              "        vertical-align: top;\n",
              "    }\n",
              "\n",
              "    .dataframe thead th {\n",
              "        text-align: right;\n",
              "    }\n",
              "</style>\n",
              "<table border=\"1\" class=\"dataframe\">\n",
              "  <thead>\n",
              "    <tr style=\"text-align: right;\">\n",
              "      <th></th>\n",
              "      <th>Unnamed: 0</th>\n",
              "      <th>entrydate</th>\n",
              "      <th>title</th>\n",
              "      <th>position</th>\n",
              "      <th>gender</th>\n",
              "      <th>city</th>\n",
              "      <th>age</th>\n",
              "      <th>salary</th>\n",
              "      <th>experience</th>\n",
              "      <th>last_job</th>\n",
              "      <th>updated</th>\n",
              "      <th>link</th>\n",
              "    </tr>\n",
              "  </thead>\n",
              "  <tbody>\n",
              "    <tr>\n",
              "      <th>0</th>\n",
              "      <td>0</td>\n",
              "      <td>2020-04-08</td>\n",
              "      <td>Резюме Менеджер по продажам мебели, дизайнер-к...</td>\n",
              "      <td>Менеджер по продажам</td>\n",
              "      <td>Женщина</td>\n",
              "      <td>Москва</td>\n",
              "      <td>31</td>\n",
              "      <td>70</td>\n",
              "      <td>8.0</td>\n",
              "      <td>ООО ИНТЕХ</td>\n",
              "      <td>2020-04-08</td>\n",
              "      <td>https://hh.ru/resume/840fd6300000a252640039ed1...</td>\n",
              "    </tr>\n",
              "    <tr>\n",
              "      <th>1</th>\n",
              "      <td>1</td>\n",
              "      <td>2020-04-08</td>\n",
              "      <td>Резюме Специалист по работе с клиентами</td>\n",
              "      <td>Клиентский менеджер</td>\n",
              "      <td>Мужчина</td>\n",
              "      <td>Липецк</td>\n",
              "      <td>40</td>\n",
              "      <td>90</td>\n",
              "      <td>15.0</td>\n",
              "      <td>МДК</td>\n",
              "      <td>2020-04-08</td>\n",
              "      <td>https://hh.ru/resume/66498670000716a4250039ed1...</td>\n",
              "    </tr>\n",
              "    <tr>\n",
              "      <th>2</th>\n",
              "      <td>2</td>\n",
              "      <td>2020-04-08</td>\n",
              "      <td>Резюме Супервайзер торговых представителей, ст...</td>\n",
              "      <td>Супервайзер</td>\n",
              "      <td>Мужчина</td>\n",
              "      <td>Самара</td>\n",
              "      <td>34</td>\n",
              "      <td>50</td>\n",
              "      <td>7.0</td>\n",
              "      <td>Ютф-дистрибьютор</td>\n",
              "      <td>2020-04-08</td>\n",
              "      <td>https://hh.ru/resume/70e7817700035195b70039ed1...</td>\n",
              "    </tr>\n",
              "  </tbody>\n",
              "</table>\n",
              "</div>"
            ],
            "text/plain": [
              "   Unnamed: 0  ...                                               link\n",
              "0           0  ...  https://hh.ru/resume/840fd6300000a252640039ed1...\n",
              "1           1  ...  https://hh.ru/resume/66498670000716a4250039ed1...\n",
              "2           2  ...  https://hh.ru/resume/70e7817700035195b70039ed1...\n",
              "\n",
              "[3 rows x 12 columns]"
            ]
          },
          "metadata": {
            "tags": []
          },
          "execution_count": 4
        }
      ]
    },
    {
      "cell_type": "code",
      "metadata": {
        "id": "ofF-GCwZmIgQ",
        "colab_type": "code",
        "colab": {
          "base_uri": "https://localhost:8080/",
          "height": 340
        },
        "outputId": "953ad251-cbd2-4766-a3a4-5a23ab311eac"
      },
      "source": [
        "raw_data.info()"
      ],
      "execution_count": null,
      "outputs": [
        {
          "output_type": "stream",
          "text": [
            "<class 'pandas.core.frame.DataFrame'>\n",
            "RangeIndex: 3178 entries, 0 to 3177\n",
            "Data columns (total 12 columns):\n",
            " #   Column      Non-Null Count  Dtype         \n",
            "---  ------      --------------  -----         \n",
            " 0   Unnamed: 0  3178 non-null   int64         \n",
            " 1   entrydate   3178 non-null   datetime64[ns]\n",
            " 2   title       3178 non-null   object        \n",
            " 3   position    3178 non-null   object        \n",
            " 4   gender      3178 non-null   object        \n",
            " 5   city        3178 non-null   object        \n",
            " 6   age         3178 non-null   int64         \n",
            " 7   salary      3178 non-null   int64         \n",
            " 8   experience  2522 non-null   float64       \n",
            " 9   last_job    3178 non-null   object        \n",
            " 10  updated     3178 non-null   datetime64[ns]\n",
            " 11  link        3178 non-null   object        \n",
            "dtypes: datetime64[ns](2), float64(1), int64(3), object(6)\n",
            "memory usage: 298.1+ KB\n"
          ],
          "name": "stdout"
        }
      ]
    },
    {
      "cell_type": "code",
      "metadata": {
        "id": "2Hkv7366sLHV",
        "colab_type": "code",
        "colab": {
          "base_uri": "https://localhost:8080/",
          "height": 68
        },
        "outputId": "5cf8b8d6-0f3c-483f-9e5e-9ba41fd5086f"
      },
      "source": [
        "raw_data.columns"
      ],
      "execution_count": null,
      "outputs": [
        {
          "output_type": "execute_result",
          "data": {
            "text/plain": [
              "Index(['Unnamed: 0', 'entrydate', 'title', 'position', 'gender', 'city', 'age',\n",
              "       'salary', 'experience', 'last_job', 'updated', 'link'],\n",
              "      dtype='object')"
            ]
          },
          "metadata": {
            "tags": []
          },
          "execution_count": 7
        }
      ]
    },
    {
      "cell_type": "markdown",
      "metadata": {
        "id": "5I90Ar6BualG",
        "colab_type": "text"
      },
      "source": [
        "## Предобработка данных"
      ]
    },
    {
      "cell_type": "code",
      "metadata": {
        "id": "9y-XwzYMjTi1",
        "colab_type": "code",
        "colab": {}
      },
      "source": [
        "def data_prep(df_input):\n",
        "  \"\"\"Обрабатывает исходные данные\"\"\"\n",
        "  df_output = df_input.copy()\n",
        "  df_output['experience'] = df_output['experience'].fillna(\n",
        "                            df_output['experience'].mean())\n",
        "  df_output['experience'] = df_output['experience'].astype(np.int)\n",
        "  df_output.drop([\n",
        "                  'Unnamed: 0',\n",
        "                  'title',\n",
        "                  'entrydate',\n",
        "                  'last_job',\n",
        "                  'updated',\n",
        "                  'link'],\n",
        "                 axis=1,\n",
        "                 inplace=True)\n",
        "  \n",
        "  return df_output"
      ],
      "execution_count": null,
      "outputs": []
    },
    {
      "cell_type": "code",
      "metadata": {
        "id": "pncsRZl1tDv-",
        "colab_type": "code",
        "colab": {
          "base_uri": "https://localhost:8080/",
          "height": 204
        },
        "outputId": "84509d6e-b2c7-4ad6-ace2-b00a388ceb0c"
      },
      "source": [
        "# Посмотрим на подготовленные данные\n",
        "data = data_prep(raw_data)\n",
        "data.head()"
      ],
      "execution_count": null,
      "outputs": [
        {
          "output_type": "execute_result",
          "data": {
            "text/html": [
              "<div>\n",
              "<style scoped>\n",
              "    .dataframe tbody tr th:only-of-type {\n",
              "        vertical-align: middle;\n",
              "    }\n",
              "\n",
              "    .dataframe tbody tr th {\n",
              "        vertical-align: top;\n",
              "    }\n",
              "\n",
              "    .dataframe thead th {\n",
              "        text-align: right;\n",
              "    }\n",
              "</style>\n",
              "<table border=\"1\" class=\"dataframe\">\n",
              "  <thead>\n",
              "    <tr style=\"text-align: right;\">\n",
              "      <th></th>\n",
              "      <th>position</th>\n",
              "      <th>gender</th>\n",
              "      <th>city</th>\n",
              "      <th>age</th>\n",
              "      <th>salary</th>\n",
              "      <th>experience</th>\n",
              "    </tr>\n",
              "  </thead>\n",
              "  <tbody>\n",
              "    <tr>\n",
              "      <th>0</th>\n",
              "      <td>Менеджер по продажам</td>\n",
              "      <td>Женщина</td>\n",
              "      <td>Москва</td>\n",
              "      <td>31</td>\n",
              "      <td>70</td>\n",
              "      <td>8</td>\n",
              "    </tr>\n",
              "    <tr>\n",
              "      <th>1</th>\n",
              "      <td>Клиентский менеджер</td>\n",
              "      <td>Мужчина</td>\n",
              "      <td>Липецк</td>\n",
              "      <td>40</td>\n",
              "      <td>90</td>\n",
              "      <td>15</td>\n",
              "    </tr>\n",
              "    <tr>\n",
              "      <th>2</th>\n",
              "      <td>Супервайзер</td>\n",
              "      <td>Мужчина</td>\n",
              "      <td>Самара</td>\n",
              "      <td>34</td>\n",
              "      <td>50</td>\n",
              "      <td>7</td>\n",
              "    </tr>\n",
              "    <tr>\n",
              "      <th>3</th>\n",
              "      <td>Коммерческий директор</td>\n",
              "      <td>Мужчина</td>\n",
              "      <td>Краснодар</td>\n",
              "      <td>47</td>\n",
              "      <td>60</td>\n",
              "      <td>10</td>\n",
              "    </tr>\n",
              "    <tr>\n",
              "      <th>4</th>\n",
              "      <td>Менеджер по продажам</td>\n",
              "      <td>Мужчина</td>\n",
              "      <td>Москва</td>\n",
              "      <td>43</td>\n",
              "      <td>50</td>\n",
              "      <td>11</td>\n",
              "    </tr>\n",
              "  </tbody>\n",
              "</table>\n",
              "</div>"
            ],
            "text/plain": [
              "                position   gender       city  age  salary  experience\n",
              "0   Менеджер по продажам  Женщина     Москва   31      70           8\n",
              "1    Клиентский менеджер  Мужчина     Липецк   40      90          15\n",
              "2            Супервайзер  Мужчина     Самара   34      50           7\n",
              "3  Коммерческий директор  Мужчина  Краснодар   47      60          10\n",
              "4   Менеджер по продажам  Мужчина     Москва   43      50          11"
            ]
          },
          "metadata": {
            "tags": []
          },
          "execution_count": 9
        }
      ]
    },
    {
      "cell_type": "code",
      "metadata": {
        "id": "1VfnkY62t29k",
        "colab_type": "code",
        "colab": {
          "base_uri": "https://localhost:8080/",
          "height": 238
        },
        "outputId": "12f1b1c0-bae8-4563-ec4b-0c0492c886bf"
      },
      "source": [
        "data.info()"
      ],
      "execution_count": null,
      "outputs": [
        {
          "output_type": "stream",
          "text": [
            "<class 'pandas.core.frame.DataFrame'>\n",
            "RangeIndex: 3178 entries, 0 to 3177\n",
            "Data columns (total 6 columns):\n",
            " #   Column      Non-Null Count  Dtype \n",
            "---  ------      --------------  ----- \n",
            " 0   position    3178 non-null   object\n",
            " 1   gender      3178 non-null   object\n",
            " 2   city        3178 non-null   object\n",
            " 3   age         3178 non-null   int64 \n",
            " 4   salary      3178 non-null   int64 \n",
            " 5   experience  3178 non-null   int64 \n",
            "dtypes: int64(3), object(3)\n",
            "memory usage: 149.1+ KB\n"
          ],
          "name": "stdout"
        }
      ]
    },
    {
      "cell_type": "code",
      "metadata": {
        "id": "E9vLSd2olDvt",
        "colab_type": "code",
        "colab": {
          "base_uri": "https://localhost:8080/",
          "height": 265
        },
        "outputId": "4c9ee159-73ed-4605-80b2-c2b05b6cb6e9"
      },
      "source": [
        "# Посмотрим, есть ли в данных выбросы\n",
        "data.plot();"
      ],
      "execution_count": null,
      "outputs": [
        {
          "output_type": "display_data",
          "data": {
            "image/png": "[encoded data removed]",
            "text/plain": [
              "<Figure size 432x288 with 1 Axes>"
            ]
          },
          "metadata": {
            "tags": [],
            "needs_background": "light"
          }
        }
      ]
    },
    {
      "cell_type": "code",
      "metadata": {
        "id": "VbU-KfRPlcsD",
        "colab_type": "code",
        "colab": {
          "base_uri": "https://localhost:8080/",
          "height": 607
        },
        "outputId": "f7835a19-2a0e-4a21-dbd4-42f3c9f38746"
      },
      "source": [
        "data[data['salary'] > 200]"
      ],
      "execution_count": null,
      "outputs": [
        {
          "output_type": "execute_result",
          "data": {
            "text/html": [
              "<div>\n",
              "<style scoped>\n",
              "    .dataframe tbody tr th:only-of-type {\n",
              "        vertical-align: middle;\n",
              "    }\n",
              "\n",
              "    .dataframe tbody tr th {\n",
              "        vertical-align: top;\n",
              "    }\n",
              "\n",
              "    .dataframe thead th {\n",
              "        text-align: right;\n",
              "    }\n",
              "</style>\n",
              "<table border=\"1\" class=\"dataframe\">\n",
              "  <thead>\n",
              "    <tr style=\"text-align: right;\">\n",
              "      <th></th>\n",
              "      <th>position</th>\n",
              "      <th>gender</th>\n",
              "      <th>city</th>\n",
              "      <th>age</th>\n",
              "      <th>salary</th>\n",
              "      <th>experience</th>\n",
              "    </tr>\n",
              "  </thead>\n",
              "  <tbody>\n",
              "    <tr>\n",
              "      <th>130</th>\n",
              "      <td>Коммерческий директор</td>\n",
              "      <td>Мужчина</td>\n",
              "      <td>Москва</td>\n",
              "      <td>36</td>\n",
              "      <td>265</td>\n",
              "      <td>12</td>\n",
              "    </tr>\n",
              "    <tr>\n",
              "      <th>322</th>\n",
              "      <td>Менеджер по продажам</td>\n",
              "      <td>Мужчина</td>\n",
              "      <td>Москва</td>\n",
              "      <td>29</td>\n",
              "      <td>210</td>\n",
              "      <td>7</td>\n",
              "    </tr>\n",
              "    <tr>\n",
              "      <th>331</th>\n",
              "      <td>Менеджер по продажам</td>\n",
              "      <td>Мужчина</td>\n",
              "      <td>Москва</td>\n",
              "      <td>29</td>\n",
              "      <td>210</td>\n",
              "      <td>7</td>\n",
              "    </tr>\n",
              "    <tr>\n",
              "      <th>342</th>\n",
              "      <td>Менеджер по продажам</td>\n",
              "      <td>Мужчина</td>\n",
              "      <td>Москва</td>\n",
              "      <td>29</td>\n",
              "      <td>210</td>\n",
              "      <td>7</td>\n",
              "    </tr>\n",
              "    <tr>\n",
              "      <th>537</th>\n",
              "      <td>Региональный менеджер</td>\n",
              "      <td>Male</td>\n",
              "      <td>Moscow</td>\n",
              "      <td>35</td>\n",
              "      <td>220</td>\n",
              "      <td>10</td>\n",
              "    </tr>\n",
              "    <tr>\n",
              "      <th>1162</th>\n",
              "      <td>Менеджер по продажам</td>\n",
              "      <td>Мужчина</td>\n",
              "      <td>Москва</td>\n",
              "      <td>37</td>\n",
              "      <td>250</td>\n",
              "      <td>14</td>\n",
              "    </tr>\n",
              "    <tr>\n",
              "      <th>1421</th>\n",
              "      <td>Руководитель продаж</td>\n",
              "      <td>Мужчина</td>\n",
              "      <td>Москва</td>\n",
              "      <td>51</td>\n",
              "      <td>250</td>\n",
              "      <td>10</td>\n",
              "    </tr>\n",
              "    <tr>\n",
              "      <th>1429</th>\n",
              "      <td>Руководитель продаж</td>\n",
              "      <td>Мужчина</td>\n",
              "      <td>Москва</td>\n",
              "      <td>51</td>\n",
              "      <td>250</td>\n",
              "      <td>10</td>\n",
              "    </tr>\n",
              "    <tr>\n",
              "      <th>1438</th>\n",
              "      <td>Менеджер по продажам</td>\n",
              "      <td>Мужчина</td>\n",
              "      <td>Уфа</td>\n",
              "      <td>26</td>\n",
              "      <td>270</td>\n",
              "      <td>10</td>\n",
              "    </tr>\n",
              "    <tr>\n",
              "      <th>1511</th>\n",
              "      <td>Менеджер по продажам</td>\n",
              "      <td>Женщина</td>\n",
              "      <td>Москва</td>\n",
              "      <td>48</td>\n",
              "      <td>250</td>\n",
              "      <td>10</td>\n",
              "    </tr>\n",
              "    <tr>\n",
              "      <th>1518</th>\n",
              "      <td>Менеджер по продажам</td>\n",
              "      <td>Женщина</td>\n",
              "      <td>Москва</td>\n",
              "      <td>48</td>\n",
              "      <td>250</td>\n",
              "      <td>10</td>\n",
              "    </tr>\n",
              "    <tr>\n",
              "      <th>1578</th>\n",
              "      <td>Коммерческий директор</td>\n",
              "      <td>Мужчина</td>\n",
              "      <td>Москва</td>\n",
              "      <td>35</td>\n",
              "      <td>250</td>\n",
              "      <td>12</td>\n",
              "    </tr>\n",
              "    <tr>\n",
              "      <th>1612</th>\n",
              "      <td>Руководитель продаж</td>\n",
              "      <td>Мужчина</td>\n",
              "      <td>Москва</td>\n",
              "      <td>39</td>\n",
              "      <td>250</td>\n",
              "      <td>16</td>\n",
              "    </tr>\n",
              "    <tr>\n",
              "      <th>1711</th>\n",
              "      <td>Коммерческий директор</td>\n",
              "      <td>Мужчина</td>\n",
              "      <td>Москва</td>\n",
              "      <td>48</td>\n",
              "      <td>250</td>\n",
              "      <td>10</td>\n",
              "    </tr>\n",
              "    <tr>\n",
              "      <th>1714</th>\n",
              "      <td>Руководитель продаж</td>\n",
              "      <td>Мужчина</td>\n",
              "      <td>Москва</td>\n",
              "      <td>34</td>\n",
              "      <td>250</td>\n",
              "      <td>9</td>\n",
              "    </tr>\n",
              "    <tr>\n",
              "      <th>2029</th>\n",
              "      <td>Специалист</td>\n",
              "      <td>Женщина</td>\n",
              "      <td>Тюмень</td>\n",
              "      <td>27</td>\n",
              "      <td>207</td>\n",
              "      <td>6</td>\n",
              "    </tr>\n",
              "    <tr>\n",
              "      <th>2054</th>\n",
              "      <td>Коммерческий директор</td>\n",
              "      <td>Мужчина</td>\n",
              "      <td>Москва</td>\n",
              "      <td>37</td>\n",
              "      <td>250</td>\n",
              "      <td>14</td>\n",
              "    </tr>\n",
              "    <tr>\n",
              "      <th>2765</th>\n",
              "      <td>Коммерческий директор</td>\n",
              "      <td>Мужчина</td>\n",
              "      <td>Москва</td>\n",
              "      <td>42</td>\n",
              "      <td>280</td>\n",
              "      <td>10</td>\n",
              "    </tr>\n",
              "  </tbody>\n",
              "</table>\n",
              "</div>"
            ],
            "text/plain": [
              "                   position   gender    city  age  salary  experience\n",
              "130   Коммерческий директор  Мужчина  Москва   36     265          12\n",
              "322    Менеджер по продажам  Мужчина  Москва   29     210           7\n",
              "331    Менеджер по продажам  Мужчина  Москва   29     210           7\n",
              "342    Менеджер по продажам  Мужчина  Москва   29     210           7\n",
              "537   Региональный менеджер     Male  Moscow   35     220          10\n",
              "1162   Менеджер по продажам  Мужчина  Москва   37     250          14\n",
              "1421    Руководитель продаж  Мужчина  Москва   51     250          10\n",
              "1429    Руководитель продаж  Мужчина  Москва   51     250          10\n",
              "1438   Менеджер по продажам  Мужчина     Уфа   26     270          10\n",
              "1511   Менеджер по продажам  Женщина  Москва   48     250          10\n",
              "1518   Менеджер по продажам  Женщина  Москва   48     250          10\n",
              "1578  Коммерческий директор  Мужчина  Москва   35     250          12\n",
              "1612    Руководитель продаж  Мужчина  Москва   39     250          16\n",
              "1711  Коммерческий директор  Мужчина  Москва   48     250          10\n",
              "1714    Руководитель продаж  Мужчина  Москва   34     250           9\n",
              "2029             Специалист  Женщина  Тюмень   27     207           6\n",
              "2054  Коммерческий директор  Мужчина  Москва   37     250          14\n",
              "2765  Коммерческий директор  Мужчина  Москва   42     280          10"
            ]
          },
          "metadata": {
            "tags": []
          },
          "execution_count": 12
        }
      ]
    },
    {
      "cell_type": "markdown",
      "metadata": {
        "id": "TVjaoxqKmWU3",
        "colab_type": "text"
      },
      "source": [
        "Пожалуй, все позиции кроме \"Руководитель продаж\" и \"Коммерческий директор\" с ожиданиями выше 200 тыс.руб - будут вносить \"разлад\" в наши данные. Удалим их"
      ]
    },
    {
      "cell_type": "code",
      "metadata": {
        "id": "o5bMuArxmL7n",
        "colab_type": "code",
        "colab": {
          "base_uri": "https://localhost:8080/",
          "height": 238
        },
        "outputId": "753c9050-85bd-4963-c49e-a0a5bdc26a90"
      },
      "source": [
        " isx = data[\n",
        "      (data['salary'] > 200) & \n",
        "      (data['position'] != 'Коммерческий директор') &\n",
        "      (data['position'] != 'Руководитель продаж')].index\n",
        "\n",
        "data = data.drop(data.index[isx])\n",
        "data.info()"
      ],
      "execution_count": null,
      "outputs": [
        {
          "output_type": "stream",
          "text": [
            "<class 'pandas.core.frame.DataFrame'>\n",
            "Int64Index: 3169 entries, 0 to 3177\n",
            "Data columns (total 6 columns):\n",
            " #   Column      Non-Null Count  Dtype \n",
            "---  ------      --------------  ----- \n",
            " 0   position    3169 non-null   object\n",
            " 1   gender      3169 non-null   object\n",
            " 2   city        3169 non-null   object\n",
            " 3   age         3169 non-null   int64 \n",
            " 4   salary      3169 non-null   int64 \n",
            " 5   experience  3169 non-null   int64 \n",
            "dtypes: int64(3), object(3)\n",
            "memory usage: 173.3+ KB\n"
          ],
          "name": "stdout"
        }
      ]
    },
    {
      "cell_type": "markdown",
      "metadata": {
        "id": "CAOnLs5u-Z81",
        "colab_type": "text"
      },
      "source": [
        "## Feature engineering"
      ]
    },
    {
      "cell_type": "markdown",
      "metadata": {
        "id": "LjJP0tOz-8Pd",
        "colab_type": "text"
      },
      "source": [
        "Обогатим наши данные численностью населения в городах проживания кандидатов, источник данных: https://zema.su/blog/polnyi-spisok-vsekh-gorodov-rossii-po-chislennosti-naseleniya"
      ]
    },
    {
      "cell_type": "code",
      "metadata": {
        "id": "RbSml0aUDMuT",
        "colab_type": "code",
        "colab": {
          "base_uri": "https://localhost:8080/",
          "height": 204
        },
        "outputId": "973855f7-7096-463c-b62a-367aff3cb092"
      },
      "source": [
        "cities = pd.read_excel(f'{wdir}/cities.xlsx')\n",
        "cities = cities.drop('Н', axis=1)\n",
        "cities.columns = ['city', 'population']\n",
        "cities.head()"
      ],
      "execution_count": null,
      "outputs": [
        {
          "output_type": "execute_result",
          "data": {
            "text/html": [
              "<div>\n",
              "<style scoped>\n",
              "    .dataframe tbody tr th:only-of-type {\n",
              "        vertical-align: middle;\n",
              "    }\n",
              "\n",
              "    .dataframe tbody tr th {\n",
              "        vertical-align: top;\n",
              "    }\n",
              "\n",
              "    .dataframe thead th {\n",
              "        text-align: right;\n",
              "    }\n",
              "</style>\n",
              "<table border=\"1\" class=\"dataframe\">\n",
              "  <thead>\n",
              "    <tr style=\"text-align: right;\">\n",
              "      <th></th>\n",
              "      <th>city</th>\n",
              "      <th>population</th>\n",
              "    </tr>\n",
              "  </thead>\n",
              "  <tbody>\n",
              "    <tr>\n",
              "      <th>0</th>\n",
              "      <td>Москва</td>\n",
              "      <td>11514330</td>\n",
              "    </tr>\n",
              "    <tr>\n",
              "      <th>1</th>\n",
              "      <td>Санкт-Петербург</td>\n",
              "      <td>4848742</td>\n",
              "    </tr>\n",
              "    <tr>\n",
              "      <th>2</th>\n",
              "      <td>Новосибирск</td>\n",
              "      <td>1473737</td>\n",
              "    </tr>\n",
              "    <tr>\n",
              "      <th>3</th>\n",
              "      <td>Екатеринбург</td>\n",
              "      <td>1350136</td>\n",
              "    </tr>\n",
              "    <tr>\n",
              "      <th>4</th>\n",
              "      <td>Нижний Новгород</td>\n",
              "      <td>1250615</td>\n",
              "    </tr>\n",
              "  </tbody>\n",
              "</table>\n",
              "</div>"
            ],
            "text/plain": [
              "              city  population\n",
              "0           Москва    11514330\n",
              "1  Санкт-Петербург     4848742\n",
              "2      Новосибирск     1473737\n",
              "3     Екатеринбург     1350136\n",
              "4  Нижний Новгород     1250615"
            ]
          },
          "metadata": {
            "tags": []
          },
          "execution_count": 14
        }
      ]
    },
    {
      "cell_type": "code",
      "metadata": {
        "id": "c2kt1ceXEr62",
        "colab_type": "code",
        "colab": {
          "base_uri": "https://localhost:8080/",
          "height": 170
        },
        "outputId": "0b5c79a8-1438-4961-ffbd-83e96eb10978"
      },
      "source": [
        "cities.info()"
      ],
      "execution_count": null,
      "outputs": [
        {
          "output_type": "stream",
          "text": [
            "<class 'pandas.core.frame.DataFrame'>\n",
            "RangeIndex: 1109 entries, 0 to 1108\n",
            "Data columns (total 2 columns):\n",
            " #   Column      Non-Null Count  Dtype \n",
            "---  ------      --------------  ----- \n",
            " 0   city        1109 non-null   object\n",
            " 1   population  1109 non-null   int64 \n",
            "dtypes: int64(1), object(1)\n",
            "memory usage: 17.5+ KB\n"
          ],
          "name": "stdout"
        }
      ]
    },
    {
      "cell_type": "code",
      "metadata": {
        "id": "yHvWJuwTEy2D",
        "colab_type": "code",
        "colab": {
          "base_uri": "https://localhost:8080/",
          "height": 204
        },
        "outputId": "3bf87179-15e8-40f3-e3c7-a52fe4d1f4e0"
      },
      "source": [
        "# Добавим данные по численности к основному датасету\n",
        "data_merged = data.merge(cities, how='left', left_on='city', right_on='city')\n",
        "data_merged.head()"
      ],
      "execution_count": null,
      "outputs": [
        {
          "output_type": "execute_result",
          "data": {
            "text/html": [
              "<div>\n",
              "<style scoped>\n",
              "    .dataframe tbody tr th:only-of-type {\n",
              "        vertical-align: middle;\n",
              "    }\n",
              "\n",
              "    .dataframe tbody tr th {\n",
              "        vertical-align: top;\n",
              "    }\n",
              "\n",
              "    .dataframe thead th {\n",
              "        text-align: right;\n",
              "    }\n",
              "</style>\n",
              "<table border=\"1\" class=\"dataframe\">\n",
              "  <thead>\n",
              "    <tr style=\"text-align: right;\">\n",
              "      <th></th>\n",
              "      <th>position</th>\n",
              "      <th>gender</th>\n",
              "      <th>city</th>\n",
              "      <th>age</th>\n",
              "      <th>salary</th>\n",
              "      <th>experience</th>\n",
              "      <th>population</th>\n",
              "    </tr>\n",
              "  </thead>\n",
              "  <tbody>\n",
              "    <tr>\n",
              "      <th>0</th>\n",
              "      <td>Менеджер по продажам</td>\n",
              "      <td>Женщина</td>\n",
              "      <td>Москва</td>\n",
              "      <td>31</td>\n",
              "      <td>70</td>\n",
              "      <td>8</td>\n",
              "      <td>11514330.0</td>\n",
              "    </tr>\n",
              "    <tr>\n",
              "      <th>1</th>\n",
              "      <td>Клиентский менеджер</td>\n",
              "      <td>Мужчина</td>\n",
              "      <td>Липецк</td>\n",
              "      <td>40</td>\n",
              "      <td>90</td>\n",
              "      <td>15</td>\n",
              "      <td>508124.0</td>\n",
              "    </tr>\n",
              "    <tr>\n",
              "      <th>2</th>\n",
              "      <td>Супервайзер</td>\n",
              "      <td>Мужчина</td>\n",
              "      <td>Самара</td>\n",
              "      <td>34</td>\n",
              "      <td>50</td>\n",
              "      <td>7</td>\n",
              "      <td>1164896.0</td>\n",
              "    </tr>\n",
              "    <tr>\n",
              "      <th>3</th>\n",
              "      <td>Коммерческий директор</td>\n",
              "      <td>Мужчина</td>\n",
              "      <td>Краснодар</td>\n",
              "      <td>47</td>\n",
              "      <td>60</td>\n",
              "      <td>10</td>\n",
              "      <td>744933.0</td>\n",
              "    </tr>\n",
              "    <tr>\n",
              "      <th>4</th>\n",
              "      <td>Менеджер по продажам</td>\n",
              "      <td>Мужчина</td>\n",
              "      <td>Москва</td>\n",
              "      <td>43</td>\n",
              "      <td>50</td>\n",
              "      <td>11</td>\n",
              "      <td>11514330.0</td>\n",
              "    </tr>\n",
              "  </tbody>\n",
              "</table>\n",
              "</div>"
            ],
            "text/plain": [
              "                position   gender       city  ...  salary  experience  population\n",
              "0   Менеджер по продажам  Женщина     Москва  ...      70           8  11514330.0\n",
              "1    Клиентский менеджер  Мужчина     Липецк  ...      90          15    508124.0\n",
              "2            Супервайзер  Мужчина     Самара  ...      50           7   1164896.0\n",
              "3  Коммерческий директор  Мужчина  Краснодар  ...      60          10    744933.0\n",
              "4   Менеджер по продажам  Мужчина     Москва  ...      50          11  11514330.0\n",
              "\n",
              "[5 rows x 7 columns]"
            ]
          },
          "metadata": {
            "tags": []
          },
          "execution_count": 16
        }
      ]
    },
    {
      "cell_type": "code",
      "metadata": {
        "id": "1CQEiddpIG2W",
        "colab_type": "code",
        "colab": {
          "base_uri": "https://localhost:8080/",
          "height": 34
        },
        "outputId": "3175fa59-51d0-4b1a-882d-fc5ea77dab40"
      },
      "source": [
        "# Посмотрим % пропусков в столбце \"population\"\n",
        "empty_values = data_merged['population'].isna().sum() / len (data_merged) * 100\n",
        "print(f'{round(empty_values, 2)}%')"
      ],
      "execution_count": null,
      "outputs": [
        {
          "output_type": "stream",
          "text": [
            "6.69%\n"
          ],
          "name": "stdout"
        }
      ]
    },
    {
      "cell_type": "code",
      "metadata": {
        "id": "JLufxiQdInuR",
        "colab_type": "code",
        "colab": {
          "base_uri": "https://localhost:8080/",
          "height": 255
        },
        "outputId": "e63ce3a4-f124-407b-dff6-8428b17ac9d6"
      },
      "source": [
        "# Пропуски есть, но не критично много\n",
        "# заполним их средними значениями\n",
        "data_merged['population'] = data_merged['population'].fillna(\n",
        "                            data_merged['population'].mean())\n",
        "# И преобразуем float к int\n",
        "data_merged['population'] = data_merged['population'].astype(np.int)\n",
        "data_merged.info()"
      ],
      "execution_count": null,
      "outputs": [
        {
          "output_type": "stream",
          "text": [
            "<class 'pandas.core.frame.DataFrame'>\n",
            "Int64Index: 3169 entries, 0 to 3168\n",
            "Data columns (total 7 columns):\n",
            " #   Column      Non-Null Count  Dtype \n",
            "---  ------      --------------  ----- \n",
            " 0   position    3169 non-null   object\n",
            " 1   gender      3169 non-null   object\n",
            " 2   city        3169 non-null   object\n",
            " 3   age         3169 non-null   int64 \n",
            " 4   salary      3169 non-null   int64 \n",
            " 5   experience  3169 non-null   int64 \n",
            " 6   population  3169 non-null   int64 \n",
            "dtypes: int64(4), object(3)\n",
            "memory usage: 198.1+ KB\n"
          ],
          "name": "stdout"
        }
      ]
    },
    {
      "cell_type": "code",
      "metadata": {
        "id": "sgzpCHXaJvPF",
        "colab_type": "code",
        "colab": {
          "base_uri": "https://localhost:8080/",
          "height": 204
        },
        "outputId": "fa971a91-acc1-41fc-be80-9d1a39e1d9bc"
      },
      "source": [
        "data_merged.head()"
      ],
      "execution_count": null,
      "outputs": [
        {
          "output_type": "execute_result",
          "data": {
            "text/html": [
              "<div>\n",
              "<style scoped>\n",
              "    .dataframe tbody tr th:only-of-type {\n",
              "        vertical-align: middle;\n",
              "    }\n",
              "\n",
              "    .dataframe tbody tr th {\n",
              "        vertical-align: top;\n",
              "    }\n",
              "\n",
              "    .dataframe thead th {\n",
              "        text-align: right;\n",
              "    }\n",
              "</style>\n",
              "<table border=\"1\" class=\"dataframe\">\n",
              "  <thead>\n",
              "    <tr style=\"text-align: right;\">\n",
              "      <th></th>\n",
              "      <th>position</th>\n",
              "      <th>gender</th>\n",
              "      <th>city</th>\n",
              "      <th>age</th>\n",
              "      <th>salary</th>\n",
              "      <th>experience</th>\n",
              "      <th>population</th>\n",
              "    </tr>\n",
              "  </thead>\n",
              "  <tbody>\n",
              "    <tr>\n",
              "      <th>0</th>\n",
              "      <td>Менеджер по продажам</td>\n",
              "      <td>Женщина</td>\n",
              "      <td>Москва</td>\n",
              "      <td>31</td>\n",
              "      <td>70</td>\n",
              "      <td>8</td>\n",
              "      <td>11514330</td>\n",
              "    </tr>\n",
              "    <tr>\n",
              "      <th>1</th>\n",
              "      <td>Клиентский менеджер</td>\n",
              "      <td>Мужчина</td>\n",
              "      <td>Липецк</td>\n",
              "      <td>40</td>\n",
              "      <td>90</td>\n",
              "      <td>15</td>\n",
              "      <td>508124</td>\n",
              "    </tr>\n",
              "    <tr>\n",
              "      <th>2</th>\n",
              "      <td>Супервайзер</td>\n",
              "      <td>Мужчина</td>\n",
              "      <td>Самара</td>\n",
              "      <td>34</td>\n",
              "      <td>50</td>\n",
              "      <td>7</td>\n",
              "      <td>1164896</td>\n",
              "    </tr>\n",
              "    <tr>\n",
              "      <th>3</th>\n",
              "      <td>Коммерческий директор</td>\n",
              "      <td>Мужчина</td>\n",
              "      <td>Краснодар</td>\n",
              "      <td>47</td>\n",
              "      <td>60</td>\n",
              "      <td>10</td>\n",
              "      <td>744933</td>\n",
              "    </tr>\n",
              "    <tr>\n",
              "      <th>4</th>\n",
              "      <td>Менеджер по продажам</td>\n",
              "      <td>Мужчина</td>\n",
              "      <td>Москва</td>\n",
              "      <td>43</td>\n",
              "      <td>50</td>\n",
              "      <td>11</td>\n",
              "      <td>11514330</td>\n",
              "    </tr>\n",
              "  </tbody>\n",
              "</table>\n",
              "</div>"
            ],
            "text/plain": [
              "                position   gender       city  ...  salary  experience  population\n",
              "0   Менеджер по продажам  Женщина     Москва  ...      70           8    11514330\n",
              "1    Клиентский менеджер  Мужчина     Липецк  ...      90          15      508124\n",
              "2            Супервайзер  Мужчина     Самара  ...      50           7     1164896\n",
              "3  Коммерческий директор  Мужчина  Краснодар  ...      60          10      744933\n",
              "4   Менеджер по продажам  Мужчина     Москва  ...      50          11    11514330\n",
              "\n",
              "[5 rows x 7 columns]"
            ]
          },
          "metadata": {
            "tags": []
          },
          "execution_count": 19
        }
      ]
    },
    {
      "cell_type": "code",
      "metadata": {
        "id": "_Xg1p5HU1tat",
        "colab_type": "code",
        "colab": {
          "base_uri": "https://localhost:8080/",
          "height": 204
        },
        "outputId": "6a68fa15-0365-4c43-d76d-70e3a6ab9001"
      },
      "source": [
        "# Далее, преобразуем категориальные признаки в числовые\n",
        "data_merged['gender_lbl'] = data_merged['gender'].apply(\n",
        "                            lambda x: 1 if x == 'Мужчина' else 0\n",
        "                            )\n",
        "data_merged.head()"
      ],
      "execution_count": null,
      "outputs": [
        {
          "output_type": "execute_result",
          "data": {
            "text/html": [
              "<div>\n",
              "<style scoped>\n",
              "    .dataframe tbody tr th:only-of-type {\n",
              "        vertical-align: middle;\n",
              "    }\n",
              "\n",
              "    .dataframe tbody tr th {\n",
              "        vertical-align: top;\n",
              "    }\n",
              "\n",
              "    .dataframe thead th {\n",
              "        text-align: right;\n",
              "    }\n",
              "</style>\n",
              "<table border=\"1\" class=\"dataframe\">\n",
              "  <thead>\n",
              "    <tr style=\"text-align: right;\">\n",
              "      <th></th>\n",
              "      <th>position</th>\n",
              "      <th>gender</th>\n",
              "      <th>city</th>\n",
              "      <th>age</th>\n",
              "      <th>salary</th>\n",
              "      <th>experience</th>\n",
              "      <th>population</th>\n",
              "      <th>gender_lbl</th>\n",
              "    </tr>\n",
              "  </thead>\n",
              "  <tbody>\n",
              "    <tr>\n",
              "      <th>0</th>\n",
              "      <td>Менеджер по продажам</td>\n",
              "      <td>Женщина</td>\n",
              "      <td>Москва</td>\n",
              "      <td>31</td>\n",
              "      <td>70</td>\n",
              "      <td>8</td>\n",
              "      <td>11514330</td>\n",
              "      <td>0</td>\n",
              "    </tr>\n",
              "    <tr>\n",
              "      <th>1</th>\n",
              "      <td>Клиентский менеджер</td>\n",
              "      <td>Мужчина</td>\n",
              "      <td>Липецк</td>\n",
              "      <td>40</td>\n",
              "      <td>90</td>\n",
              "      <td>15</td>\n",
              "      <td>508124</td>\n",
              "      <td>1</td>\n",
              "    </tr>\n",
              "    <tr>\n",
              "      <th>2</th>\n",
              "      <td>Супервайзер</td>\n",
              "      <td>Мужчина</td>\n",
              "      <td>Самара</td>\n",
              "      <td>34</td>\n",
              "      <td>50</td>\n",
              "      <td>7</td>\n",
              "      <td>1164896</td>\n",
              "      <td>1</td>\n",
              "    </tr>\n",
              "    <tr>\n",
              "      <th>3</th>\n",
              "      <td>Коммерческий директор</td>\n",
              "      <td>Мужчина</td>\n",
              "      <td>Краснодар</td>\n",
              "      <td>47</td>\n",
              "      <td>60</td>\n",
              "      <td>10</td>\n",
              "      <td>744933</td>\n",
              "      <td>1</td>\n",
              "    </tr>\n",
              "    <tr>\n",
              "      <th>4</th>\n",
              "      <td>Менеджер по продажам</td>\n",
              "      <td>Мужчина</td>\n",
              "      <td>Москва</td>\n",
              "      <td>43</td>\n",
              "      <td>50</td>\n",
              "      <td>11</td>\n",
              "      <td>11514330</td>\n",
              "      <td>1</td>\n",
              "    </tr>\n",
              "  </tbody>\n",
              "</table>\n",
              "</div>"
            ],
            "text/plain": [
              "                position   gender  ... population  gender_lbl\n",
              "0   Менеджер по продажам  Женщина  ...   11514330           0\n",
              "1    Клиентский менеджер  Мужчина  ...     508124           1\n",
              "2            Супервайзер  Мужчина  ...    1164896           1\n",
              "3  Коммерческий директор  Мужчина  ...     744933           1\n",
              "4   Менеджер по продажам  Мужчина  ...   11514330           1\n",
              "\n",
              "[5 rows x 8 columns]"
            ]
          },
          "metadata": {
            "tags": []
          },
          "execution_count": 20
        }
      ]
    },
    {
      "cell_type": "code",
      "metadata": {
        "id": "Zkrnpu9NdRo9",
        "colab_type": "code",
        "colab": {
          "base_uri": "https://localhost:8080/",
          "height": 315
        },
        "outputId": "9b524cf7-d7f5-4005-eb33-d5f59d602633"
      },
      "source": [
        "# Посмотрим на зависимости между признаками\n",
        "\n",
        "from seaborn import heatmap\n",
        "\n",
        "heatmap(\n",
        "    data_merged[['salary', \n",
        "                 'age', \n",
        "                 'experience', \n",
        "                 'population', \n",
        "                 'gender_lbl']\n",
        "                ].corr());"
      ],
      "execution_count": null,
      "outputs": [
        {
          "output_type": "display_data",
          "data": {
            "image/png": "[encoded data removed]",
            "text/plain": [
              "<Figure size 432x288 with 2 Axes>"
            ]
          },
          "metadata": {
            "tags": [],
            "needs_background": "light"
          }
        }
      ]
    },
    {
      "cell_type": "markdown",
      "metadata": {
        "id": "ywIo6ZpLftD7",
        "colab_type": "text"
      },
      "source": [
        "Как видно, самая сильная зависимость уровня ожиданий - от численности населения города проживания (в крупных городах ожидания явно выше)"
      ]
    },
    {
      "cell_type": "code",
      "metadata": {
        "id": "yfAhvXI77NYf",
        "colab_type": "code",
        "colab": {
          "base_uri": "https://localhost:8080/",
          "height": 241
        },
        "outputId": "e6309228-fc22-4e59-ad65-f72caac04598"
      },
      "source": [
        "# Добавим фиктивные переменные к датасету из наименований позиций\n",
        "# при помощи метода \"One-hot encoding\"\n",
        "data_dummy = pd.get_dummies(data_merged.drop(['city', 'gender'], axis=1))\n",
        "data_dummy.head()"
      ],
      "execution_count": null,
      "outputs": [
        {
          "output_type": "execute_result",
          "data": {
            "text/html": [
              "<div>\n",
              "<style scoped>\n",
              "    .dataframe tbody tr th:only-of-type {\n",
              "        vertical-align: middle;\n",
              "    }\n",
              "\n",
              "    .dataframe tbody tr th {\n",
              "        vertical-align: top;\n",
              "    }\n",
              "\n",
              "    .dataframe thead th {\n",
              "        text-align: right;\n",
              "    }\n",
              "</style>\n",
              "<table border=\"1\" class=\"dataframe\">\n",
              "  <thead>\n",
              "    <tr style=\"text-align: right;\">\n",
              "      <th></th>\n",
              "      <th>age</th>\n",
              "      <th>salary</th>\n",
              "      <th>experience</th>\n",
              "      <th>population</th>\n",
              "      <th>gender_lbl</th>\n",
              "      <th>position_Администратор</th>\n",
              "      <th>position_Водитель</th>\n",
              "      <th>position_Кам</th>\n",
              "      <th>position_Кассир</th>\n",
              "      <th>position_Кладовщик</th>\n",
              "      <th>position_Клиентский менеджер</th>\n",
              "      <th>position_Коммерческий директор</th>\n",
              "      <th>position_Курьер</th>\n",
              "      <th>position_Менеджер по закупкам</th>\n",
              "      <th>position_Менеджер по продажам</th>\n",
              "      <th>position_Менеджер по развитию</th>\n",
              "      <th>position_Мерчендайзер</th>\n",
              "      <th>position_Оператор</th>\n",
              "      <th>position_Помощник менеджера</th>\n",
              "      <th>position_Продавец-консультант</th>\n",
              "      <th>position_Региональный менеджер</th>\n",
              "      <th>position_Руководитель продаж</th>\n",
              "      <th>position_Специалист</th>\n",
              "      <th>position_Супервайзер</th>\n",
              "      <th>position_Территориальный менеджер</th>\n",
              "      <th>position_Товаровед</th>\n",
              "      <th>position_Торговый представитель</th>\n",
              "      <th>position_Управляющий магазином</th>\n",
              "    </tr>\n",
              "  </thead>\n",
              "  <tbody>\n",
              "    <tr>\n",
              "      <th>0</th>\n",
              "      <td>31</td>\n",
              "      <td>70</td>\n",
              "      <td>8</td>\n",
              "      <td>11514330</td>\n",
              "      <td>0</td>\n",
              "      <td>0</td>\n",
              "      <td>0</td>\n",
              "      <td>0</td>\n",
              "      <td>0</td>\n",
              "      <td>0</td>\n",
              "      <td>0</td>\n",
              "      <td>0</td>\n",
              "      <td>0</td>\n",
              "      <td>0</td>\n",
              "      <td>1</td>\n",
              "      <td>0</td>\n",
              "      <td>0</td>\n",
              "      <td>0</td>\n",
              "      <td>0</td>\n",
              "      <td>0</td>\n",
              "      <td>0</td>\n",
              "      <td>0</td>\n",
              "      <td>0</td>\n",
              "      <td>0</td>\n",
              "      <td>0</td>\n",
              "      <td>0</td>\n",
              "      <td>0</td>\n",
              "      <td>0</td>\n",
              "    </tr>\n",
              "    <tr>\n",
              "      <th>1</th>\n",
              "      <td>40</td>\n",
              "      <td>90</td>\n",
              "      <td>15</td>\n",
              "      <td>508124</td>\n",
              "      <td>1</td>\n",
              "      <td>0</td>\n",
              "      <td>0</td>\n",
              "      <td>0</td>\n",
              "      <td>0</td>\n",
              "      <td>0</td>\n",
              "      <td>1</td>\n",
              "      <td>0</td>\n",
              "      <td>0</td>\n",
              "      <td>0</td>\n",
              "      <td>0</td>\n",
              "      <td>0</td>\n",
              "      <td>0</td>\n",
              "      <td>0</td>\n",
              "      <td>0</td>\n",
              "      <td>0</td>\n",
              "      <td>0</td>\n",
              "      <td>0</td>\n",
              "      <td>0</td>\n",
              "      <td>0</td>\n",
              "      <td>0</td>\n",
              "      <td>0</td>\n",
              "      <td>0</td>\n",
              "      <td>0</td>\n",
              "    </tr>\n",
              "    <tr>\n",
              "      <th>2</th>\n",
              "      <td>34</td>\n",
              "      <td>50</td>\n",
              "      <td>7</td>\n",
              "      <td>1164896</td>\n",
              "      <td>1</td>\n",
              "      <td>0</td>\n",
              "      <td>0</td>\n",
              "      <td>0</td>\n",
              "      <td>0</td>\n",
              "      <td>0</td>\n",
              "      <td>0</td>\n",
              "      <td>0</td>\n",
              "      <td>0</td>\n",
              "      <td>0</td>\n",
              "      <td>0</td>\n",
              "      <td>0</td>\n",
              "      <td>0</td>\n",
              "      <td>0</td>\n",
              "      <td>0</td>\n",
              "      <td>0</td>\n",
              "      <td>0</td>\n",
              "      <td>0</td>\n",
              "      <td>0</td>\n",
              "      <td>1</td>\n",
              "      <td>0</td>\n",
              "      <td>0</td>\n",
              "      <td>0</td>\n",
              "      <td>0</td>\n",
              "    </tr>\n",
              "    <tr>\n",
              "      <th>3</th>\n",
              "      <td>47</td>\n",
              "      <td>60</td>\n",
              "      <td>10</td>\n",
              "      <td>744933</td>\n",
              "      <td>1</td>\n",
              "      <td>0</td>\n",
              "      <td>0</td>\n",
              "      <td>0</td>\n",
              "      <td>0</td>\n",
              "      <td>0</td>\n",
              "      <td>0</td>\n",
              "      <td>1</td>\n",
              "      <td>0</td>\n",
              "      <td>0</td>\n",
              "      <td>0</td>\n",
              "      <td>0</td>\n",
              "      <td>0</td>\n",
              "      <td>0</td>\n",
              "      <td>0</td>\n",
              "      <td>0</td>\n",
              "      <td>0</td>\n",
              "      <td>0</td>\n",
              "      <td>0</td>\n",
              "      <td>0</td>\n",
              "      <td>0</td>\n",
              "      <td>0</td>\n",
              "      <td>0</td>\n",
              "      <td>0</td>\n",
              "    </tr>\n",
              "    <tr>\n",
              "      <th>4</th>\n",
              "      <td>43</td>\n",
              "      <td>50</td>\n",
              "      <td>11</td>\n",
              "      <td>11514330</td>\n",
              "      <td>1</td>\n",
              "      <td>0</td>\n",
              "      <td>0</td>\n",
              "      <td>0</td>\n",
              "      <td>0</td>\n",
              "      <td>0</td>\n",
              "      <td>0</td>\n",
              "      <td>0</td>\n",
              "      <td>0</td>\n",
              "      <td>0</td>\n",
              "      <td>1</td>\n",
              "      <td>0</td>\n",
              "      <td>0</td>\n",
              "      <td>0</td>\n",
              "      <td>0</td>\n",
              "      <td>0</td>\n",
              "      <td>0</td>\n",
              "      <td>0</td>\n",
              "      <td>0</td>\n",
              "      <td>0</td>\n",
              "      <td>0</td>\n",
              "      <td>0</td>\n",
              "      <td>0</td>\n",
              "      <td>0</td>\n",
              "    </tr>\n",
              "  </tbody>\n",
              "</table>\n",
              "</div>"
            ],
            "text/plain": [
              "   age  salary  ...  position_Торговый представитель  position_Управляющий магазином\n",
              "0   31      70  ...                                0                               0\n",
              "1   40      90  ...                                0                               0\n",
              "2   34      50  ...                                0                               0\n",
              "3   47      60  ...                                0                               0\n",
              "4   43      50  ...                                0                               0\n",
              "\n",
              "[5 rows x 28 columns]"
            ]
          },
          "metadata": {
            "tags": []
          },
          "execution_count": 23
        }
      ]
    },
    {
      "cell_type": "code",
      "metadata": {
        "id": "l_dlgxGy5B6g",
        "colab_type": "code",
        "colab": {
          "base_uri": "https://localhost:8080/",
          "height": 265
        },
        "outputId": "4a09ee82-ab69-47d5-d7e8-8008115535fb"
      },
      "source": [
        "# Посмотрим на частые позиции\n",
        "import seaborn as sns\n",
        "import matplotlib.pyplot as plt\n",
        "\n",
        "db = data_dummy.drop(['age',\t'salary',\t'experience',\t\n",
        "                       'population',\t'gender_lbl'], axis=1)\n",
        "\n",
        "sns.barplot(x = db.sum(), \n",
        "            y = db.sum().index);"
      ],
      "execution_count": null,
      "outputs": [
        {
          "output_type": "display_data",
          "data": {
            "image/png": "[encoded data removed]",
            "text/plain": [
              "<Figure size 432x288 with 1 Axes>"
            ]
          },
          "metadata": {
            "tags": [],
            "needs_background": "light"
          }
        }
      ]
    },
    {
      "cell_type": "code",
      "metadata": {
        "id": "fmBNzSNaqHtw",
        "colab_type": "code",
        "colab": {
          "base_uri": "https://localhost:8080/",
          "height": 34
        },
        "outputId": "ef8fec5c-22fb-4b94-dcce-25c7df4d38eb"
      },
      "source": [
        "# Как видно, данные по позициям очень неоднородны\n",
        "# Случайным образом \"перемешаем\" и добавим частями\n",
        "# уже имеющиеся данные в датасет\n",
        "\n",
        "from sklearn.utils import shuffle\n",
        "import random\n",
        "\n",
        "for i in range(30000):\n",
        "  data_shuffle = shuffle(data_dummy).head(10)\n",
        "  data_dummy = data_dummy.append(data_shuffle)\n",
        "\n",
        "len(data_dummy)"
      ],
      "execution_count": null,
      "outputs": [
        {
          "output_type": "execute_result",
          "data": {
            "text/plain": [
              "303169"
            ]
          },
          "metadata": {
            "tags": []
          },
          "execution_count": 25
        }
      ]
    },
    {
      "cell_type": "code",
      "metadata": {
        "id": "sO_b41ULyTo6",
        "colab_type": "code",
        "colab": {}
      },
      "source": [
        "# Теперь выберем по 400 случайных строк по каждой позиции\n",
        "\n",
        "balanced_data = pd.DataFrame()\n",
        "\n",
        "for i in data_dummy.columns[5:]:\n",
        "  data_filtred = data_dummy[data_dummy[i] == 1].head(400)\n",
        "  balanced_data = balanced_data.append(data_filtred)\n",
        "  balanced_data.index = range(len(balanced_data.index))\n",
        "\n",
        "balanced_data.to_excel(f'{wdir}/balanced_data.xlsx')"
      ],
      "execution_count": null,
      "outputs": []
    },
    {
      "cell_type": "code",
      "metadata": {
        "id": "WNtQNkvaWtqG",
        "colab_type": "code",
        "colab": {
          "base_uri": "https://localhost:8080/",
          "height": 232
        },
        "outputId": "fd374296-fc21-432c-f56d-7d05be3ddc35"
      },
      "source": [
        "# Загрузим подготовленные данные\n",
        "balanced_data = pd.read_excel(f'{wdir}/balanced_data.xlsx')\n",
        "balanced_data = balanced_data.drop('Unnamed: 0', axis=1)\n",
        "balanced_data.head()"
      ],
      "execution_count": 3,
      "outputs": [
        {
          "output_type": "execute_result",
          "data": {
            "text/html": [
              "<div>\n",
              "<style scoped>\n",
              "    .dataframe tbody tr th:only-of-type {\n",
              "        vertical-align: middle;\n",
              "    }\n",
              "\n",
              "    .dataframe tbody tr th {\n",
              "        vertical-align: top;\n",
              "    }\n",
              "\n",
              "    .dataframe thead th {\n",
              "        text-align: right;\n",
              "    }\n",
              "</style>\n",
              "<table border=\"1\" class=\"dataframe\">\n",
              "  <thead>\n",
              "    <tr style=\"text-align: right;\">\n",
              "      <th></th>\n",
              "      <th>age</th>\n",
              "      <th>salary</th>\n",
              "      <th>experience</th>\n",
              "      <th>population</th>\n",
              "      <th>gender_lbl</th>\n",
              "      <th>position_Администратор</th>\n",
              "      <th>position_Водитель</th>\n",
              "      <th>position_Кам</th>\n",
              "      <th>position_Кассир</th>\n",
              "      <th>position_Кладовщик</th>\n",
              "      <th>position_Клиентский менеджер</th>\n",
              "      <th>position_Коммерческий директор</th>\n",
              "      <th>position_Курьер</th>\n",
              "      <th>position_Менеджер по закупкам</th>\n",
              "      <th>position_Менеджер по продажам</th>\n",
              "      <th>position_Менеджер по развитию</th>\n",
              "      <th>position_Мерчендайзер</th>\n",
              "      <th>position_Оператор</th>\n",
              "      <th>position_Помощник менеджера</th>\n",
              "      <th>position_Продавец-консультант</th>\n",
              "      <th>position_Региональный менеджер</th>\n",
              "      <th>position_Руководитель продаж</th>\n",
              "      <th>position_Специалист</th>\n",
              "      <th>position_Супервайзер</th>\n",
              "      <th>position_Территориальный менеджер</th>\n",
              "      <th>position_Товаровед</th>\n",
              "      <th>position_Торговый представитель</th>\n",
              "      <th>position_Управляющий магазином</th>\n",
              "    </tr>\n",
              "  </thead>\n",
              "  <tbody>\n",
              "    <tr>\n",
              "      <th>0</th>\n",
              "      <td>31</td>\n",
              "      <td>60</td>\n",
              "      <td>8</td>\n",
              "      <td>11514330</td>\n",
              "      <td>1</td>\n",
              "      <td>1</td>\n",
              "      <td>0</td>\n",
              "      <td>0</td>\n",
              "      <td>0</td>\n",
              "      <td>0</td>\n",
              "      <td>0</td>\n",
              "      <td>0</td>\n",
              "      <td>0</td>\n",
              "      <td>0</td>\n",
              "      <td>0</td>\n",
              "      <td>0</td>\n",
              "      <td>0</td>\n",
              "      <td>0</td>\n",
              "      <td>0</td>\n",
              "      <td>0</td>\n",
              "      <td>0</td>\n",
              "      <td>0</td>\n",
              "      <td>0</td>\n",
              "      <td>0</td>\n",
              "      <td>0</td>\n",
              "      <td>0</td>\n",
              "      <td>0</td>\n",
              "      <td>0</td>\n",
              "    </tr>\n",
              "    <tr>\n",
              "      <th>1</th>\n",
              "      <td>31</td>\n",
              "      <td>60</td>\n",
              "      <td>8</td>\n",
              "      <td>11514330</td>\n",
              "      <td>1</td>\n",
              "      <td>1</td>\n",
              "      <td>0</td>\n",
              "      <td>0</td>\n",
              "      <td>0</td>\n",
              "      <td>0</td>\n",
              "      <td>0</td>\n",
              "      <td>0</td>\n",
              "      <td>0</td>\n",
              "      <td>0</td>\n",
              "      <td>0</td>\n",
              "      <td>0</td>\n",
              "      <td>0</td>\n",
              "      <td>0</td>\n",
              "      <td>0</td>\n",
              "      <td>0</td>\n",
              "      <td>0</td>\n",
              "      <td>0</td>\n",
              "      <td>0</td>\n",
              "      <td>0</td>\n",
              "      <td>0</td>\n",
              "      <td>0</td>\n",
              "      <td>0</td>\n",
              "      <td>0</td>\n",
              "    </tr>\n",
              "    <tr>\n",
              "      <th>2</th>\n",
              "      <td>29</td>\n",
              "      <td>50</td>\n",
              "      <td>7</td>\n",
              "      <td>11514330</td>\n",
              "      <td>0</td>\n",
              "      <td>1</td>\n",
              "      <td>0</td>\n",
              "      <td>0</td>\n",
              "      <td>0</td>\n",
              "      <td>0</td>\n",
              "      <td>0</td>\n",
              "      <td>0</td>\n",
              "      <td>0</td>\n",
              "      <td>0</td>\n",
              "      <td>0</td>\n",
              "      <td>0</td>\n",
              "      <td>0</td>\n",
              "      <td>0</td>\n",
              "      <td>0</td>\n",
              "      <td>0</td>\n",
              "      <td>0</td>\n",
              "      <td>0</td>\n",
              "      <td>0</td>\n",
              "      <td>0</td>\n",
              "      <td>0</td>\n",
              "      <td>0</td>\n",
              "      <td>0</td>\n",
              "      <td>0</td>\n",
              "    </tr>\n",
              "    <tr>\n",
              "      <th>3</th>\n",
              "      <td>29</td>\n",
              "      <td>50</td>\n",
              "      <td>7</td>\n",
              "      <td>11514330</td>\n",
              "      <td>0</td>\n",
              "      <td>1</td>\n",
              "      <td>0</td>\n",
              "      <td>0</td>\n",
              "      <td>0</td>\n",
              "      <td>0</td>\n",
              "      <td>0</td>\n",
              "      <td>0</td>\n",
              "      <td>0</td>\n",
              "      <td>0</td>\n",
              "      <td>0</td>\n",
              "      <td>0</td>\n",
              "      <td>0</td>\n",
              "      <td>0</td>\n",
              "      <td>0</td>\n",
              "      <td>0</td>\n",
              "      <td>0</td>\n",
              "      <td>0</td>\n",
              "      <td>0</td>\n",
              "      <td>0</td>\n",
              "      <td>0</td>\n",
              "      <td>0</td>\n",
              "      <td>0</td>\n",
              "      <td>0</td>\n",
              "    </tr>\n",
              "    <tr>\n",
              "      <th>4</th>\n",
              "      <td>33</td>\n",
              "      <td>55</td>\n",
              "      <td>12</td>\n",
              "      <td>11514330</td>\n",
              "      <td>0</td>\n",
              "      <td>1</td>\n",
              "      <td>0</td>\n",
              "      <td>0</td>\n",
              "      <td>0</td>\n",
              "      <td>0</td>\n",
              "      <td>0</td>\n",
              "      <td>0</td>\n",
              "      <td>0</td>\n",
              "      <td>0</td>\n",
              "      <td>0</td>\n",
              "      <td>0</td>\n",
              "      <td>0</td>\n",
              "      <td>0</td>\n",
              "      <td>0</td>\n",
              "      <td>0</td>\n",
              "      <td>0</td>\n",
              "      <td>0</td>\n",
              "      <td>0</td>\n",
              "      <td>0</td>\n",
              "      <td>0</td>\n",
              "      <td>0</td>\n",
              "      <td>0</td>\n",
              "      <td>0</td>\n",
              "    </tr>\n",
              "  </tbody>\n",
              "</table>\n",
              "</div>"
            ],
            "text/plain": [
              "   age  salary  ...  position_Торговый представитель  position_Управляющий магазином\n",
              "0   31      60  ...                                0                               0\n",
              "1   31      60  ...                                0                               0\n",
              "2   29      50  ...                                0                               0\n",
              "3   29      50  ...                                0                               0\n",
              "4   33      55  ...                                0                               0\n",
              "\n",
              "[5 rows x 28 columns]"
            ]
          },
          "metadata": {
            "tags": []
          },
          "execution_count": 3
        }
      ]
    },
    {
      "cell_type": "code",
      "metadata": {
        "id": "MisnVcJe1cDN",
        "colab_type": "code",
        "colab": {
          "base_uri": "https://localhost:8080/",
          "height": 321
        },
        "outputId": "77e1662d-3714-4418-a704-98c6f465208d"
      },
      "source": [
        "balanced_data.describe()"
      ],
      "execution_count": 5,
      "outputs": [
        {
          "output_type": "execute_result",
          "data": {
            "text/html": [
              "<div>\n",
              "<style scoped>\n",
              "    .dataframe tbody tr th:only-of-type {\n",
              "        vertical-align: middle;\n",
              "    }\n",
              "\n",
              "    .dataframe tbody tr th {\n",
              "        vertical-align: top;\n",
              "    }\n",
              "\n",
              "    .dataframe thead th {\n",
              "        text-align: right;\n",
              "    }\n",
              "</style>\n",
              "<table border=\"1\" class=\"dataframe\">\n",
              "  <thead>\n",
              "    <tr style=\"text-align: right;\">\n",
              "      <th></th>\n",
              "      <th>age</th>\n",
              "      <th>salary</th>\n",
              "      <th>experience</th>\n",
              "      <th>population</th>\n",
              "      <th>gender_lbl</th>\n",
              "      <th>position_Администратор</th>\n",
              "      <th>position_Водитель</th>\n",
              "      <th>position_Кам</th>\n",
              "      <th>position_Кассир</th>\n",
              "      <th>position_Кладовщик</th>\n",
              "      <th>position_Клиентский менеджер</th>\n",
              "      <th>position_Коммерческий директор</th>\n",
              "      <th>position_Курьер</th>\n",
              "      <th>position_Менеджер по закупкам</th>\n",
              "      <th>position_Менеджер по продажам</th>\n",
              "      <th>position_Менеджер по развитию</th>\n",
              "      <th>position_Мерчендайзер</th>\n",
              "      <th>position_Оператор</th>\n",
              "      <th>position_Помощник менеджера</th>\n",
              "      <th>position_Продавец-консультант</th>\n",
              "      <th>position_Региональный менеджер</th>\n",
              "      <th>position_Руководитель продаж</th>\n",
              "      <th>position_Специалист</th>\n",
              "      <th>position_Супервайзер</th>\n",
              "      <th>position_Территориальный менеджер</th>\n",
              "      <th>position_Товаровед</th>\n",
              "      <th>position_Торговый представитель</th>\n",
              "      <th>position_Управляющий магазином</th>\n",
              "    </tr>\n",
              "  </thead>\n",
              "  <tbody>\n",
              "    <tr>\n",
              "      <th>count</th>\n",
              "      <td>7312.000000</td>\n",
              "      <td>7312.000000</td>\n",
              "      <td>7312.000000</td>\n",
              "      <td>7.312000e+03</td>\n",
              "      <td>7312.000000</td>\n",
              "      <td>7312.000000</td>\n",
              "      <td>7312.000000</td>\n",
              "      <td>7312.000000</td>\n",
              "      <td>7312.000000</td>\n",
              "      <td>7312.000000</td>\n",
              "      <td>7312.000000</td>\n",
              "      <td>7312.000000</td>\n",
              "      <td>7312.000000</td>\n",
              "      <td>7312.000000</td>\n",
              "      <td>7312.000000</td>\n",
              "      <td>7312.000000</td>\n",
              "      <td>7312.000000</td>\n",
              "      <td>7312.000000</td>\n",
              "      <td>7312.000000</td>\n",
              "      <td>7312.000000</td>\n",
              "      <td>7312.000000</td>\n",
              "      <td>7312.000000</td>\n",
              "      <td>7312.000000</td>\n",
              "      <td>7312.000000</td>\n",
              "      <td>7312.000000</td>\n",
              "      <td>7312.000000</td>\n",
              "      <td>7312.000000</td>\n",
              "      <td>7312.000000</td>\n",
              "    </tr>\n",
              "    <tr>\n",
              "      <th>mean</th>\n",
              "      <td>33.188868</td>\n",
              "      <td>63.462391</td>\n",
              "      <td>10.638950</td>\n",
              "      <td>5.398106e+06</td>\n",
              "      <td>0.673550</td>\n",
              "      <td>0.054705</td>\n",
              "      <td>0.054705</td>\n",
              "      <td>0.019694</td>\n",
              "      <td>0.019283</td>\n",
              "      <td>0.015591</td>\n",
              "      <td>0.054705</td>\n",
              "      <td>0.054705</td>\n",
              "      <td>0.013676</td>\n",
              "      <td>0.027216</td>\n",
              "      <td>0.054705</td>\n",
              "      <td>0.054705</td>\n",
              "      <td>0.054705</td>\n",
              "      <td>0.007112</td>\n",
              "      <td>0.022155</td>\n",
              "      <td>0.054705</td>\n",
              "      <td>0.054705</td>\n",
              "      <td>0.054705</td>\n",
              "      <td>0.054705</td>\n",
              "      <td>0.054705</td>\n",
              "      <td>0.054705</td>\n",
              "      <td>0.054705</td>\n",
              "      <td>0.054705</td>\n",
              "      <td>0.054705</td>\n",
              "    </tr>\n",
              "    <tr>\n",
              "      <th>std</th>\n",
              "      <td>11.316139</td>\n",
              "      <td>35.010079</td>\n",
              "      <td>4.609032</td>\n",
              "      <td>4.863162e+06</td>\n",
              "      <td>0.468946</td>\n",
              "      <td>0.227418</td>\n",
              "      <td>0.227418</td>\n",
              "      <td>0.138955</td>\n",
              "      <td>0.137529</td>\n",
              "      <td>0.123894</td>\n",
              "      <td>0.227418</td>\n",
              "      <td>0.227418</td>\n",
              "      <td>0.116151</td>\n",
              "      <td>0.162722</td>\n",
              "      <td>0.227418</td>\n",
              "      <td>0.227418</td>\n",
              "      <td>0.227418</td>\n",
              "      <td>0.084036</td>\n",
              "      <td>0.147199</td>\n",
              "      <td>0.227418</td>\n",
              "      <td>0.227418</td>\n",
              "      <td>0.227418</td>\n",
              "      <td>0.227418</td>\n",
              "      <td>0.227418</td>\n",
              "      <td>0.227418</td>\n",
              "      <td>0.227418</td>\n",
              "      <td>0.227418</td>\n",
              "      <td>0.227418</td>\n",
              "    </tr>\n",
              "    <tr>\n",
              "      <th>min</th>\n",
              "      <td>0.000000</td>\n",
              "      <td>32.000000</td>\n",
              "      <td>5.000000</td>\n",
              "      <td>1.184800e+04</td>\n",
              "      <td>0.000000</td>\n",
              "      <td>0.000000</td>\n",
              "      <td>0.000000</td>\n",
              "      <td>0.000000</td>\n",
              "      <td>0.000000</td>\n",
              "      <td>0.000000</td>\n",
              "      <td>0.000000</td>\n",
              "      <td>0.000000</td>\n",
              "      <td>0.000000</td>\n",
              "      <td>0.000000</td>\n",
              "      <td>0.000000</td>\n",
              "      <td>0.000000</td>\n",
              "      <td>0.000000</td>\n",
              "      <td>0.000000</td>\n",
              "      <td>0.000000</td>\n",
              "      <td>0.000000</td>\n",
              "      <td>0.000000</td>\n",
              "      <td>0.000000</td>\n",
              "      <td>0.000000</td>\n",
              "      <td>0.000000</td>\n",
              "      <td>0.000000</td>\n",
              "      <td>0.000000</td>\n",
              "      <td>0.000000</td>\n",
              "      <td>0.000000</td>\n",
              "    </tr>\n",
              "    <tr>\n",
              "      <th>25%</th>\n",
              "      <td>28.000000</td>\n",
              "      <td>40.000000</td>\n",
              "      <td>7.000000</td>\n",
              "      <td>8.899890e+05</td>\n",
              "      <td>0.000000</td>\n",
              "      <td>0.000000</td>\n",
              "      <td>0.000000</td>\n",
              "      <td>0.000000</td>\n",
              "      <td>0.000000</td>\n",
              "      <td>0.000000</td>\n",
              "      <td>0.000000</td>\n",
              "      <td>0.000000</td>\n",
              "      <td>0.000000</td>\n",
              "      <td>0.000000</td>\n",
              "      <td>0.000000</td>\n",
              "      <td>0.000000</td>\n",
              "      <td>0.000000</td>\n",
              "      <td>0.000000</td>\n",
              "      <td>0.000000</td>\n",
              "      <td>0.000000</td>\n",
              "      <td>0.000000</td>\n",
              "      <td>0.000000</td>\n",
              "      <td>0.000000</td>\n",
              "      <td>0.000000</td>\n",
              "      <td>0.000000</td>\n",
              "      <td>0.000000</td>\n",
              "      <td>0.000000</td>\n",
              "      <td>0.000000</td>\n",
              "    </tr>\n",
              "    <tr>\n",
              "      <th>50%</th>\n",
              "      <td>34.000000</td>\n",
              "      <td>50.000000</td>\n",
              "      <td>10.000000</td>\n",
              "      <td>4.394741e+06</td>\n",
              "      <td>1.000000</td>\n",
              "      <td>0.000000</td>\n",
              "      <td>0.000000</td>\n",
              "      <td>0.000000</td>\n",
              "      <td>0.000000</td>\n",
              "      <td>0.000000</td>\n",
              "      <td>0.000000</td>\n",
              "      <td>0.000000</td>\n",
              "      <td>0.000000</td>\n",
              "      <td>0.000000</td>\n",
              "      <td>0.000000</td>\n",
              "      <td>0.000000</td>\n",
              "      <td>0.000000</td>\n",
              "      <td>0.000000</td>\n",
              "      <td>0.000000</td>\n",
              "      <td>0.000000</td>\n",
              "      <td>0.000000</td>\n",
              "      <td>0.000000</td>\n",
              "      <td>0.000000</td>\n",
              "      <td>0.000000</td>\n",
              "      <td>0.000000</td>\n",
              "      <td>0.000000</td>\n",
              "      <td>0.000000</td>\n",
              "      <td>0.000000</td>\n",
              "    </tr>\n",
              "    <tr>\n",
              "      <th>75%</th>\n",
              "      <td>40.000000</td>\n",
              "      <td>70.000000</td>\n",
              "      <td>12.000000</td>\n",
              "      <td>1.151433e+07</td>\n",
              "      <td>1.000000</td>\n",
              "      <td>0.000000</td>\n",
              "      <td>0.000000</td>\n",
              "      <td>0.000000</td>\n",
              "      <td>0.000000</td>\n",
              "      <td>0.000000</td>\n",
              "      <td>0.000000</td>\n",
              "      <td>0.000000</td>\n",
              "      <td>0.000000</td>\n",
              "      <td>0.000000</td>\n",
              "      <td>0.000000</td>\n",
              "      <td>0.000000</td>\n",
              "      <td>0.000000</td>\n",
              "      <td>0.000000</td>\n",
              "      <td>0.000000</td>\n",
              "      <td>0.000000</td>\n",
              "      <td>0.000000</td>\n",
              "      <td>0.000000</td>\n",
              "      <td>0.000000</td>\n",
              "      <td>0.000000</td>\n",
              "      <td>0.000000</td>\n",
              "      <td>0.000000</td>\n",
              "      <td>0.000000</td>\n",
              "      <td>0.000000</td>\n",
              "    </tr>\n",
              "    <tr>\n",
              "      <th>max</th>\n",
              "      <td>72.000000</td>\n",
              "      <td>280.000000</td>\n",
              "      <td>50.000000</td>\n",
              "      <td>1.151433e+07</td>\n",
              "      <td>1.000000</td>\n",
              "      <td>1.000000</td>\n",
              "      <td>1.000000</td>\n",
              "      <td>1.000000</td>\n",
              "      <td>1.000000</td>\n",
              "      <td>1.000000</td>\n",
              "      <td>1.000000</td>\n",
              "      <td>1.000000</td>\n",
              "      <td>1.000000</td>\n",
              "      <td>1.000000</td>\n",
              "      <td>1.000000</td>\n",
              "      <td>1.000000</td>\n",
              "      <td>1.000000</td>\n",
              "      <td>1.000000</td>\n",
              "      <td>1.000000</td>\n",
              "      <td>1.000000</td>\n",
              "      <td>1.000000</td>\n",
              "      <td>1.000000</td>\n",
              "      <td>1.000000</td>\n",
              "      <td>1.000000</td>\n",
              "      <td>1.000000</td>\n",
              "      <td>1.000000</td>\n",
              "      <td>1.000000</td>\n",
              "      <td>1.000000</td>\n",
              "    </tr>\n",
              "  </tbody>\n",
              "</table>\n",
              "</div>"
            ],
            "text/plain": [
              "               age  ...  position_Управляющий магазином\n",
              "count  7312.000000  ...                     7312.000000\n",
              "mean     33.188868  ...                        0.054705\n",
              "std      11.316139  ...                        0.227418\n",
              "min       0.000000  ...                        0.000000\n",
              "25%      28.000000  ...                        0.000000\n",
              "50%      34.000000  ...                        0.000000\n",
              "75%      40.000000  ...                        0.000000\n",
              "max      72.000000  ...                        1.000000\n",
              "\n",
              "[8 rows x 28 columns]"
            ]
          },
          "metadata": {
            "tags": []
          },
          "execution_count": 5
        }
      ]
    },
    {
      "cell_type": "code",
      "metadata": {
        "id": "DgAnFV8TpTJf",
        "colab_type": "code",
        "colab": {
          "base_uri": "https://localhost:8080/",
          "height": 612
        },
        "outputId": "402cc538-3fe7-4e34-9aaa-05235258e5f1"
      },
      "source": [
        "balanced_data.info()"
      ],
      "execution_count": null,
      "outputs": [
        {
          "output_type": "stream",
          "text": [
            "<class 'pandas.core.frame.DataFrame'>\n",
            "RangeIndex: 7312 entries, 0 to 7311\n",
            "Data columns (total 28 columns):\n",
            " #   Column                             Non-Null Count  Dtype\n",
            "---  ------                             --------------  -----\n",
            " 0   age                                7312 non-null   int64\n",
            " 1   salary                             7312 non-null   int64\n",
            " 2   experience                         7312 non-null   int64\n",
            " 3   population                         7312 non-null   int64\n",
            " 4   gender_lbl                         7312 non-null   int64\n",
            " 5   position_Администратор             7312 non-null   int64\n",
            " 6   position_Водитель                  7312 non-null   int64\n",
            " 7   position_Кам                       7312 non-null   int64\n",
            " 8   position_Кассир                    7312 non-null   int64\n",
            " 9   position_Кладовщик                 7312 non-null   int64\n",
            " 10  position_Клиентский менеджер       7312 non-null   int64\n",
            " 11  position_Коммерческий директор     7312 non-null   int64\n",
            " 12  position_Курьер                    7312 non-null   int64\n",
            " 13  position_Менеджер по закупкам      7312 non-null   int64\n",
            " 14  position_Менеджер по продажам      7312 non-null   int64\n",
            " 15  position_Менеджер по развитию      7312 non-null   int64\n",
            " 16  position_Мерчендайзер              7312 non-null   int64\n",
            " 17  position_Оператор                  7312 non-null   int64\n",
            " 18  position_Помощник менеджера        7312 non-null   int64\n",
            " 19  position_Продавец-консультант      7312 non-null   int64\n",
            " 20  position_Региональный менеджер     7312 non-null   int64\n",
            " 21  position_Руководитель продаж       7312 non-null   int64\n",
            " 22  position_Специалист                7312 non-null   int64\n",
            " 23  position_Супервайзер               7312 non-null   int64\n",
            " 24  position_Территориальный менеджер  7312 non-null   int64\n",
            " 25  position_Товаровед                 7312 non-null   int64\n",
            " 26  position_Торговый представитель    7312 non-null   int64\n",
            " 27  position_Управляющий магазином     7312 non-null   int64\n",
            "dtypes: int64(28)\n",
            "memory usage: 1.6 MB\n"
          ],
          "name": "stdout"
        }
      ]
    },
    {
      "cell_type": "code",
      "metadata": {
        "id": "-J9tu99QsiL_",
        "colab_type": "code",
        "colab": {
          "base_uri": "https://localhost:8080/",
          "height": 265
        },
        "outputId": "5e55c720-afa8-41d5-b8b3-20470576fd82"
      },
      "source": [
        "# Снова посмотрим на позиции\n",
        "import seaborn as sns\n",
        "import matplotlib.pyplot as plt\n",
        "\n",
        "db = balanced_data.drop(['age',\t'salary',\t'experience',\t\n",
        "                       'population',\t'gender_lbl'], axis=1)\n",
        "\n",
        "sns.barplot(x = db.sum(), \n",
        "            y = db.sum().index);"
      ],
      "execution_count": null,
      "outputs": [
        {
          "output_type": "display_data",
          "data": {
            "image/png": "[encoded data removed]",
            "text/plain": [
              "<Figure size 432x288 with 1 Axes>"
            ]
          },
          "metadata": {
            "tags": [],
            "needs_background": "light"
          }
        }
      ]
    },
    {
      "cell_type": "markdown",
      "metadata": {
        "id": "qJ6RunJQ1owW",
        "colab_type": "text"
      },
      "source": [
        "Совсем другое дело..."
      ]
    },
    {
      "cell_type": "code",
      "metadata": {
        "id": "jZJtYmIrwvkg",
        "colab_type": "code",
        "colab": {
          "base_uri": "https://localhost:8080/",
          "height": 437
        },
        "outputId": "402da60b-94b6-4f0a-b888-562f2dad76ab"
      },
      "source": [
        "import seaborn as sns\n",
        "from seaborn import heatmap\n",
        "\n",
        "heatmap(balanced_data[['salary',\n",
        "                   'position_Коммерческий директор',\n",
        "                   'position_Менеджер по продажам',\n",
        "                   'position_Мерчендайзер',\n",
        "                   'position_Руководитель продаж',\n",
        "                    'position_Региональный менеджер',\n",
        "                   'position_Супервайзер',\n",
        "                   'position_Торговый представитель'\n",
        "                    ]].corr());"
      ],
      "execution_count": null,
      "outputs": [
        {
          "output_type": "display_data",
          "data": {
            "image/png": "[encoded data removed]",
            "text/plain": [
              "<Figure size 432x288 with 2 Axes>"
            ]
          },
          "metadata": {
            "tags": [],
            "needs_background": "light"
          }
        }
      ]
    },
    {
      "cell_type": "markdown",
      "metadata": {
        "id": "xbU1BM04yB7d",
        "colab_type": "text"
      },
      "source": [
        "Также на примере мы видим явную зависимость между статусными позициями, такими как \"Коммерческий директор\" и \"Руководитель продаж\" и уровнем их ожиданий по доходу"
      ]
    },
    {
      "cell_type": "markdown",
      "metadata": {
        "id": "cUfjcM12NVDx",
        "colab_type": "text"
      },
      "source": [
        "## Baseline - тренируем наивную модель"
      ]
    },
    {
      "cell_type": "markdown",
      "metadata": {
        "id": "KQMuAa9M65OT",
        "colab_type": "text"
      },
      "source": [
        "\"Always start with a stupid model, no exceptions...\""
      ]
    },
    {
      "cell_type": "code",
      "metadata": {
        "id": "7d-VQlV0kfbz",
        "colab_type": "code",
        "colab": {}
      },
      "source": [
        "# Фиксируем гиперпараметры\n",
        "random_seed = 42\n",
        "splits = 5"
      ],
      "execution_count": 5,
      "outputs": []
    },
    {
      "cell_type": "code",
      "metadata": {
        "id": "PpQd7pKYUwbp",
        "colab_type": "code",
        "colab": {}
      },
      "source": [
        "from sklearn.model_selection import train_test_split\n",
        "\n",
        "\n",
        "def data_split(data):\n",
        "  \"\"\"Hold-out разбиение датасета на две выборки\"\"\"\n",
        "  X = data.drop(['salary'], axis=1)\n",
        "  y = data['salary'].values\n",
        "\n",
        "  X_train, X_test, y_train, y_test = train_test_split(\n",
        "      X, y, test_size=0.2, shuffle=True,\n",
        "      random_state=random_seed\n",
        "      )\n",
        "  \n",
        "  return X_train, X_test, y_train, y_test\n"
      ],
      "execution_count": 4,
      "outputs": []
    },
    {
      "cell_type": "code",
      "metadata": {
        "id": "K_LxoSPR9Bpf",
        "colab_type": "code",
        "colab": {
          "base_uri": "https://localhost:8080/",
          "height": 170
        },
        "outputId": "a5a14270-25e8-4b07-ecd8-79e1d65788b9"
      },
      "source": [
        "# Посмотрим на структуру разбиения\n",
        "from prettytable import PrettyTable\n",
        "x = PrettyTable()\n",
        "\n",
        "X_train, X_test, y_train, y_test = data_split(balanced_data)\n",
        "\n",
        "x.field_names = [\"Тип выборки\", \"Размерность\"]\n",
        "x.add_row([\"Исходная выборка\", balanced_data.shape])\n",
        "x.add_row([\"X_train\", X_train.shape])\n",
        "x.add_row([\"X_test\", X_test.shape])\n",
        "x.add_row([\"y_train\", y_train.shape])\n",
        "x.add_row([\"y_test\", y_test.shape])\n",
        "print(x)"
      ],
      "execution_count": null,
      "outputs": [
        {
          "output_type": "stream",
          "text": [
            "+------------------+-------------+\n",
            "|   Тип выборки    | Размерность |\n",
            "+------------------+-------------+\n",
            "| Исходная выборка |  (7312, 28) |\n",
            "|     X_train      |  (5849, 27) |\n",
            "|      X_test      |  (1463, 27) |\n",
            "|     y_train      |   (5849,)   |\n",
            "|      y_test      |   (1463,)   |\n",
            "+------------------+-------------+\n"
          ],
          "name": "stdout"
        }
      ]
    },
    {
      "cell_type": "markdown",
      "metadata": {
        "id": "JLsF47UCZ7bo",
        "colab_type": "text"
      },
      "source": [
        "Наша задача предсказания ожиданий кандидата по уровню оплаты труда сводится к классической задаче регрессии (с учителем)."
      ]
    },
    {
      "cell_type": "code",
      "metadata": {
        "id": "6W6VYopeNxQV",
        "colab_type": "code",
        "colab": {}
      },
      "source": [
        "from sklearn.linear_model import LinearRegression\n",
        "from sklearn.metrics import mean_absolute_error as mae\n",
        "\n",
        "\n",
        "def train_linreg(data):\n",
        "  \"\"\"Обучает модель регрессии\"\"\"\n",
        "\n",
        "  X_train, X_test, y_train, y_test = data_split(data)\n",
        " \n",
        "  # Описание модели\n",
        "  model = LinearRegression()\n",
        "  \n",
        "  # Обучение модели\n",
        "  model.fit(\n",
        "      X_train, y_train\n",
        "      )\n",
        "  \n",
        "  # Предсказание на основании обученной модели\n",
        "  y_pred = model.predict(X_test)\n",
        "  \n",
        "  # Метрика качества mse\n",
        "  error = mae(y_test, y_pred)\n",
        "  \n",
        "  print('mae:', error, 'mape:', error / data['salary'].mean())"
      ],
      "execution_count": null,
      "outputs": []
    },
    {
      "cell_type": "markdown",
      "metadata": {
        "id": "LThyg7QBqFK4",
        "colab_type": "text"
      },
      "source": [
        "Более всего целевая переменная зависит от параметров:\n",
        "- численность населения (population)\n",
        "- позиция (position)\n",
        "\n",
        "Посмотрим на ошибку, которую выдаст наивная модель по каждому из параметров в отдельности"
      ]
    },
    {
      "cell_type": "code",
      "metadata": {
        "id": "RzEjq3t4HZmM",
        "colab_type": "code",
        "colab": {
          "base_uri": "https://localhost:8080/",
          "height": 34
        },
        "outputId": "2720b28d-5142-4070-dbcc-8119faf40a31"
      },
      "source": [
        "# Какую ошибку выдаст наивная модель по одной позиции\n",
        "train_linreg(\n",
        "    balanced_data[balanced_data['position_Менеджер по продажам'] == 1]\n",
        ")"
      ],
      "execution_count": null,
      "outputs": [
        {
          "output_type": "stream",
          "text": [
            "mae: 20.46442590395653 mape: 0.31795573360196594\n"
          ],
          "name": "stdout"
        }
      ]
    },
    {
      "cell_type": "code",
      "metadata": {
        "id": "18wPQcl2n-mu",
        "colab_type": "code",
        "colab": {
          "base_uri": "https://localhost:8080/",
          "height": 34
        },
        "outputId": "cc06bba5-08d3-4309-8c18-2148367e2226"
      },
      "source": [
        "# Какую ошибку выдаст наивная модель по одному городу\n",
        "# (численность города Москва)\n",
        "train_linreg(\n",
        "    balanced_data[balanced_data['population'] == 11514330]\n",
        ")"
      ],
      "execution_count": null,
      "outputs": [
        {
          "output_type": "stream",
          "text": [
            "mae: 12.985730744238905 mape: 0.16928599157229177\n"
          ],
          "name": "stdout"
        }
      ]
    },
    {
      "cell_type": "code",
      "metadata": {
        "id": "pO0c3RMs1bTN",
        "colab_type": "code",
        "colab": {
          "base_uri": "https://localhost:8080/",
          "height": 34
        },
        "outputId": "03b95921-0f19-4fb9-b9ff-b9380fb351e3"
      },
      "source": [
        "# Какую ошибку выдаст наивная модель по всей выборке\n",
        "train_linreg(balanced_data)"
      ],
      "execution_count": null,
      "outputs": [
        {
          "output_type": "stream",
          "text": [
            "mae: 14.076955348208232 mape: 0.22181571190680613\n"
          ],
          "name": "stdout"
        }
      ]
    },
    {
      "cell_type": "markdown",
      "metadata": {
        "id": "SHrxJhjuhFO-",
        "colab_type": "text"
      },
      "source": [
        "Метрики `mae` и `mape` выберем в связи с их высокой интуитивностью, ведь все понимают, что ошибка модели в 14 тыс.р при средней ожидаемой зарплате в 65 тыс.р. - это достаточно много (22% - показатель MAPE)."
      ]
    },
    {
      "cell_type": "markdown",
      "metadata": {
        "id": "yocoFjYWs1DL",
        "colab_type": "text"
      },
      "source": [
        "Из оценок наивной модели явно видно, что величина средней ошибки от 14 до 20 тыс.р., причем в рамках одной позиции ошибка даже выше, чем в рамках одного города, что говорит о высоком разбросе значений ожиданий кандидатов по одной позиции"
      ]
    },
    {
      "cell_type": "markdown",
      "metadata": {
        "id": "v0j9EBPhFNOs",
        "colab_type": "text"
      },
      "source": [
        "## Подготовка и построение модели"
      ]
    },
    {
      "cell_type": "markdown",
      "metadata": {
        "id": "Q6Y0koR7c8To",
        "colab_type": "text"
      },
      "source": [
        "### Разбиение выборки и кросс-валидация"
      ]
    },
    {
      "cell_type": "markdown",
      "metadata": {
        "id": "5Jd3SjeZc4aS",
        "colab_type": "text"
      },
      "source": [
        "![image.png](data:image/png;base64,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)"
      ]
    },
    {
      "cell_type": "markdown",
      "metadata": {
        "id": "4h1Xt0AddWgW",
        "colab_type": "text"
      },
      "source": [
        "Обучение модели на одной разбивке данных, особенно при небольшом их количестве, как в нашем случае - является методологической ошибкой. Поэтому, сделаем разбиение данных на фолды и кросс-валидацию"
      ]
    },
    {
      "cell_type": "code",
      "metadata": {
        "id": "gCIfgX2ggk4i",
        "colab_type": "code",
        "colab": {
          "base_uri": "https://localhost:8080/",
          "height": 54
        },
        "outputId": "4acdda55-66cd-4648-8bce-1f52f03b5056"
      },
      "source": [
        "import sklearn\n",
        "\n",
        "sklearn.metrics.SCORERS.keys()"
      ],
      "execution_count": null,
      "outputs": [
        {
          "output_type": "execute_result",
          "data": {
            "text/plain": [
              "dict_keys(['explained_variance', 'r2', 'max_error', 'neg_median_absolute_error', 'neg_mean_absolute_error', 'neg_mean_squared_error', 'neg_mean_squared_log_error', 'neg_root_mean_squared_error', 'neg_mean_poisson_deviance', 'neg_mean_gamma_deviance', 'accuracy', 'roc_auc', 'roc_auc_ovr', 'roc_auc_ovo', 'roc_auc_ovr_weighted', 'roc_auc_ovo_weighted', 'balanced_accuracy', 'average_precision', 'neg_log_loss', 'neg_brier_score', 'adjusted_rand_score', 'homogeneity_score', 'completeness_score', 'v_measure_score', 'mutual_info_score', 'adjusted_mutual_info_score', 'normalized_mutual_info_score', 'fowlkes_mallows_score', 'precision', 'precision_macro', 'precision_micro', 'precision_samples', 'precision_weighted', 'recall', 'recall_macro', 'recall_micro', 'recall_samples', 'recall_weighted', 'f1', 'f1_macro', 'f1_micro', 'f1_samples', 'f1_weighted', 'jaccard', 'jaccard_macro', 'jaccard_micro', 'jaccard_samples', 'jaccard_weighted'])"
            ]
          },
          "metadata": {
            "tags": []
          },
          "execution_count": 51
        }
      ]
    },
    {
      "cell_type": "code",
      "metadata": {
        "id": "taY1MjmVP5Lx",
        "colab_type": "code",
        "colab": {}
      },
      "source": [
        "from sklearn.model_selection import cross_val_score\n",
        "\n",
        "\n",
        "def cross_val(data, model):\n",
        "  \"\"\"Скоринг кросс-валидации данных\"\"\"\n",
        "  X = data.drop(['salary'], axis=1)\n",
        "  y = data['salary'].values\n",
        "\n",
        "  cv_score = cross_val_score(model, \n",
        "                              X, y, \n",
        "                              cv=splits,\n",
        "                              scoring='neg_mean_absolute_error',\n",
        "                              n_jobs=-1)\n",
        "  return abs(cv_score.mean())\n"
      ],
      "execution_count": 19,
      "outputs": []
    },
    {
      "cell_type": "code",
      "metadata": {
        "id": "LkTS5GgpS78q",
        "colab_type": "code",
        "colab": {
          "base_uri": "https://localhost:8080/",
          "height": 34
        },
        "outputId": "79b056f1-fa90-46e7-be26-deacc3983f58"
      },
      "source": [
        "# Начнем с модели линейной регрессии\n",
        "from sklearn.linear_model import LinearRegression\n",
        "\n",
        "model_lr = LinearRegression()\n",
        "cross_val(balanced_data, model_lr)"
      ],
      "execution_count": 20,
      "outputs": [
        {
          "output_type": "execute_result",
          "data": {
            "text/plain": [
              "23.776074021161456"
            ]
          },
          "metadata": {
            "tags": []
          },
          "execution_count": 20
        }
      ]
    },
    {
      "cell_type": "markdown",
      "metadata": {
        "id": "5QUokW73XJA9",
        "colab_type": "text"
      },
      "source": [
        "MAE на кросс-валидации высокая, но это скорее говорит о том, что нет утечки из трейна в тест, а также о том, что можно разбить набор на тренировочный и тестовый датасеты, и мы не получим переобучения модели на каком-либо фолде"
      ]
    },
    {
      "cell_type": "code",
      "metadata": {
        "id": "Tzk772NaSPIt",
        "colab_type": "code",
        "colab": {}
      },
      "source": [
        "from sklearn.model_selection import cross_val_predict\n",
        "from sklearn.metrics import mean_absolute_error as mae\n",
        "import matplotlib.pyplot as plt\n",
        "\n",
        "\n",
        "def cross_val_fig(data, model):\n",
        "  \"\"\"Визуализация прогноза кросс-валидации данных\"\"\"\n",
        "  X = data.drop(['salary'], axis=1)\n",
        "  y = data['salary'].values\n",
        "\n",
        "  predicted = cross_val_predict(model, \n",
        "                                X, y, \n",
        "                                cv=splits)\n",
        "  \n",
        "  error = mae(y, predicted)\n",
        "  # cross_val_predict возвращает массив размерности `y`, где каждое значение\n",
        "  # где каждый прогноз получен методом кросс-валидации:\n",
        "  fig, ax = plt.subplots()\n",
        "  ax.scatter(y, predicted, edgecolors=(0, 0, 0))\n",
        "  ax.plot([y.min(), y.max()], [y.min(), y.max()], 'k--', lw=1)\n",
        "  ax.set_xlabel('Measured')\n",
        "  ax.set_ylabel('Predicted')\n",
        "  \n",
        "  print('MAE:', error)\n",
        "  plt.show()\n"
      ],
      "execution_count": 43,
      "outputs": []
    },
    {
      "cell_type": "code",
      "metadata": {
        "id": "TgnTb_zreWvh",
        "colab_type": "code",
        "colab": {
          "base_uri": "https://localhost:8080/",
          "height": 296
        },
        "outputId": "bd98d1c9-a8e8-4384-b3e9-78b057960e68"
      },
      "source": [
        "from sklearn.linear_model import LinearRegression\n",
        "\n",
        "model_lr = LinearRegression()\n",
        "cross_val_fig(balanced_data, model_lr)"
      ],
      "execution_count": null,
      "outputs": [
        {
          "output_type": "stream",
          "text": [
            "MAE: 23.777228096119707\n"
          ],
          "name": "stdout"
        },
        {
          "output_type": "display_data",
          "data": {
            "image/png": "[encoded data removed]",
            "text/plain": [
              "<Figure size 432x288 with 1 Axes>"
            ]
          },
          "metadata": {
            "tags": [],
            "needs_background": "light"
          }
        }
      ]
    },
    {
      "cell_type": "markdown",
      "metadata": {
        "id": "tG0-brwoBTtH",
        "colab_type": "text"
      },
      "source": [
        "Как видно, предсказание по зарплатным ожиданиям > 100 тыс.р - на базовой модели линейной регрессии работает плохо"
      ]
    },
    {
      "cell_type": "code",
      "metadata": {
        "id": "gQ9YzqOjFt4l",
        "colab_type": "code",
        "colab": {
          "base_uri": "https://localhost:8080/",
          "height": 313
        },
        "outputId": "d8c66b64-789c-4f41-cd43-5f9f17a6f29e"
      },
      "source": [
        "# Посмотрим на данных с ожиданиями более 100 тыс.р\n",
        "print('Позиций с ЗП > 100:', len(balanced_data[balanced_data['salary'] > 100]))\n",
        "model_lr = LinearRegression()\n",
        "cross_val_fig(balanced_data[balanced_data['salary'] > 100], model_lr)"
      ],
      "execution_count": null,
      "outputs": [
        {
          "output_type": "stream",
          "text": [
            "Позиций с ЗП > 100: 595\n",
            "MAE: 18.002847517138598\n"
          ],
          "name": "stdout"
        },
        {
          "output_type": "display_data",
          "data": {
            "image/png": "[encoded data removed]",
            "text/plain": [
              "<Figure size 432x288 with 1 Axes>"
            ]
          },
          "metadata": {
            "tags": [],
            "needs_background": "light"
          }
        }
      ]
    },
    {
      "cell_type": "code",
      "metadata": {
        "id": "ONvm2M-iKN2A",
        "colab_type": "code",
        "colab": {
          "base_uri": "https://localhost:8080/",
          "height": 313
        },
        "outputId": "96e5a549-13c2-423b-c54c-d443061f4ac3"
      },
      "source": [
        "print('Позиций с ЗП < 100:', len(balanced_data[balanced_data['salary'] < 100]))\n",
        "model_lr = LinearRegression()\n",
        "cross_val_fig(balanced_data[balanced_data['salary'] < 100], model_lr)"
      ],
      "execution_count": null,
      "outputs": [
        {
          "output_type": "stream",
          "text": [
            "Позиций с ЗП < 100: 6440\n",
            "MAE: 11.53896619629305\n"
          ],
          "name": "stdout"
        },
        {
          "output_type": "display_data",
          "data": {
            "image/png": "[encoded data removed]",
            "text/plain": [
              "<Figure size 432x288 with 1 Axes>"
            ]
          },
          "metadata": {
            "tags": [],
            "needs_background": "light"
          }
        }
      ]
    },
    {
      "cell_type": "markdown",
      "metadata": {
        "id": "9SUchVXAY-gx",
        "colab_type": "text"
      },
      "source": [
        "Средняя ошибка на данных кандидатов с ожиданиями < 100 тыс.р - почти в два раза ниже, чем на данных кандидатов с ожиданиями > 100 тыс.р."
      ]
    },
    {
      "cell_type": "markdown",
      "metadata": {
        "id": "VdGrxLZdvGqw",
        "colab_type": "text"
      },
      "source": [
        "### Сравнительное тестирование различных моделей с базовыми параметрами"
      ]
    },
    {
      "cell_type": "code",
      "metadata": {
        "id": "NCOaQernazzf",
        "colab_type": "code",
        "colab": {}
      },
      "source": [
        "!pip install catboost"
      ],
      "execution_count": null,
      "outputs": []
    },
    {
      "cell_type": "code",
      "metadata": {
        "id": "bftMFFmFadhW",
        "colab_type": "code",
        "colab": {}
      },
      "source": [
        "from sklearn.metrics import mean_absolute_error as mae\n",
        "from catboost import CatBoostRegressor\n",
        "from lightgbm import LGBMRegressor\n",
        "from xgboost import XGBRegressor\n",
        "from sklearn.ensemble import RandomForestRegressor\n",
        "from sklearn.ensemble import ExtraTreesRegressor\n",
        "\n",
        "from prettytable import PrettyTable\n",
        "x = PrettyTable()\n",
        "\n",
        "\n",
        "def review_models(data):\n",
        "  \"\"\"Обзор метрики MAE / MAPE некоторых моделей на\n",
        "  стандартных настройках\"\"\"\n",
        "\n",
        "  mean_salary = data['salary'].mean()\n",
        "\n",
        "  X_train, X_test, y_train, y_test = data_split(data)\n",
        "  \n",
        "  # CatBoost\n",
        "  model_catboost = CatBoostRegressor(random_state=random_seed)\n",
        "  model_catboost.fit(X_train, y_train, silent=True)\n",
        "  y_catboost = model_catboost.predict(X_test)\n",
        "  mae_catboost = mae(y_test, y_catboost)\n",
        "\n",
        "  # Lightgbm\n",
        "  model_lightgbm = LGBMRegressor(random_state=random_seed)\n",
        "  model_lightgbm.fit(X_train, y_train)\n",
        "  y_lightgbm = model_lightgbm.predict(X_test)\n",
        "  mae_lightgbm = mae(y_test, y_lightgbm)\n",
        "\n",
        "  # XGBRegressor\n",
        "  model_xgb = XGBRegressor(random_state=random_seed)\n",
        "  model_xgb.fit(X_train, y_train)\n",
        "  y_xgb = model_xgb.predict(X_test)\n",
        "  mae_xgb = mae(y_test, y_xgb)\n",
        "\n",
        "  # RandomForest\n",
        "  model_rf = RandomForestRegressor(random_state=random_seed)\n",
        "  model_rf.fit(X_train, y_train)\n",
        "  y_rf = model_rf.predict(X_test)\n",
        "  mae_rf = mae(y_test, y_rf)\n",
        "\n",
        "  #ExtraTrees\n",
        "  model_etr = ExtraTreesRegressor(random_state=random_seed)\n",
        "  model_etr.fit(X_train, y_train)\n",
        "  y_etr = model_etr.predict(X_test)\n",
        "  mae_etr = mae(y_test, y_etr)\n",
        "  \n",
        "  # Таблица итогового сравнения\n",
        "  x.field_names = [\"Regressor\", \"MAE\", \"MAPE\"]\n",
        "  x.add_row([\"CatBoost\", mae_catboost, mae_catboost / mean_salary])\n",
        "  x.add_row([\"LGBM\", mae_lightgbm, mae_lightgbm / mean_salary])\n",
        "  x.add_row([\"RandomForest\", mae_rf, mae_rf / mean_salary])\n",
        "  x.add_row([\"XGBoost\", mae_xgb, mae_xgb / mean_salary])\n",
        "  x.add_row([\"ExtraTrees\", mae_etr, mae_etr / mean_salary])\n",
        "\n",
        "  print(x.get_string(sortby=\"MAPE\"))\n"
      ],
      "execution_count": null,
      "outputs": []
    },
    {
      "cell_type": "code",
      "metadata": {
        "id": "DA3e-sNzckcH",
        "colab_type": "code",
        "colab": {
          "base_uri": "https://localhost:8080/",
          "height": 207
        },
        "outputId": "a02aa68b-4e5e-4ae7-deb9-a8a6167c4225"
      },
      "source": [
        "# Обзор результатов\n",
        "import warnings\n",
        "warnings.filterwarnings('ignore')\n",
        "\n",
        "review_models(balanced_data)"
      ],
      "execution_count": null,
      "outputs": [
        {
          "output_type": "stream",
          "text": [
            "[17:51:40] WARNING: /workspace/src/objective/regression_obj.cu:152: reg:linear is now deprecated in favor of reg:squarederror.\n",
            "+--------------+--------------------+---------------------+\n",
            "|  Regressor   |        MAE         |         MAPE        |\n",
            "+--------------+--------------------+---------------------+\n",
            "|  ExtraTrees  | 3.0873140236956025 | 0.04864793139612196 |\n",
            "| RandomForest |  4.05694934637645  | 0.06392682829322792 |\n",
            "|   CatBoost   | 6.889728563697291  |  0.1085639620499111 |\n",
            "|     LGBM     | 7.790427504977169  |  0.1227566032803269 |\n",
            "|   XGBoost    | 11.865602111294917 |  0.1869706136316467 |\n",
            "+--------------+--------------------+---------------------+\n"
          ],
          "name": "stdout"
        }
      ]
    },
    {
      "cell_type": "markdown",
      "metadata": {
        "id": "wJ1uaipQ-Mit",
        "colab_type": "text"
      },
      "source": [
        "Модель ExtraTreesRegressor из библиотеки sklearn показывает лучший стартовый  результат. Данный алгоритм использует метаоценщик и усреднение решений деревьев, что позволяет снизить риск переобучения модели, а также снизить ошибку на небольших наборах данных"
      ]
    },
    {
      "cell_type": "markdown",
      "metadata": {
        "id": "TGUu8mRiAxFj",
        "colab_type": "text"
      },
      "source": [
        "### Обучение модели ExtraTreesRegressor с оптимизацией гиперпараметров"
      ]
    },
    {
      "cell_type": "markdown",
      "metadata": {
        "id": "T7uUywnCnN1Y",
        "colab_type": "text"
      },
      "source": [
        "#### Оптимизация гиперпараметров"
      ]
    },
    {
      "cell_type": "code",
      "metadata": {
        "id": "2SbuTHGW_1AS",
        "colab_type": "code",
        "colab": {}
      },
      "source": [
        "from sklearn.ensemble import ExtraTreesRegressor\n",
        "from sklearn.ensemble import BaggingRegressor\n",
        "from sklearn.metrics import mean_absolute_error as mae\n",
        "from sklearn.model_selection import GridSearchCV\n",
        "\n",
        "\n",
        "def train_extra_trees(data):\n",
        "  \"\"\"Обучает модель регрессии ExtraTrees\"\"\"\n",
        "  \n",
        "  mean_salary = data['salary'].mean()\n",
        "  X = data.drop(['salary'], axis=1)\n",
        "  y = data['salary'].values\n",
        "  X_train, X_test, y_train, y_test = data_split(data)\n",
        "  \n",
        "  # Описание модели\n",
        "  model = ExtraTreesRegressor(random_state=random_seed)\n",
        "  \n",
        "  # Оптимизатор гиперпараметров\n",
        "  params = {\n",
        "      # 'criterion': ['mae', 'mse'],\n",
        "      'n_estimators': [20, 30, 50, 100, 250],\n",
        "      # 'min_samples_split': [1, 2, 4, 6, 8],\n",
        "      # 'min_samples_leaf': [1, 2, 4, 6, 8],\n",
        "      # 'min_weight_fraction_leaf': [0.0, 0.1],\n",
        "      # 'min_impurity_decrease': [0.0, 0.1],\n",
        "      # 'min_impurity_split': [0.0, 0.1],\n",
        "      # 'bootstrap': ['True', 'False'],\n",
        "      # 'ccp_alpha': [0.0, 0.1]\n",
        "      }\n",
        "\n",
        "  clf = GridSearchCV(model, params)\n",
        "  \n",
        "  search = clf.fit(X, y)\n",
        "  best_params = search.best_params_\n",
        "  print('Лучшие параметры:', best_params)\n",
        "  print('Обучение модели на лучших параметрах...')\n",
        "\n",
        "  # Обучение модели с оптимальными гиперпараметрами\n",
        "  best_model = ExtraTreesRegressor(\n",
        "      random_state=random_seed,\n",
        "      criterion='mae',\n",
        "      n_estimators=best_params['n_estimators'],\n",
        "      # min_samples_split=best_params['min_samples_split'],\n",
        "      # min_samples_leaf=best_params['min_samples_leaf'],\n",
        "      # min_weight_fraction_leaf=best_params['min_weight_fraction_leaf'],\n",
        "      # min_impurity_decrease=best_params['min_impurity_decrease'],\n",
        "      # min_impurity_split=best_params['min_impurity_split'],\n",
        "      # bootstrap=best_params['bootstrap'],\n",
        "      # ccp_alpha=best_params['ccp_alpha'],\n",
        "      n_jobs=-1)\n",
        "  \n",
        "  best_model.fit(X_train, y_train)\n",
        "  \n",
        "  # Предсказание на основании обученной модели\n",
        "  y_pred = best_model.predict(X_test)\n",
        "\n",
        "  # Метрика качества mse\n",
        "  error = mae(y_test, y_pred)\n",
        "  print('MAE:', error, 'MAPE:', error / mean_salary)\n",
        "  \n",
        "  return best_model\n"
      ],
      "execution_count": 39,
      "outputs": []
    },
    {
      "cell_type": "code",
      "metadata": {
        "id": "rPmYZiWUpDWC",
        "colab_type": "code",
        "colab": {
          "base_uri": "https://localhost:8080/",
          "height": 185
        },
        "outputId": "e3c86814-7033-46ec-b71f-d8918d600424"
      },
      "source": [
        "train_extra_trees(balanced_data)"
      ],
      "execution_count": 40,
      "outputs": [
        {
          "output_type": "stream",
          "text": [
            "Лучшие параметры: {'n_estimators': 50}\n",
            "Обучение модели на лучших параметрах...\n",
            "MAE: 2.9380997949419 MAPE: 0.04629670845345344\n"
          ],
          "name": "stdout"
        },
        {
          "output_type": "execute_result",
          "data": {
            "text/plain": [
              "ExtraTreesRegressor(bootstrap=False, ccp_alpha=0.0, criterion='mae',\n",
              "                    max_depth=None, max_features='auto', max_leaf_nodes=None,\n",
              "                    max_samples=None, min_impurity_decrease=0.0,\n",
              "                    min_impurity_split=None, min_samples_leaf=1,\n",
              "                    min_samples_split=2, min_weight_fraction_leaf=0.0,\n",
              "                    n_estimators=50, n_jobs=-1, oob_score=False,\n",
              "                    random_state=42, verbose=0, warm_start=False)"
            ]
          },
          "metadata": {
            "tags": []
          },
          "execution_count": 40
        }
      ]
    },
    {
      "cell_type": "code",
      "metadata": {
        "id": "iHpuPM2DMz36",
        "colab_type": "code",
        "colab": {
          "base_uri": "https://localhost:8080/",
          "height": 67
        },
        "outputId": "0f33bd1a-e552-4b93-bebf-61e922e06a73"
      },
      "source": [
        "best_model = train_extra_trees(balanced_data)"
      ],
      "execution_count": 41,
      "outputs": [
        {
          "output_type": "stream",
          "text": [
            "Лучшие параметры: {'n_estimators': 50}\n",
            "Обучение модели на лучших параметрах...\n",
            "MAE: 2.9380997949419 MAPE: 0.04629670845345344\n"
          ],
          "name": "stdout"
        }
      ]
    },
    {
      "cell_type": "code",
      "metadata": {
        "id": "Ac7zj14cNN7J",
        "colab_type": "code",
        "colab": {
          "base_uri": "https://localhost:8080/",
          "height": 296
        },
        "outputId": "92cf93ef-6c07-4c03-fec4-ab8008a96b73"
      },
      "source": [
        "cross_val_fig(balanced_data, best_model)"
      ],
      "execution_count": 44,
      "outputs": [
        {
          "output_type": "stream",
          "text": [
            "MAE: 18.025031455142233\n"
          ],
          "name": "stdout"
        },
        {
          "output_type": "display_data",
          "data": {
            "image/png": "[encoded data removed]",
            "text/plain": [
              "<Figure size 432x288 with 1 Axes>"
            ]
          },
          "metadata": {
            "tags": [],
            "needs_background": "light"
          }
        }
      ]
    },
    {
      "cell_type": "markdown",
      "metadata": {
        "id": "iphOZAqBb502",
        "colab_type": "text"
      },
      "source": [
        "## Сериализация модели"
      ]
    },
    {
      "cell_type": "code",
      "metadata": {
        "id": "_5vbmLfeLevO",
        "colab_type": "code",
        "colab": {}
      },
      "source": [
        "import pickle\n",
        "\n",
        "\n",
        "def serial_model(data):\n",
        "  \"\"\"Сохраняет модель регрессии в бинарный файл\"\"\"\n",
        "\n",
        "  model = train_extra_trees(data)\n",
        "\n",
        "  # Сериализация модели\n",
        "  with open(f'{wdir}/jsp_model.pkl', 'wb') as output:\n",
        "    pickle.dump(model, output)\n"
      ],
      "execution_count": null,
      "outputs": []
    },
    {
      "cell_type": "code",
      "metadata": {
        "id": "Tfpy31RJctMm",
        "colab_type": "code",
        "colab": {}
      },
      "source": [
        "serial_model(balanced_data)"
      ],
      "execution_count": null,
      "outputs": []
    },
    {
      "cell_type": "code",
      "metadata": {
        "id": "AHsm_BWn1Mqc",
        "colab_type": "code",
        "colab": {}
      },
      "source": [
        "!pip freeze > requirements.txt"
      ],
      "execution_count": null,
      "outputs": []
    },
    {
      "cell_type": "code",
      "metadata": {
        "id": "HqkHGfeL2WmD",
        "colab_type": "code",
        "colab": {
          "base_uri": "https://localhost:8080/",
          "height": 34
        },
        "outputId": "b470d499-366d-44ee-f89f-57035fb6a574"
      },
      "source": [
        "!ls"
      ],
      "execution_count": null,
      "outputs": [
        {
          "output_type": "stream",
          "text": [
            "drive  jsp_model.pkl  requirements.txt\tsample_data\n"
          ],
          "name": "stdout"
        }
      ]
    },
    {
      "cell_type": "markdown",
      "metadata": {
        "id": "eIMjLGRO5MSU",
        "colab_type": "text"
      },
      "source": [
        "## Дорожная карта доработки"
      ]
    },
    {
      "cell_type": "markdown",
      "metadata": {
        "id": "mScQXjVc5QSu",
        "colab_type": "text"
      },
      "source": [
        "1) Повышение робастности модели за счет обогащения данными, такими как:\n",
        "\n",
        "- ключевые навыки\n",
        "- наличие водительских прав\n",
        "- готовность к релокации и др.\n",
        "\n",
        "2) Расширение тестируемых базовых алгоритмов\n",
        "\n",
        "3) Использование NLP для анализа резюме анкет"
      ]
    },
    {
      "cell_type": "code",
      "metadata": {
        "id": "rUvV3GkS5Pbb",
        "colab_type": "code",
        "colab": {}
      },
      "source": [
        ""
      ],
      "execution_count": 9,
      "outputs": []
    }
  ]
}