{
  "nbformat": 4,
  "nbformat_minor": 0,
  "metadata": {
    "colab": {
      "name": "JSP_Model.ipynb",
      "provenance": [],
      "collapsed_sections": [],
      "toc_visible": true
    },
    "kernelspec": {
      "name": "python3",
      "display_name": "Python 3"
    }
  },
  "cells": [
    {
      "cell_type": "markdown",
      "metadata": {
        "id": "1pOVaX3YhHIb",
        "colab_type": "text"
      },
      "source": [
        "# Модель для предсказания уровня зарплатных ожиданий сотрудников"
      ]
    },
    {
      "cell_type": "markdown",
      "metadata": {
        "id": "GCttf0FVhMsS",
        "colab_type": "text"
      },
      "source": [
        "## Импорты"
      ]
    },
    {
      "cell_type": "code",
      "metadata": {
        "id": "4a_6kRxehAq4",
        "colab_type": "code",
        "colab": {}
      },
      "source": [
        "import numpy as np\n",
        "import pandas as pd"
      ],
      "execution_count": 1,
      "outputs": []
    },
    {
      "cell_type": "markdown",
      "metadata": {
        "id": "NmDCu-nAh2-v",
        "colab_type": "text"
      },
      "source": [
        "## Исходные данные"
      ]
    },
    {
      "cell_type": "code",
      "metadata": {
        "id": "D8cj6umx9jM3",
        "colab_type": "code",
        "colab": {}
      },
      "source": [
        "from google.colab import drive\n",
        "drive.mount('/content/drive')"
      ],
      "execution_count": null,
      "outputs": []
    },
    {
      "cell_type": "code",
      "metadata": {
        "id": "KJPddKMThkjL",
        "colab_type": "code",
        "colab": {}
      },
      "source": [
        "wdir = '/content/drive/My Drive/Courses/DataScience/DataScience/I_DIPLOMA/data'\n",
        "raw_data = pd.read_excel(f'{wdir}/raw_data.xlsx')"
      ],
      "execution_count": 3,
      "outputs": []
    },
    {
      "cell_type": "code",
      "metadata": {
        "id": "ZbipQiM8iebR",
        "colab_type": "code",
        "colab": {
          "base_uri": "https://localhost:8080/",
          "height": 366
        },
        "outputId": "cd819d7d-4588-4415-81b0-1e9935816a88"
      },
      "source": [
        "raw_data.head(3)"
      ],
      "execution_count": 4,
      "outputs": [
        {
          "output_type": "execute_result",
          "data": {
            "text/html": [
              "<div>\n",
              "<style scoped>\n",
              "    .dataframe tbody tr th:only-of-type {\n",
              "        vertical-align: middle;\n",
              "    }\n",
              "\n",
              "    .dataframe tbody tr th {\n",
              "        vertical-align: top;\n",
              "    }\n",
              "\n",
              "    .dataframe thead th {\n",
              "        text-align: right;\n",
              "    }\n",
              "</style>\n",
              "<table border=\"1\" class=\"dataframe\">\n",
              "  <thead>\n",
              "    <tr style=\"text-align: right;\">\n",
              "      <th></th>\n",
              "      <th>Unnamed: 0</th>\n",
              "      <th>entrydate</th>\n",
              "      <th>title</th>\n",
              "      <th>position</th>\n",
              "      <th>gender</th>\n",
              "      <th>city</th>\n",
              "      <th>age</th>\n",
              "      <th>salary</th>\n",
              "      <th>experience</th>\n",
              "      <th>last_job</th>\n",
              "      <th>updated</th>\n",
              "      <th>link</th>\n",
              "    </tr>\n",
              "  </thead>\n",
              "  <tbody>\n",
              "    <tr>\n",
              "      <th>0</th>\n",
              "      <td>0</td>\n",
              "      <td>2020-04-08</td>\n",
              "      <td>Резюме Менеджер по продажам мебели, дизайнер-к...</td>\n",
              "      <td>Менеджер по продажам</td>\n",
              "      <td>Женщина</td>\n",
              "      <td>Москва</td>\n",
              "      <td>31</td>\n",
              "      <td>70</td>\n",
              "      <td>8.0</td>\n",
              "      <td>ООО ИНТЕХ</td>\n",
              "      <td>2020-04-08</td>\n",
              "      <td>https://hh.ru/resume/840fd6300000a252640039ed1...</td>\n",
              "    </tr>\n",
              "    <tr>\n",
              "      <th>1</th>\n",
              "      <td>1</td>\n",
              "      <td>2020-04-08</td>\n",
              "      <td>Резюме Специалист по работе с клиентами</td>\n",
              "      <td>Клиентский менеджер</td>\n",
              "      <td>Мужчина</td>\n",
              "      <td>Липецк</td>\n",
              "      <td>40</td>\n",
              "      <td>90</td>\n",
              "      <td>15.0</td>\n",
              "      <td>МДК</td>\n",
              "      <td>2020-04-08</td>\n",
              "      <td>https://hh.ru/resume/66498670000716a4250039ed1...</td>\n",
              "    </tr>\n",
              "    <tr>\n",
              "      <th>2</th>\n",
              "      <td>2</td>\n",
              "      <td>2020-04-08</td>\n",
              "      <td>Резюме Супервайзер торговых представителей, ст...</td>\n",
              "      <td>Супервайзер</td>\n",
              "      <td>Мужчина</td>\n",
              "      <td>Самара</td>\n",
              "      <td>34</td>\n",
              "      <td>50</td>\n",
              "      <td>7.0</td>\n",
              "      <td>Ютф-дистрибьютор</td>\n",
              "      <td>2020-04-08</td>\n",
              "      <td>https://hh.ru/resume/70e7817700035195b70039ed1...</td>\n",
              "    </tr>\n",
              "  </tbody>\n",
              "</table>\n",
              "</div>"
            ],
            "text/plain": [
              "   Unnamed: 0  ...                                               link\n",
              "0           0  ...  https://hh.ru/resume/840fd6300000a252640039ed1...\n",
              "1           1  ...  https://hh.ru/resume/66498670000716a4250039ed1...\n",
              "2           2  ...  https://hh.ru/resume/70e7817700035195b70039ed1...\n",
              "\n",
              "[3 rows x 12 columns]"
            ]
          },
          "metadata": {
            "tags": []
          },
          "execution_count": 4
        }
      ]
    },
    {
      "cell_type": "code",
      "metadata": {
        "id": "ofF-GCwZmIgQ",
        "colab_type": "code",
        "colab": {
          "base_uri": "https://localhost:8080/",
          "height": 340
        },
        "outputId": "953ad251-cbd2-4766-a3a4-5a23ab311eac"
      },
      "source": [
        "raw_data.info()"
      ],
      "execution_count": 5,
      "outputs": [
        {
          "output_type": "stream",
          "text": [
            "<class 'pandas.core.frame.DataFrame'>\n",
            "RangeIndex: 3178 entries, 0 to 3177\n",
            "Data columns (total 12 columns):\n",
            " #   Column      Non-Null Count  Dtype         \n",
            "---  ------      --------------  -----         \n",
            " 0   Unnamed: 0  3178 non-null   int64         \n",
            " 1   entrydate   3178 non-null   datetime64[ns]\n",
            " 2   title       3178 non-null   object        \n",
            " 3   position    3178 non-null   object        \n",
            " 4   gender      3178 non-null   object        \n",
            " 5   city        3178 non-null   object        \n",
            " 6   age         3178 non-null   int64         \n",
            " 7   salary      3178 non-null   int64         \n",
            " 8   experience  2522 non-null   float64       \n",
            " 9   last_job    3178 non-null   object        \n",
            " 10  updated     3178 non-null   datetime64[ns]\n",
            " 11  link        3178 non-null   object        \n",
            "dtypes: datetime64[ns](2), float64(1), int64(3), object(6)\n",
            "memory usage: 298.1+ KB\n"
          ],
          "name": "stdout"
        }
      ]
    },
    {
      "cell_type": "code",
      "metadata": {
        "id": "2Hkv7366sLHV",
        "colab_type": "code",
        "colab": {
          "base_uri": "https://localhost:8080/",
          "height": 68
        },
        "outputId": "5cf8b8d6-0f3c-483f-9e5e-9ba41fd5086f"
      },
      "source": [
        "raw_data.columns"
      ],
      "execution_count": 7,
      "outputs": [
        {
          "output_type": "execute_result",
          "data": {
            "text/plain": [
              "Index(['Unnamed: 0', 'entrydate', 'title', 'position', 'gender', 'city', 'age',\n",
              "       'salary', 'experience', 'last_job', 'updated', 'link'],\n",
              "      dtype='object')"
            ]
          },
          "metadata": {
            "tags": []
          },
          "execution_count": 7
        }
      ]
    },
    {
      "cell_type": "markdown",
      "metadata": {
        "id": "5I90Ar6BualG",
        "colab_type": "text"
      },
      "source": [
        "## Предобработка данных"
      ]
    },
    {
      "cell_type": "code",
      "metadata": {
        "id": "9y-XwzYMjTi1",
        "colab_type": "code",
        "colab": {}
      },
      "source": [
        "def data_prep(df_input):\n",
        "  \"\"\"Обрабатывает исходные данные\"\"\"\n",
        "  df_output = df_input.copy()\n",
        "  df_output['experience'] = df_output['experience'].fillna(\n",
        "                            df_output['experience'].mean())\n",
        "  df_output['experience'] = df_output['experience'].astype(np.int)\n",
        "  df_output.drop([\n",
        "                  'Unnamed: 0',\n",
        "                  'title',\n",
        "                  'entrydate',\n",
        "                  'last_job',\n",
        "                  'updated',\n",
        "                  'link'],\n",
        "                 axis=1,\n",
        "                 inplace=True)\n",
        "  \n",
        "  return df_output"
      ],
      "execution_count": 8,
      "outputs": []
    },
    {
      "cell_type": "code",
      "metadata": {
        "id": "pncsRZl1tDv-",
        "colab_type": "code",
        "colab": {
          "base_uri": "https://localhost:8080/",
          "height": 204
        },
        "outputId": "84509d6e-b2c7-4ad6-ace2-b00a388ceb0c"
      },
      "source": [
        "# Посмотрим на подготовленные данные\n",
        "data = data_prep(raw_data)\n",
        "data.head()"
      ],
      "execution_count": 9,
      "outputs": [
        {
          "output_type": "execute_result",
          "data": {
            "text/html": [
              "<div>\n",
              "<style scoped>\n",
              "    .dataframe tbody tr th:only-of-type {\n",
              "        vertical-align: middle;\n",
              "    }\n",
              "\n",
              "    .dataframe tbody tr th {\n",
              "        vertical-align: top;\n",
              "    }\n",
              "\n",
              "    .dataframe thead th {\n",
              "        text-align: right;\n",
              "    }\n",
              "</style>\n",
              "<table border=\"1\" class=\"dataframe\">\n",
              "  <thead>\n",
              "    <tr style=\"text-align: right;\">\n",
              "      <th></th>\n",
              "      <th>position</th>\n",
              "      <th>gender</th>\n",
              "      <th>city</th>\n",
              "      <th>age</th>\n",
              "      <th>salary</th>\n",
              "      <th>experience</th>\n",
              "    </tr>\n",
              "  </thead>\n",
              "  <tbody>\n",
              "    <tr>\n",
              "      <th>0</th>\n",
              "      <td>Менеджер по продажам</td>\n",
              "      <td>Женщина</td>\n",
              "      <td>Москва</td>\n",
              "      <td>31</td>\n",
              "      <td>70</td>\n",
              "      <td>8</td>\n",
              "    </tr>\n",
              "    <tr>\n",
              "      <th>1</th>\n",
              "      <td>Клиентский менеджер</td>\n",
              "      <td>Мужчина</td>\n",
              "      <td>Липецк</td>\n",
              "      <td>40</td>\n",
              "      <td>90</td>\n",
              "      <td>15</td>\n",
              "    </tr>\n",
              "    <tr>\n",
              "      <th>2</th>\n",
              "      <td>Супервайзер</td>\n",
              "      <td>Мужчина</td>\n",
              "      <td>Самара</td>\n",
              "      <td>34</td>\n",
              "      <td>50</td>\n",
              "      <td>7</td>\n",
              "    </tr>\n",
              "    <tr>\n",
              "      <th>3</th>\n",
              "      <td>Коммерческий директор</td>\n",
              "      <td>Мужчина</td>\n",
              "      <td>Краснодар</td>\n",
              "      <td>47</td>\n",
              "      <td>60</td>\n",
              "      <td>10</td>\n",
              "    </tr>\n",
              "    <tr>\n",
              "      <th>4</th>\n",
              "      <td>Менеджер по продажам</td>\n",
              "      <td>Мужчина</td>\n",
              "      <td>Москва</td>\n",
              "      <td>43</td>\n",
              "      <td>50</td>\n",
              "      <td>11</td>\n",
              "    </tr>\n",
              "  </tbody>\n",
              "</table>\n",
              "</div>"
            ],
            "text/plain": [
              "                position   gender       city  age  salary  experience\n",
              "0   Менеджер по продажам  Женщина     Москва   31      70           8\n",
              "1    Клиентский менеджер  Мужчина     Липецк   40      90          15\n",
              "2            Супервайзер  Мужчина     Самара   34      50           7\n",
              "3  Коммерческий директор  Мужчина  Краснодар   47      60          10\n",
              "4   Менеджер по продажам  Мужчина     Москва   43      50          11"
            ]
          },
          "metadata": {
            "tags": []
          },
          "execution_count": 9
        }
      ]
    },
    {
      "cell_type": "code",
      "metadata": {
        "id": "1VfnkY62t29k",
        "colab_type": "code",
        "colab": {
          "base_uri": "https://localhost:8080/",
          "height": 238
        },
        "outputId": "12f1b1c0-bae8-4563-ec4b-0c0492c886bf"
      },
      "source": [
        "data.info()"
      ],
      "execution_count": 10,
      "outputs": [
        {
          "output_type": "stream",
          "text": [
            "<class 'pandas.core.frame.DataFrame'>\n",
            "RangeIndex: 3178 entries, 0 to 3177\n",
            "Data columns (total 6 columns):\n",
            " #   Column      Non-Null Count  Dtype \n",
            "---  ------      --------------  ----- \n",
            " 0   position    3178 non-null   object\n",
            " 1   gender      3178 non-null   object\n",
            " 2   city        3178 non-null   object\n",
            " 3   age         3178 non-null   int64 \n",
            " 4   salary      3178 non-null   int64 \n",
            " 5   experience  3178 non-null   int64 \n",
            "dtypes: int64(3), object(3)\n",
            "memory usage: 149.1+ KB\n"
          ],
          "name": "stdout"
        }
      ]
    },
    {
      "cell_type": "code",
      "metadata": {
        "id": "E9vLSd2olDvt",
        "colab_type": "code",
        "colab": {
          "base_uri": "https://localhost:8080/",
          "height": 265
        },
        "outputId": "4c9ee159-73ed-4605-80b2-c2b05b6cb6e9"
      },
      "source": [
        "# Посмотрим, есть ли в данных выбросы\n",
        "data.plot();"
      ],
      "execution_count": 11,
      "outputs": [
        {
          "output_type": "display_data",
          "data": {
            "image/png": "[encoded data removed]",
            "text/plain": [
              "<Figure size 432x288 with 1 Axes>"
            ]
          },
          "metadata": {
            "tags": [],
            "needs_background": "light"
          }
        }
      ]
    },
    {
      "cell_type": "code",
      "metadata": {
        "id": "VbU-KfRPlcsD",
        "colab_type": "code",
        "colab": {
          "base_uri": "https://localhost:8080/",
          "height": 607
        },
        "outputId": "f7835a19-2a0e-4a21-dbd4-42f3c9f38746"
      },
      "source": [
        "data[data['salary'] > 200]"
      ],
      "execution_count": 12,
      "outputs": [
        {
          "output_type": "execute_result",
          "data": {
            "text/html": [
              "<div>\n",
              "<style scoped>\n",
              "    .dataframe tbody tr th:only-of-type {\n",
              "        vertical-align: middle;\n",
              "    }\n",
              "\n",
              "    .dataframe tbody tr th {\n",
              "        vertical-align: top;\n",
              "    }\n",
              "\n",
              "    .dataframe thead th {\n",
              "        text-align: right;\n",
              "    }\n",
              "</style>\n",
              "<table border=\"1\" class=\"dataframe\">\n",
              "  <thead>\n",
              "    <tr style=\"text-align: right;\">\n",
              "      <th></th>\n",
              "      <th>position</th>\n",
              "      <th>gender</th>\n",
              "      <th>city</th>\n",
              "      <th>age</th>\n",
              "      <th>salary</th>\n",
              "      <th>experience</th>\n",
              "    </tr>\n",
              "  </thead>\n",
              "  <tbody>\n",
              "    <tr>\n",
              "      <th>130</th>\n",
              "      <td>Коммерческий директор</td>\n",
              "      <td>Мужчина</td>\n",
              "      <td>Москва</td>\n",
              "      <td>36</td>\n",
              "      <td>265</td>\n",
              "      <td>12</td>\n",
              "    </tr>\n",
              "    <tr>\n",
              "      <th>322</th>\n",
              "      <td>Менеджер по продажам</td>\n",
              "      <td>Мужчина</td>\n",
              "      <td>Москва</td>\n",
              "      <td>29</td>\n",
              "      <td>210</td>\n",
              "      <td>7</td>\n",
              "    </tr>\n",
              "    <tr>\n",
              "      <th>331</th>\n",
              "      <td>Менеджер по продажам</td>\n",
              "      <td>Мужчина</td>\n",
              "      <td>Москва</td>\n",
              "      <td>29</td>\n",
              "      <td>210</td>\n",
              "      <td>7</td>\n",
              "    </tr>\n",
              "    <tr>\n",
              "      <th>342</th>\n",
              "      <td>Менеджер по продажам</td>\n",
              "      <td>Мужчина</td>\n",
              "      <td>Москва</td>\n",
              "      <td>29</td>\n",
              "      <td>210</td>\n",
              "      <td>7</td>\n",
              "    </tr>\n",
              "    <tr>\n",
              "      <th>537</th>\n",
              "      <td>Региональный менеджер</td>\n",
              "      <td>Male</td>\n",
              "      <td>Moscow</td>\n",
              "      <td>35</td>\n",
              "      <td>220</td>\n",
              "      <td>10</td>\n",
              "    </tr>\n",
              "    <tr>\n",
              "      <th>1162</th>\n",
              "      <td>Менеджер по продажам</td>\n",
              "      <td>Мужчина</td>\n",
              "      <td>Москва</td>\n",
              "      <td>37</td>\n",
              "      <td>250</td>\n",
              "      <td>14</td>\n",
              "    </tr>\n",
              "    <tr>\n",
              "      <th>1421</th>\n",
              "      <td>Руководитель продаж</td>\n",
              "      <td>Мужчина</td>\n",
              "      <td>Москва</td>\n",
              "      <td>51</td>\n",
              "      <td>250</td>\n",
              "      <td>10</td>\n",
              "    </tr>\n",
              "    <tr>\n",
              "      <th>1429</th>\n",
              "      <td>Руководитель продаж</td>\n",
              "      <td>Мужчина</td>\n",
              "      <td>Москва</td>\n",
              "      <td>51</td>\n",
              "      <td>250</td>\n",
              "      <td>10</td>\n",
              "    </tr>\n",
              "    <tr>\n",
              "      <th>1438</th>\n",
              "      <td>Менеджер по продажам</td>\n",
              "      <td>Мужчина</td>\n",
              "      <td>Уфа</td>\n",
              "      <td>26</td>\n",
              "      <td>270</td>\n",
              "      <td>10</td>\n",
              "    </tr>\n",
              "    <tr>\n",
              "      <th>1511</th>\n",
              "      <td>Менеджер по продажам</td>\n",
              "      <td>Женщина</td>\n",
              "      <td>Москва</td>\n",
              "      <td>48</td>\n",
              "      <td>250</td>\n",
              "      <td>10</td>\n",
              "    </tr>\n",
              "    <tr>\n",
              "      <th>1518</th>\n",
              "      <td>Менеджер по продажам</td>\n",
              "      <td>Женщина</td>\n",
              "      <td>Москва</td>\n",
              "      <td>48</td>\n",
              "      <td>250</td>\n",
              "      <td>10</td>\n",
              "    </tr>\n",
              "    <tr>\n",
              "      <th>1578</th>\n",
              "      <td>Коммерческий директор</td>\n",
              "      <td>Мужчина</td>\n",
              "      <td>Москва</td>\n",
              "      <td>35</td>\n",
              "      <td>250</td>\n",
              "      <td>12</td>\n",
              "    </tr>\n",
              "    <tr>\n",
              "      <th>1612</th>\n",
              "      <td>Руководитель продаж</td>\n",
              "      <td>Мужчина</td>\n",
              "      <td>Москва</td>\n",
              "      <td>39</td>\n",
              "      <td>250</td>\n",
              "      <td>16</td>\n",
              "    </tr>\n",
              "    <tr>\n",
              "      <th>1711</th>\n",
              "      <td>Коммерческий директор</td>\n",
              "      <td>Мужчина</td>\n",
              "      <td>Москва</td>\n",
              "      <td>48</td>\n",
              "      <td>250</td>\n",
              "      <td>10</td>\n",
              "    </tr>\n",
              "    <tr>\n",
              "      <th>1714</th>\n",
              "      <td>Руководитель продаж</td>\n",
              "      <td>Мужчина</td>\n",
              "      <td>Москва</td>\n",
              "      <td>34</td>\n",
              "      <td>250</td>\n",
              "      <td>9</td>\n",
              "    </tr>\n",
              "    <tr>\n",
              "      <th>2029</th>\n",
              "      <td>Специалист</td>\n",
              "      <td>Женщина</td>\n",
              "      <td>Тюмень</td>\n",
              "      <td>27</td>\n",
              "      <td>207</td>\n",
              "      <td>6</td>\n",
              "    </tr>\n",
              "    <tr>\n",
              "      <th>2054</th>\n",
              "      <td>Коммерческий директор</td>\n",
              "      <td>Мужчина</td>\n",
              "      <td>Москва</td>\n",
              "      <td>37</td>\n",
              "      <td>250</td>\n",
              "      <td>14</td>\n",
              "    </tr>\n",
              "    <tr>\n",
              "      <th>2765</th>\n",
              "      <td>Коммерческий директор</td>\n",
              "      <td>Мужчина</td>\n",
              "      <td>Москва</td>\n",
              "      <td>42</td>\n",
              "      <td>280</td>\n",
              "      <td>10</td>\n",
              "    </tr>\n",
              "  </tbody>\n",
              "</table>\n",
              "</div>"
            ],
            "text/plain": [
              "                   position   gender    city  age  salary  experience\n",
              "130   Коммерческий директор  Мужчина  Москва   36     265          12\n",
              "322    Менеджер по продажам  Мужчина  Москва   29     210           7\n",
              "331    Менеджер по продажам  Мужчина  Москва   29     210           7\n",
              "342    Менеджер по продажам  Мужчина  Москва   29     210           7\n",
              "537   Региональный менеджер     Male  Moscow   35     220          10\n",
              "1162   Менеджер по продажам  Мужчина  Москва   37     250          14\n",
              "1421    Руководитель продаж  Мужчина  Москва   51     250          10\n",
              "1429    Руководитель продаж  Мужчина  Москва   51     250          10\n",
              "1438   Менеджер по продажам  Мужчина     Уфа   26     270          10\n",
              "1511   Менеджер по продажам  Женщина  Москва   48     250          10\n",
              "1518   Менеджер по продажам  Женщина  Москва   48     250          10\n",
              "1578  Коммерческий директор  Мужчина  Москва   35     250          12\n",
              "1612    Руководитель продаж  Мужчина  Москва   39     250          16\n",
              "1711  Коммерческий директор  Мужчина  Москва   48     250          10\n",
              "1714    Руководитель продаж  Мужчина  Москва   34     250           9\n",
              "2029             Специалист  Женщина  Тюмень   27     207           6\n",
              "2054  Коммерческий директор  Мужчина  Москва   37     250          14\n",
              "2765  Коммерческий директор  Мужчина  Москва   42     280          10"
            ]
          },
          "metadata": {
            "tags": []
          },
          "execution_count": 12
        }
      ]
    },
    {
      "cell_type": "markdown",
      "metadata": {
        "id": "TVjaoxqKmWU3",
        "colab_type": "text"
      },
      "source": [
        "Пожалуй, все позиции кроме \"Руководитель продаж\" и \"Коммерческий директор\" с ожиданиями выше 200 тыс.руб - будут вносить \"разлад\" в наши данные. Удалим их"
      ]
    },
    {
      "cell_type": "code",
      "metadata": {
        "id": "o5bMuArxmL7n",
        "colab_type": "code",
        "colab": {
          "base_uri": "https://localhost:8080/",
          "height": 238
        },
        "outputId": "753c9050-85bd-4963-c49e-a0a5bdc26a90"
      },
      "source": [
        " isx = data[\n",
        "      (data['salary'] > 200) & \n",
        "      (data['position'] != 'Коммерческий директор') &\n",
        "      (data['position'] != 'Руководитель продаж')].index\n",
        "\n",
        "data = data.drop(data.index[isx])\n",
        "data.info()"
      ],
      "execution_count": 13,
      "outputs": [
        {
          "output_type": "stream",
          "text": [
            "<class 'pandas.core.frame.DataFrame'>\n",
            "Int64Index: 3169 entries, 0 to 3177\n",
            "Data columns (total 6 columns):\n",
            " #   Column      Non-Null Count  Dtype \n",
            "---  ------      --------------  ----- \n",
            " 0   position    3169 non-null   object\n",
            " 1   gender      3169 non-null   object\n",
            " 2   city        3169 non-null   object\n",
            " 3   age         3169 non-null   int64 \n",
            " 4   salary      3169 non-null   int64 \n",
            " 5   experience  3169 non-null   int64 \n",
            "dtypes: int64(3), object(3)\n",
            "memory usage: 173.3+ KB\n"
          ],
          "name": "stdout"
        }
      ]
    },
    {
      "cell_type": "markdown",
      "metadata": {
        "id": "CAOnLs5u-Z81",
        "colab_type": "text"
      },
      "source": [
        "## Feature engineering"
      ]
    },
    {
      "cell_type": "markdown",
      "metadata": {
        "id": "LjJP0tOz-8Pd",
        "colab_type": "text"
      },
      "source": [
        "Обогатим наши данные численностью населения в городах проживания кандидатов, источник данных: https://zema.su/blog/polnyi-spisok-vsekh-gorodov-rossii-po-chislennosti-naseleniya"
      ]
    },
    {
      "cell_type": "code",
      "metadata": {
        "id": "RbSml0aUDMuT",
        "colab_type": "code",
        "colab": {
          "base_uri": "https://localhost:8080/",
          "height": 204
        },
        "outputId": "973855f7-7096-463c-b62a-367aff3cb092"
      },
      "source": [
        "cities = pd.read_excel(f'{wdir}/cities.xlsx')\n",
        "cities = cities.drop('Н', axis=1)\n",
        "cities.columns = ['city', 'population']\n",
        "cities.head()"
      ],
      "execution_count": 14,
      "outputs": [
        {
          "output_type": "execute_result",
          "data": {
            "text/html": [
              "<div>\n",
              "<style scoped>\n",
              "    .dataframe tbody tr th:only-of-type {\n",
              "        vertical-align: middle;\n",
              "    }\n",
              "\n",
              "    .dataframe tbody tr th {\n",
              "        vertical-align: top;\n",
              "    }\n",
              "\n",
              "    .dataframe thead th {\n",
              "        text-align: right;\n",
              "    }\n",
              "</style>\n",
              "<table border=\"1\" class=\"dataframe\">\n",
              "  <thead>\n",
              "    <tr style=\"text-align: right;\">\n",
              "      <th></th>\n",
              "      <th>city</th>\n",
              "      <th>population</th>\n",
              "    </tr>\n",
              "  </thead>\n",
              "  <tbody>\n",
              "    <tr>\n",
              "      <th>0</th>\n",
              "      <td>Москва</td>\n",
              "      <td>11514330</td>\n",
              "    </tr>\n",
              "    <tr>\n",
              "      <th>1</th>\n",
              "      <td>Санкт-Петербург</td>\n",
              "      <td>4848742</td>\n",
              "    </tr>\n",
              "    <tr>\n",
              "      <th>2</th>\n",
              "      <td>Новосибирск</td>\n",
              "      <td>1473737</td>\n",
              "    </tr>\n",
              "    <tr>\n",
              "      <th>3</th>\n",
              "      <td>Екатеринбург</td>\n",
              "      <td>1350136</td>\n",
              "    </tr>\n",
              "    <tr>\n",
              "      <th>4</th>\n",
              "      <td>Нижний Новгород</td>\n",
              "      <td>1250615</td>\n",
              "    </tr>\n",
              "  </tbody>\n",
              "</table>\n",
              "</div>"
            ],
            "text/plain": [
              "              city  population\n",
              "0           Москва    11514330\n",
              "1  Санкт-Петербург     4848742\n",
              "2      Новосибирск     1473737\n",
              "3     Екатеринбург     1350136\n",
              "4  Нижний Новгород     1250615"
            ]
          },
          "metadata": {
            "tags": []
          },
          "execution_count": 14
        }
      ]
    },
    {
      "cell_type": "code",
      "metadata": {
        "id": "c2kt1ceXEr62",
        "colab_type": "code",
        "colab": {
          "base_uri": "https://localhost:8080/",
          "height": 170
        },
        "outputId": "0b5c79a8-1438-4961-ffbd-83e96eb10978"
      },
      "source": [
        "cities.info()"
      ],
      "execution_count": 15,
      "outputs": [
        {
          "output_type": "stream",
          "text": [
            "<class 'pandas.core.frame.DataFrame'>\n",
            "RangeIndex: 1109 entries, 0 to 1108\n",
            "Data columns (total 2 columns):\n",
            " #   Column      Non-Null Count  Dtype \n",
            "---  ------      --------------  ----- \n",
            " 0   city        1109 non-null   object\n",
            " 1   population  1109 non-null   int64 \n",
            "dtypes: int64(1), object(1)\n",
            "memory usage: 17.5+ KB\n"
          ],
          "name": "stdout"
        }
      ]
    },
    {
      "cell_type": "code",
      "metadata": {
        "id": "yHvWJuwTEy2D",
        "colab_type": "code",
        "colab": {
          "base_uri": "https://localhost:8080/",
          "height": 204
        },
        "outputId": "3bf87179-15e8-40f3-e3c7-a52fe4d1f4e0"
      },
      "source": [
        "# Добавим данные по численности к основному датасету\n",
        "data_merged = data.merge(cities, how='left', left_on='city', right_on='city')\n",
        "data_merged.head()"
      ],
      "execution_count": 16,
      "outputs": [
        {
          "output_type": "execute_result",
          "data": {
            "text/html": [
              "<div>\n",
              "<style scoped>\n",
              "    .dataframe tbody tr th:only-of-type {\n",
              "        vertical-align: middle;\n",
              "    }\n",
              "\n",
              "    .dataframe tbody tr th {\n",
              "        vertical-align: top;\n",
              "    }\n",
              "\n",
              "    .dataframe thead th {\n",
              "        text-align: right;\n",
              "    }\n",
              "</style>\n",
              "<table border=\"1\" class=\"dataframe\">\n",
              "  <thead>\n",
              "    <tr style=\"text-align: right;\">\n",
              "      <th></th>\n",
              "      <th>position</th>\n",
              "      <th>gender</th>\n",
              "      <th>city</th>\n",
              "      <th>age</th>\n",
              "      <th>salary</th>\n",
              "      <th>experience</th>\n",
              "      <th>population</th>\n",
              "    </tr>\n",
              "  </thead>\n",
              "  <tbody>\n",
              "    <tr>\n",
              "      <th>0</th>\n",
              "      <td>Менеджер по продажам</td>\n",
              "      <td>Женщина</td>\n",
              "      <td>Москва</td>\n",
              "      <td>31</td>\n",
              "      <td>70</td>\n",
              "      <td>8</td>\n",
              "      <td>11514330.0</td>\n",
              "    </tr>\n",
              "    <tr>\n",
              "      <th>1</th>\n",
              "      <td>Клиентский менеджер</td>\n",
              "      <td>Мужчина</td>\n",
              "      <td>Липецк</td>\n",
              "      <td>40</td>\n",
              "      <td>90</td>\n",
              "      <td>15</td>\n",
              "      <td>508124.0</td>\n",
              "    </tr>\n",
              "    <tr>\n",
              "      <th>2</th>\n",
              "      <td>Супервайзер</td>\n",
              "      <td>Мужчина</td>\n",
              "      <td>Самара</td>\n",
              "      <td>34</td>\n",
              "      <td>50</td>\n",
              "      <td>7</td>\n",
              "      <td>1164896.0</td>\n",
              "    </tr>\n",
              "    <tr>\n",
              "      <th>3</th>\n",
              "      <td>Коммерческий директор</td>\n",
              "      <td>Мужчина</td>\n",
              "      <td>Краснодар</td>\n",
              "      <td>47</td>\n",
              "      <td>60</td>\n",
              "      <td>10</td>\n",
              "      <td>744933.0</td>\n",
              "    </tr>\n",
              "    <tr>\n",
              "      <th>4</th>\n",
              "      <td>Менеджер по продажам</td>\n",
              "      <td>Мужчина</td>\n",
              "      <td>Москва</td>\n",
              "      <td>43</td>\n",
              "      <td>50</td>\n",
              "      <td>11</td>\n",
              "      <td>11514330.0</td>\n",
              "    </tr>\n",
              "  </tbody>\n",
              "</table>\n",
              "</div>"
            ],
            "text/plain": [
              "                position   gender       city  ...  salary  experience  population\n",
              "0   Менеджер по продажам  Женщина     Москва  ...      70           8  11514330.0\n",
              "1    Клиентский менеджер  Мужчина     Липецк  ...      90          15    508124.0\n",
              "2            Супервайзер  Мужчина     Самара  ...      50           7   1164896.0\n",
              "3  Коммерческий директор  Мужчина  Краснодар  ...      60          10    744933.0\n",
              "4   Менеджер по продажам  Мужчина     Москва  ...      50          11  11514330.0\n",
              "\n",
              "[5 rows x 7 columns]"
            ]
          },
          "metadata": {
            "tags": []
          },
          "execution_count": 16
        }
      ]
    },
    {
      "cell_type": "code",
      "metadata": {
        "id": "1CQEiddpIG2W",
        "colab_type": "code",
        "colab": {
          "base_uri": "https://localhost:8080/",
          "height": 34
        },
        "outputId": "3175fa59-51d0-4b1a-882d-fc5ea77dab40"
      },
      "source": [
        "# Посмотрим % пропусков в столбце \"population\"\n",
        "empty_values = data_merged['population'].isna().sum() / len (data_merged) * 100\n",
        "print(f'{round(empty_values, 2)}%')"
      ],
      "execution_count": 17,
      "outputs": [
        {
          "output_type": "stream",
          "text": [
            "6.69%\n"
          ],
          "name": "stdout"
        }
      ]
    },
    {
      "cell_type": "code",
      "metadata": {
        "id": "JLufxiQdInuR",
        "colab_type": "code",
        "colab": {
          "base_uri": "https://localhost:8080/",
          "height": 255
        },
        "outputId": "e63ce3a4-f124-407b-dff6-8428b17ac9d6"
      },
      "source": [
        "# Пропуски есть, но не критично много\n",
        "# заполним их средними значениями\n",
        "data_merged['population'] = data_merged['population'].fillna(\n",
        "                            data_merged['population'].mean())\n",
        "# И преобразуем float к int\n",
        "data_merged['population'] = data_merged['population'].astype(np.int)\n",
        "data_merged.info()"
      ],
      "execution_count": 18,
      "outputs": [
        {
          "output_type": "stream",
          "text": [
            "<class 'pandas.core.frame.DataFrame'>\n",
            "Int64Index: 3169 entries, 0 to 3168\n",
            "Data columns (total 7 columns):\n",
            " #   Column      Non-Null Count  Dtype \n",
            "---  ------      --------------  ----- \n",
            " 0   position    3169 non-null   object\n",
            " 1   gender      3169 non-null   object\n",
            " 2   city        3169 non-null   object\n",
            " 3   age         3169 non-null   int64 \n",
            " 4   salary      3169 non-null   int64 \n",
            " 5   experience  3169 non-null   int64 \n",
            " 6   population  3169 non-null   int64 \n",
            "dtypes: int64(4), object(3)\n",
            "memory usage: 198.1+ KB\n"
          ],
          "name": "stdout"
        }
      ]
    },
    {
      "cell_type": "code",
      "metadata": {
        "id": "sgzpCHXaJvPF",
        "colab_type": "code",
        "colab": {
          "base_uri": "https://localhost:8080/",
          "height": 204
        },
        "outputId": "fa971a91-acc1-41fc-be80-9d1a39e1d9bc"
      },
      "source": [
        "data_merged.head()"
      ],
      "execution_count": 19,
      "outputs": [
        {
          "output_type": "execute_result",
          "data": {
            "text/html": [
              "<div>\n",
              "<style scoped>\n",
              "    .dataframe tbody tr th:only-of-type {\n",
              "        vertical-align: middle;\n",
              "    }\n",
              "\n",
              "    .dataframe tbody tr th {\n",
              "        vertical-align: top;\n",
              "    }\n",
              "\n",
              "    .dataframe thead th {\n",
              "        text-align: right;\n",
              "    }\n",
              "</style>\n",
              "<table border=\"1\" class=\"dataframe\">\n",
              "  <thead>\n",
              "    <tr style=\"text-align: right;\">\n",
              "      <th></th>\n",
              "      <th>position</th>\n",
              "      <th>gender</th>\n",
              "      <th>city</th>\n",
              "      <th>age</th>\n",
              "      <th>salary</th>\n",
              "      <th>experience</th>\n",
              "      <th>population</th>\n",
              "    </tr>\n",
              "  </thead>\n",
              "  <tbody>\n",
              "    <tr>\n",
              "      <th>0</th>\n",
              "      <td>Менеджер по продажам</td>\n",
              "      <td>Женщина</td>\n",
              "      <td>Москва</td>\n",
              "      <td>31</td>\n",
              "      <td>70</td>\n",
              "      <td>8</td>\n",
              "      <td>11514330</td>\n",
              "    </tr>\n",
              "    <tr>\n",
              "      <th>1</th>\n",
              "      <td>Клиентский менеджер</td>\n",
              "      <td>Мужчина</td>\n",
              "      <td>Липецк</td>\n",
              "      <td>40</td>\n",
              "      <td>90</td>\n",
              "      <td>15</td>\n",
              "      <td>508124</td>\n",
              "    </tr>\n",
              "    <tr>\n",
              "      <th>2</th>\n",
              "      <td>Супервайзер</td>\n",
              "      <td>Мужчина</td>\n",
              "      <td>Самара</td>\n",
              "      <td>34</td>\n",
              "      <td>50</td>\n",
              "      <td>7</td>\n",
              "      <td>1164896</td>\n",
              "    </tr>\n",
              "    <tr>\n",
              "      <th>3</th>\n",
              "      <td>Коммерческий директор</td>\n",
              "      <td>Мужчина</td>\n",
              "      <td>Краснодар</td>\n",
              "      <td>47</td>\n",
              "      <td>60</td>\n",
              "      <td>10</td>\n",
              "      <td>744933</td>\n",
              "    </tr>\n",
              "    <tr>\n",
              "      <th>4</th>\n",
              "      <td>Менеджер по продажам</td>\n",
              "      <td>Мужчина</td>\n",
              "      <td>Москва</td>\n",
              "      <td>43</td>\n",
              "      <td>50</td>\n",
              "      <td>11</td>\n",
              "      <td>11514330</td>\n",
              "    </tr>\n",
              "  </tbody>\n",
              "</table>\n",
              "</div>"
            ],
            "text/plain": [
              "                position   gender       city  ...  salary  experience  population\n",
              "0   Менеджер по продажам  Женщина     Москва  ...      70           8    11514330\n",
              "1    Клиентский менеджер  Мужчина     Липецк  ...      90          15      508124\n",
              "2            Супервайзер  Мужчина     Самара  ...      50           7     1164896\n",
              "3  Коммерческий директор  Мужчина  Краснодар  ...      60          10      744933\n",
              "4   Менеджер по продажам  Мужчина     Москва  ...      50          11    11514330\n",
              "\n",
              "[5 rows x 7 columns]"
            ]
          },
          "metadata": {
            "tags": []
          },
          "execution_count": 19
        }
      ]
    },
    {
      "cell_type": "code",
      "metadata": {
        "id": "_Xg1p5HU1tat",
        "colab_type": "code",
        "colab": {
          "base_uri": "https://localhost:8080/",
          "height": 204
        },
        "outputId": "6a68fa15-0365-4c43-d76d-70e3a6ab9001"
      },
      "source": [
        "# Далее, преобразуем категориальные признаки в числовые\n",
        "data_merged['gender_lbl'] = data_merged['gender'].apply(\n",
        "                            lambda x: 1 if x == 'Мужчина' else 0\n",
        "                            )\n",
        "data_merged.head()"
      ],
      "execution_count": 20,
      "outputs": [
        {
          "output_type": "execute_result",
          "data": {
            "text/html": [
              "<div>\n",
              "<style scoped>\n",
              "    .dataframe tbody tr th:only-of-type {\n",
              "        vertical-align: middle;\n",
              "    }\n",
              "\n",
              "    .dataframe tbody tr th {\n",
              "        vertical-align: top;\n",
              "    }\n",
              "\n",
              "    .dataframe thead th {\n",
              "        text-align: right;\n",
              "    }\n",
              "</style>\n",
              "<table border=\"1\" class=\"dataframe\">\n",
              "  <thead>\n",
              "    <tr style=\"text-align: right;\">\n",
              "      <th></th>\n",
              "      <th>position</th>\n",
              "      <th>gender</th>\n",
              "      <th>city</th>\n",
              "      <th>age</th>\n",
              "      <th>salary</th>\n",
              "      <th>experience</th>\n",
              "      <th>population</th>\n",
              "      <th>gender_lbl</th>\n",
              "    </tr>\n",
              "  </thead>\n",
              "  <tbody>\n",
              "    <tr>\n",
              "      <th>0</th>\n",
              "      <td>Менеджер по продажам</td>\n",
              "      <td>Женщина</td>\n",
              "      <td>Москва</td>\n",
              "      <td>31</td>\n",
              "      <td>70</td>\n",
              "      <td>8</td>\n",
              "      <td>11514330</td>\n",
              "      <td>0</td>\n",
              "    </tr>\n",
              "    <tr>\n",
              "      <th>1</th>\n",
              "      <td>Клиентский менеджер</td>\n",
              "      <td>Мужчина</td>\n",
              "      <td>Липецк</td>\n",
              "      <td>40</td>\n",
              "      <td>90</td>\n",
              "      <td>15</td>\n",
              "      <td>508124</td>\n",
              "      <td>1</td>\n",
              "    </tr>\n",
              "    <tr>\n",
              "      <th>2</th>\n",
              "      <td>Супервайзер</td>\n",
              "      <td>Мужчина</td>\n",
              "      <td>Самара</td>\n",
              "      <td>34</td>\n",
              "      <td>50</td>\n",
              "      <td>7</td>\n",
              "      <td>1164896</td>\n",
              "      <td>1</td>\n",
              "    </tr>\n",
              "    <tr>\n",
              "      <th>3</th>\n",
              "      <td>Коммерческий директор</td>\n",
              "      <td>Мужчина</td>\n",
              "      <td>Краснодар</td>\n",
              "      <td>47</td>\n",
              "      <td>60</td>\n",
              "      <td>10</td>\n",
              "      <td>744933</td>\n",
              "      <td>1</td>\n",
              "    </tr>\n",
              "    <tr>\n",
              "      <th>4</th>\n",
              "      <td>Менеджер по продажам</td>\n",
              "      <td>Мужчина</td>\n",
              "      <td>Москва</td>\n",
              "      <td>43</td>\n",
              "      <td>50</td>\n",
              "      <td>11</td>\n",
              "      <td>11514330</td>\n",
              "      <td>1</td>\n",
              "    </tr>\n",
              "  </tbody>\n",
              "</table>\n",
              "</div>"
            ],
            "text/plain": [
              "                position   gender  ... population  gender_lbl\n",
              "0   Менеджер по продажам  Женщина  ...   11514330           0\n",
              "1    Клиентский менеджер  Мужчина  ...     508124           1\n",
              "2            Супервайзер  Мужчина  ...    1164896           1\n",
              "3  Коммерческий директор  Мужчина  ...     744933           1\n",
              "4   Менеджер по продажам  Мужчина  ...   11514330           1\n",
              "\n",
              "[5 rows x 8 columns]"
            ]
          },
          "metadata": {
            "tags": []
          },
          "execution_count": 20
        }
      ]
    },
    {
      "cell_type": "code",
      "metadata": {
        "id": "Zkrnpu9NdRo9",
        "colab_type": "code",
        "colab": {
          "base_uri": "https://localhost:8080/",
          "height": 315
        },
        "outputId": "9b524cf7-d7f5-4005-eb33-d5f59d602633"
      },
      "source": [
        "# Посмотрим на зависимости между признаками\n",
        "\n",
        "from seaborn import heatmap\n",
        "\n",
        "heatmap(\n",
        "    data_merged[['salary', \n",
        "                 'age', \n",
        "                 'experience', \n",
        "                 'population', \n",
        "                 'gender_lbl']\n",
        "                ].corr());"
      ],
      "execution_count": 22,
      "outputs": [
        {
          "output_type": "display_data",
          "data": {
            "image/png": "[encoded data removed]",
            "text/plain": [
              "<Figure size 432x288 with 2 Axes>"
            ]
          },
          "metadata": {
            "tags": [],
            "needs_background": "light"
          }
        }
      ]
    },
    {
      "cell_type": "markdown",
      "metadata": {
        "id": "ywIo6ZpLftD7",
        "colab_type": "text"
      },
      "source": [
        "Как видно, самая сильная зависимость уровня ожиданий - от численности населения города проживания (в крупных городах ожидания явно выше)"
      ]
    },
    {
      "cell_type": "code",
      "metadata": {
        "id": "yfAhvXI77NYf",
        "colab_type": "code",
        "colab": {
          "base_uri": "https://localhost:8080/",
          "height": 241
        },
        "outputId": "e6309228-fc22-4e59-ad65-f72caac04598"
      },
      "source": [
        "# Добавим фиктивные переменные к датасету из наименований позиций\n",
        "# при помощи метода \"One-hot encoding\"\n",
        "data_dummy = pd.get_dummies(data_merged.drop(['city', 'gender'], axis=1))\n",
        "data_dummy.head()"
      ],
      "execution_count": 23,
      "outputs": [
        {
          "output_type": "execute_result",
          "data": {
            "text/html": [
              "<div>\n",
              "<style scoped>\n",
              "    .dataframe tbody tr th:only-of-type {\n",
              "        vertical-align: middle;\n",
              "    }\n",
              "\n",
              "    .dataframe tbody tr th {\n",
              "        vertical-align: top;\n",
              "    }\n",
              "\n",
              "    .dataframe thead th {\n",
              "        text-align: right;\n",
              "    }\n",
              "</style>\n",
              "<table border=\"1\" class=\"dataframe\">\n",
              "  <thead>\n",
              "    <tr style=\"text-align: right;\">\n",
              "      <th></th>\n",
              "      <th>age</th>\n",
              "      <th>salary</th>\n",
              "      <th>experience</th>\n",
              "      <th>population</th>\n",
              "      <th>gender_lbl</th>\n",
              "      <th>position_Администратор</th>\n",
              "      <th>position_Водитель</th>\n",
              "      <th>position_Кам</th>\n",
              "      <th>position_Кассир</th>\n",
              "      <th>position_Кладовщик</th>\n",
              "      <th>position_Клиентский менеджер</th>\n",
              "      <th>position_Коммерческий директор</th>\n",
              "      <th>position_Курьер</th>\n",
              "      <th>position_Менеджер по закупкам</th>\n",
              "      <th>position_Менеджер по продажам</th>\n",
              "      <th>position_Менеджер по развитию</th>\n",
              "      <th>position_Мерчендайзер</th>\n",
              "      <th>position_Оператор</th>\n",
              "      <th>position_Помощник менеджера</th>\n",
              "      <th>position_Продавец-консультант</th>\n",
              "      <th>position_Региональный менеджер</th>\n",
              "      <th>position_Руководитель продаж</th>\n",
              "      <th>position_Специалист</th>\n",
              "      <th>position_Супервайзер</th>\n",
              "      <th>position_Территориальный менеджер</th>\n",
              "      <th>position_Товаровед</th>\n",
              "      <th>position_Торговый представитель</th>\n",
              "      <th>position_Управляющий магазином</th>\n",
              "    </tr>\n",
              "  </thead>\n",
              "  <tbody>\n",
              "    <tr>\n",
              "      <th>0</th>\n",
              "      <td>31</td>\n",
              "      <td>70</td>\n",
              "      <td>8</td>\n",
              "      <td>11514330</td>\n",
              "      <td>0</td>\n",
              "      <td>0</td>\n",
              "      <td>0</td>\n",
              "      <td>0</td>\n",
              "      <td>0</td>\n",
              "      <td>0</td>\n",
              "      <td>0</td>\n",
              "      <td>0</td>\n",
              "      <td>0</td>\n",
              "      <td>0</td>\n",
              "      <td>1</td>\n",
              "      <td>0</td>\n",
              "      <td>0</td>\n",
              "      <td>0</td>\n",
              "      <td>0</td>\n",
              "      <td>0</td>\n",
              "      <td>0</td>\n",
              "      <td>0</td>\n",
              "      <td>0</td>\n",
              "      <td>0</td>\n",
              "      <td>0</td>\n",
              "      <td>0</td>\n",
              "      <td>0</td>\n",
              "      <td>0</td>\n",
              "    </tr>\n",
              "    <tr>\n",
              "      <th>1</th>\n",
              "      <td>40</td>\n",
              "      <td>90</td>\n",
              "      <td>15</td>\n",
              "      <td>508124</td>\n",
              "      <td>1</td>\n",
              "      <td>0</td>\n",
              "      <td>0</td>\n",
              "      <td>0</td>\n",
              "      <td>0</td>\n",
              "      <td>0</td>\n",
              "      <td>1</td>\n",
              "      <td>0</td>\n",
              "      <td>0</td>\n",
              "      <td>0</td>\n",
              "      <td>0</td>\n",
              "      <td>0</td>\n",
              "      <td>0</td>\n",
              "      <td>0</td>\n",
              "      <td>0</td>\n",
              "      <td>0</td>\n",
              "      <td>0</td>\n",
              "      <td>0</td>\n",
              "      <td>0</td>\n",
              "      <td>0</td>\n",
              "      <td>0</td>\n",
              "      <td>0</td>\n",
              "      <td>0</td>\n",
              "      <td>0</td>\n",
              "    </tr>\n",
              "    <tr>\n",
              "      <th>2</th>\n",
              "      <td>34</td>\n",
              "      <td>50</td>\n",
              "      <td>7</td>\n",
              "      <td>1164896</td>\n",
              "      <td>1</td>\n",
              "      <td>0</td>\n",
              "      <td>0</td>\n",
              "      <td>0</td>\n",
              "      <td>0</td>\n",
              "      <td>0</td>\n",
              "      <td>0</td>\n",
              "      <td>0</td>\n",
              "      <td>0</td>\n",
              "      <td>0</td>\n",
              "      <td>0</td>\n",
              "      <td>0</td>\n",
              "      <td>0</td>\n",
              "      <td>0</td>\n",
              "      <td>0</td>\n",
              "      <td>0</td>\n",
              "      <td>0</td>\n",
              "      <td>0</td>\n",
              "      <td>0</td>\n",
              "      <td>1</td>\n",
              "      <td>0</td>\n",
              "      <td>0</td>\n",
              "      <td>0</td>\n",
              "      <td>0</td>\n",
              "    </tr>\n",
              "    <tr>\n",
              "      <th>3</th>\n",
              "      <td>47</td>\n",
              "      <td>60</td>\n",
              "      <td>10</td>\n",
              "      <td>744933</td>\n",
              "      <td>1</td>\n",
              "      <td>0</td>\n",
              "      <td>0</td>\n",
              "      <td>0</td>\n",
              "      <td>0</td>\n",
              "      <td>0</td>\n",
              "      <td>0</td>\n",
              "      <td>1</td>\n",
              "      <td>0</td>\n",
              "      <td>0</td>\n",
              "      <td>0</td>\n",
              "      <td>0</td>\n",
              "      <td>0</td>\n",
              "      <td>0</td>\n",
              "      <td>0</td>\n",
              "      <td>0</td>\n",
              "      <td>0</td>\n",
              "      <td>0</td>\n",
              "      <td>0</td>\n",
              "      <td>0</td>\n",
              "      <td>0</td>\n",
              "      <td>0</td>\n",
              "      <td>0</td>\n",
              "      <td>0</td>\n",
              "    </tr>\n",
              "    <tr>\n",
              "      <th>4</th>\n",
              "      <td>43</td>\n",
              "      <td>50</td>\n",
              "      <td>11</td>\n",
              "      <td>11514330</td>\n",
              "      <td>1</td>\n",
              "      <td>0</td>\n",
              "      <td>0</td>\n",
              "      <td>0</td>\n",
              "      <td>0</td>\n",
              "      <td>0</td>\n",
              "      <td>0</td>\n",
              "      <td>0</td>\n",
              "      <td>0</td>\n",
              "      <td>0</td>\n",
              "      <td>1</td>\n",
              "      <td>0</td>\n",
              "      <td>0</td>\n",
              "      <td>0</td>\n",
              "      <td>0</td>\n",
              "      <td>0</td>\n",
              "      <td>0</td>\n",
              "      <td>0</td>\n",
              "      <td>0</td>\n",
              "      <td>0</td>\n",
              "      <td>0</td>\n",
              "      <td>0</td>\n",
              "      <td>0</td>\n",
              "      <td>0</td>\n",
              "    </tr>\n",
              "  </tbody>\n",
              "</table>\n",
              "</div>"
            ],
            "text/plain": [
              "   age  salary  ...  position_Торговый представитель  position_Управляющий магазином\n",
              "0   31      70  ...                                0                               0\n",
              "1   40      90  ...                                0                               0\n",
              "2   34      50  ...                                0                               0\n",
              "3   47      60  ...                                0                               0\n",
              "4   43      50  ...                                0                               0\n",
              "\n",
              "[5 rows x 28 columns]"
            ]
          },
          "metadata": {
            "tags": []
          },
          "execution_count": 23
        }
      ]
    },
    {
      "cell_type": "code",
      "metadata": {
        "id": "l_dlgxGy5B6g",
        "colab_type": "code",
        "colab": {
          "base_uri": "https://localhost:8080/",
          "height": 265
        },
        "outputId": "4a09ee82-ab69-47d5-d7e8-8008115535fb"
      },
      "source": [
        "# Посмотрим на частые позиции\n",
        "import seaborn as sns\n",
        "import matplotlib.pyplot as plt\n",
        "\n",
        "db = data_dummy.drop(['age',\t'salary',\t'experience',\t\n",
        "                       'population',\t'gender_lbl'], axis=1)\n",
        "\n",
        "sns.barplot(x = db.sum(), \n",
        "            y = db.sum().index);"
      ],
      "execution_count": 24,
      "outputs": [
        {
          "output_type": "display_data",
          "data": {
            "image/png": "[encoded data removed]",
            "text/plain": [
              "<Figure size 432x288 with 1 Axes>"
            ]
          },
          "metadata": {
            "tags": [],
            "needs_background": "light"
          }
        }
      ]
    },
    {
      "cell_type": "code",
      "metadata": {
        "id": "fmBNzSNaqHtw",
        "colab_type": "code",
        "colab": {
          "base_uri": "https://localhost:8080/",
          "height": 34
        },
        "outputId": "ef8fec5c-22fb-4b94-dcce-25c7df4d38eb"
      },
      "source": [
        "# Как видно, данные по позициям очень неоднородны\n",
        "# Случайным образом \"перемешаем\" и добавим частями\n",
        "# уже имеющиеся данные в датасет\n",
        "\n",
        "from sklearn.utils import shuffle\n",
        "import random\n",
        "\n",
        "for i in range(30000):\n",
        "  data_shuffle = shuffle(data_dummy).head(10)\n",
        "  data_dummy = data_dummy.append(data_shuffle)\n",
        "\n",
        "len(data_dummy)"
      ],
      "execution_count": 25,
      "outputs": [
        {
          "output_type": "execute_result",
          "data": {
            "text/plain": [
              "303169"
            ]
          },
          "metadata": {
            "tags": []
          },
          "execution_count": 25
        }
      ]
    },
    {
      "cell_type": "code",
      "metadata": {
        "id": "p46xxV7hRnXK",
        "colab_type": "code",
        "colab": {}
      },
      "source": [
        "# Сохраним получившийся датасет\n",
        "\n",
        "data_dummy.to_excel(f'{wdir}/data_dummy.xlsx')"
      ],
      "execution_count": 26,
      "outputs": []
    },
    {
      "cell_type": "code",
      "metadata": {
        "id": "xR0GFeehSh5d",
        "colab_type": "code",
        "colab": {
          "base_uri": "https://localhost:8080/",
          "height": 241
        },
        "outputId": "45a285b5-39be-402d-beee-b7befe59e1c8"
      },
      "source": [
        "data_dummy = pd.read_excel(f'{wdir}/data_dummy.xlsx')\n",
        "data_dummy = data_dummy.drop('Unnamed: 0', axis=1)\n",
        "data_dummy.head()"
      ],
      "execution_count": 28,
      "outputs": [
        {
          "output_type": "execute_result",
          "data": {
            "text/html": [
              "<div>\n",
              "<style scoped>\n",
              "    .dataframe tbody tr th:only-of-type {\n",
              "        vertical-align: middle;\n",
              "    }\n",
              "\n",
              "    .dataframe tbody tr th {\n",
              "        vertical-align: top;\n",
              "    }\n",
              "\n",
              "    .dataframe thead th {\n",
              "        text-align: right;\n",
              "    }\n",
              "</style>\n",
              "<table border=\"1\" class=\"dataframe\">\n",
              "  <thead>\n",
              "    <tr style=\"text-align: right;\">\n",
              "      <th></th>\n",
              "      <th>age</th>\n",
              "      <th>salary</th>\n",
              "      <th>experience</th>\n",
              "      <th>population</th>\n",
              "      <th>gender_lbl</th>\n",
              "      <th>position_Администратор</th>\n",
              "      <th>position_Водитель</th>\n",
              "      <th>position_Кам</th>\n",
              "      <th>position_Кассир</th>\n",
              "      <th>position_Кладовщик</th>\n",
              "      <th>position_Клиентский менеджер</th>\n",
              "      <th>position_Коммерческий директор</th>\n",
              "      <th>position_Курьер</th>\n",
              "      <th>position_Менеджер по закупкам</th>\n",
              "      <th>position_Менеджер по продажам</th>\n",
              "      <th>position_Менеджер по развитию</th>\n",
              "      <th>position_Мерчендайзер</th>\n",
              "      <th>position_Оператор</th>\n",
              "      <th>position_Помощник менеджера</th>\n",
              "      <th>position_Продавец-консультант</th>\n",
              "      <th>position_Региональный менеджер</th>\n",
              "      <th>position_Руководитель продаж</th>\n",
              "      <th>position_Специалист</th>\n",
              "      <th>position_Супервайзер</th>\n",
              "      <th>position_Территориальный менеджер</th>\n",
              "      <th>position_Товаровед</th>\n",
              "      <th>position_Торговый представитель</th>\n",
              "      <th>position_Управляющий магазином</th>\n",
              "    </tr>\n",
              "  </thead>\n",
              "  <tbody>\n",
              "    <tr>\n",
              "      <th>0</th>\n",
              "      <td>31</td>\n",
              "      <td>70</td>\n",
              "      <td>8</td>\n",
              "      <td>11514330</td>\n",
              "      <td>0</td>\n",
              "      <td>0</td>\n",
              "      <td>0</td>\n",
              "      <td>0</td>\n",
              "      <td>0</td>\n",
              "      <td>0</td>\n",
              "      <td>0</td>\n",
              "      <td>0</td>\n",
              "      <td>0</td>\n",
              "      <td>0</td>\n",
              "      <td>1</td>\n",
              "      <td>0</td>\n",
              "      <td>0</td>\n",
              "      <td>0</td>\n",
              "      <td>0</td>\n",
              "      <td>0</td>\n",
              "      <td>0</td>\n",
              "      <td>0</td>\n",
              "      <td>0</td>\n",
              "      <td>0</td>\n",
              "      <td>0</td>\n",
              "      <td>0</td>\n",
              "      <td>0</td>\n",
              "      <td>0</td>\n",
              "    </tr>\n",
              "    <tr>\n",
              "      <th>1</th>\n",
              "      <td>40</td>\n",
              "      <td>90</td>\n",
              "      <td>15</td>\n",
              "      <td>508124</td>\n",
              "      <td>1</td>\n",
              "      <td>0</td>\n",
              "      <td>0</td>\n",
              "      <td>0</td>\n",
              "      <td>0</td>\n",
              "      <td>0</td>\n",
              "      <td>1</td>\n",
              "      <td>0</td>\n",
              "      <td>0</td>\n",
              "      <td>0</td>\n",
              "      <td>0</td>\n",
              "      <td>0</td>\n",
              "      <td>0</td>\n",
              "      <td>0</td>\n",
              "      <td>0</td>\n",
              "      <td>0</td>\n",
              "      <td>0</td>\n",
              "      <td>0</td>\n",
              "      <td>0</td>\n",
              "      <td>0</td>\n",
              "      <td>0</td>\n",
              "      <td>0</td>\n",
              "      <td>0</td>\n",
              "      <td>0</td>\n",
              "    </tr>\n",
              "    <tr>\n",
              "      <th>2</th>\n",
              "      <td>34</td>\n",
              "      <td>50</td>\n",
              "      <td>7</td>\n",
              "      <td>1164896</td>\n",
              "      <td>1</td>\n",
              "      <td>0</td>\n",
              "      <td>0</td>\n",
              "      <td>0</td>\n",
              "      <td>0</td>\n",
              "      <td>0</td>\n",
              "      <td>0</td>\n",
              "      <td>0</td>\n",
              "      <td>0</td>\n",
              "      <td>0</td>\n",
              "      <td>0</td>\n",
              "      <td>0</td>\n",
              "      <td>0</td>\n",
              "      <td>0</td>\n",
              "      <td>0</td>\n",
              "      <td>0</td>\n",
              "      <td>0</td>\n",
              "      <td>0</td>\n",
              "      <td>0</td>\n",
              "      <td>1</td>\n",
              "      <td>0</td>\n",
              "      <td>0</td>\n",
              "      <td>0</td>\n",
              "      <td>0</td>\n",
              "    </tr>\n",
              "    <tr>\n",
              "      <th>3</th>\n",
              "      <td>47</td>\n",
              "      <td>60</td>\n",
              "      <td>10</td>\n",
              "      <td>744933</td>\n",
              "      <td>1</td>\n",
              "      <td>0</td>\n",
              "      <td>0</td>\n",
              "      <td>0</td>\n",
              "      <td>0</td>\n",
              "      <td>0</td>\n",
              "      <td>0</td>\n",
              "      <td>1</td>\n",
              "      <td>0</td>\n",
              "      <td>0</td>\n",
              "      <td>0</td>\n",
              "      <td>0</td>\n",
              "      <td>0</td>\n",
              "      <td>0</td>\n",
              "      <td>0</td>\n",
              "      <td>0</td>\n",
              "      <td>0</td>\n",
              "      <td>0</td>\n",
              "      <td>0</td>\n",
              "      <td>0</td>\n",
              "      <td>0</td>\n",
              "      <td>0</td>\n",
              "      <td>0</td>\n",
              "      <td>0</td>\n",
              "    </tr>\n",
              "    <tr>\n",
              "      <th>4</th>\n",
              "      <td>43</td>\n",
              "      <td>50</td>\n",
              "      <td>11</td>\n",
              "      <td>11514330</td>\n",
              "      <td>1</td>\n",
              "      <td>0</td>\n",
              "      <td>0</td>\n",
              "      <td>0</td>\n",
              "      <td>0</td>\n",
              "      <td>0</td>\n",
              "      <td>0</td>\n",
              "      <td>0</td>\n",
              "      <td>0</td>\n",
              "      <td>0</td>\n",
              "      <td>1</td>\n",
              "      <td>0</td>\n",
              "      <td>0</td>\n",
              "      <td>0</td>\n",
              "      <td>0</td>\n",
              "      <td>0</td>\n",
              "      <td>0</td>\n",
              "      <td>0</td>\n",
              "      <td>0</td>\n",
              "      <td>0</td>\n",
              "      <td>0</td>\n",
              "      <td>0</td>\n",
              "      <td>0</td>\n",
              "      <td>0</td>\n",
              "    </tr>\n",
              "  </tbody>\n",
              "</table>\n",
              "</div>"
            ],
            "text/plain": [
              "   age  salary  ...  position_Торговый представитель  position_Управляющий магазином\n",
              "0   31      70  ...                                0                               0\n",
              "1   40      90  ...                                0                               0\n",
              "2   34      50  ...                                0                               0\n",
              "3   47      60  ...                                0                               0\n",
              "4   43      50  ...                                0                               0\n",
              "\n",
              "[5 rows x 28 columns]"
            ]
          },
          "metadata": {
            "tags": []
          },
          "execution_count": 28
        }
      ]
    },
    {
      "cell_type": "code",
      "metadata": {
        "id": "sO_b41ULyTo6",
        "colab_type": "code",
        "colab": {}
      },
      "source": [
        "# Теперь выберем по 400 случайных строк по каждой позиции\n",
        "\n",
        "balanced_data = pd.DataFrame()\n",
        "\n",
        "for i in data_dummy.columns[5:]:\n",
        "  data_filtred = data_dummy[data_dummy[i] == 1].head(400)\n",
        "  balanced_data = balanced_data.append(data_filtred)\n",
        "  balanced_data.index = range(len(balanced_data.index))\n",
        "\n",
        "balanced_data.to_excel(f'{wdir}/balanced_data.xlsx')"
      ],
      "execution_count": 32,
      "outputs": []
    },
    {
      "cell_type": "code",
      "metadata": {
        "id": "WNtQNkvaWtqG",
        "colab_type": "code",
        "colab": {
          "base_uri": "https://localhost:8080/",
          "height": 241
        },
        "outputId": "5c316c73-43ae-4331-8653-8ee71d537934"
      },
      "source": [
        "# Загрузим подготовленные данные\n",
        "balanced_data = pd.read_excel(f'{wdir}/balanced_data.xlsx')\n",
        "balanced_data = balanced_data.drop('Unnamed: 0', axis=1)\n",
        "balanced_data.head()"
      ],
      "execution_count": 36,
      "outputs": [
        {
          "output_type": "execute_result",
          "data": {
            "text/html": [
              "<div>\n",
              "<style scoped>\n",
              "    .dataframe tbody tr th:only-of-type {\n",
              "        vertical-align: middle;\n",
              "    }\n",
              "\n",
              "    .dataframe tbody tr th {\n",
              "        vertical-align: top;\n",
              "    }\n",
              "\n",
              "    .dataframe thead th {\n",
              "        text-align: right;\n",
              "    }\n",
              "</style>\n",
              "<table border=\"1\" class=\"dataframe\">\n",
              "  <thead>\n",
              "    <tr style=\"text-align: right;\">\n",
              "      <th></th>\n",
              "      <th>age</th>\n",
              "      <th>salary</th>\n",
              "      <th>experience</th>\n",
              "      <th>population</th>\n",
              "      <th>gender_lbl</th>\n",
              "      <th>position_Администратор</th>\n",
              "      <th>position_Водитель</th>\n",
              "      <th>position_Кам</th>\n",
              "      <th>position_Кассир</th>\n",
              "      <th>position_Кладовщик</th>\n",
              "      <th>position_Клиентский менеджер</th>\n",
              "      <th>position_Коммерческий директор</th>\n",
              "      <th>position_Курьер</th>\n",
              "      <th>position_Менеджер по закупкам</th>\n",
              "      <th>position_Менеджер по продажам</th>\n",
              "      <th>position_Менеджер по развитию</th>\n",
              "      <th>position_Мерчендайзер</th>\n",
              "      <th>position_Оператор</th>\n",
              "      <th>position_Помощник менеджера</th>\n",
              "      <th>position_Продавец-консультант</th>\n",
              "      <th>position_Региональный менеджер</th>\n",
              "      <th>position_Руководитель продаж</th>\n",
              "      <th>position_Специалист</th>\n",
              "      <th>position_Супервайзер</th>\n",
              "      <th>position_Территориальный менеджер</th>\n",
              "      <th>position_Товаровед</th>\n",
              "      <th>position_Торговый представитель</th>\n",
              "      <th>position_Управляющий магазином</th>\n",
              "    </tr>\n",
              "  </thead>\n",
              "  <tbody>\n",
              "    <tr>\n",
              "      <th>0</th>\n",
              "      <td>31</td>\n",
              "      <td>60</td>\n",
              "      <td>8</td>\n",
              "      <td>11514330</td>\n",
              "      <td>1</td>\n",
              "      <td>1</td>\n",
              "      <td>0</td>\n",
              "      <td>0</td>\n",
              "      <td>0</td>\n",
              "      <td>0</td>\n",
              "      <td>0</td>\n",
              "      <td>0</td>\n",
              "      <td>0</td>\n",
              "      <td>0</td>\n",
              "      <td>0</td>\n",
              "      <td>0</td>\n",
              "      <td>0</td>\n",
              "      <td>0</td>\n",
              "      <td>0</td>\n",
              "      <td>0</td>\n",
              "      <td>0</td>\n",
              "      <td>0</td>\n",
              "      <td>0</td>\n",
              "      <td>0</td>\n",
              "      <td>0</td>\n",
              "      <td>0</td>\n",
              "      <td>0</td>\n",
              "      <td>0</td>\n",
              "    </tr>\n",
              "    <tr>\n",
              "      <th>1</th>\n",
              "      <td>31</td>\n",
              "      <td>60</td>\n",
              "      <td>8</td>\n",
              "      <td>11514330</td>\n",
              "      <td>1</td>\n",
              "      <td>1</td>\n",
              "      <td>0</td>\n",
              "      <td>0</td>\n",
              "      <td>0</td>\n",
              "      <td>0</td>\n",
              "      <td>0</td>\n",
              "      <td>0</td>\n",
              "      <td>0</td>\n",
              "      <td>0</td>\n",
              "      <td>0</td>\n",
              "      <td>0</td>\n",
              "      <td>0</td>\n",
              "      <td>0</td>\n",
              "      <td>0</td>\n",
              "      <td>0</td>\n",
              "      <td>0</td>\n",
              "      <td>0</td>\n",
              "      <td>0</td>\n",
              "      <td>0</td>\n",
              "      <td>0</td>\n",
              "      <td>0</td>\n",
              "      <td>0</td>\n",
              "      <td>0</td>\n",
              "    </tr>\n",
              "    <tr>\n",
              "      <th>2</th>\n",
              "      <td>29</td>\n",
              "      <td>50</td>\n",
              "      <td>7</td>\n",
              "      <td>11514330</td>\n",
              "      <td>0</td>\n",
              "      <td>1</td>\n",
              "      <td>0</td>\n",
              "      <td>0</td>\n",
              "      <td>0</td>\n",
              "      <td>0</td>\n",
              "      <td>0</td>\n",
              "      <td>0</td>\n",
              "      <td>0</td>\n",
              "      <td>0</td>\n",
              "      <td>0</td>\n",
              "      <td>0</td>\n",
              "      <td>0</td>\n",
              "      <td>0</td>\n",
              "      <td>0</td>\n",
              "      <td>0</td>\n",
              "      <td>0</td>\n",
              "      <td>0</td>\n",
              "      <td>0</td>\n",
              "      <td>0</td>\n",
              "      <td>0</td>\n",
              "      <td>0</td>\n",
              "      <td>0</td>\n",
              "      <td>0</td>\n",
              "    </tr>\n",
              "    <tr>\n",
              "      <th>3</th>\n",
              "      <td>29</td>\n",
              "      <td>50</td>\n",
              "      <td>7</td>\n",
              "      <td>11514330</td>\n",
              "      <td>0</td>\n",
              "      <td>1</td>\n",
              "      <td>0</td>\n",
              "      <td>0</td>\n",
              "      <td>0</td>\n",
              "      <td>0</td>\n",
              "      <td>0</td>\n",
              "      <td>0</td>\n",
              "      <td>0</td>\n",
              "      <td>0</td>\n",
              "      <td>0</td>\n",
              "      <td>0</td>\n",
              "      <td>0</td>\n",
              "      <td>0</td>\n",
              "      <td>0</td>\n",
              "      <td>0</td>\n",
              "      <td>0</td>\n",
              "      <td>0</td>\n",
              "      <td>0</td>\n",
              "      <td>0</td>\n",
              "      <td>0</td>\n",
              "      <td>0</td>\n",
              "      <td>0</td>\n",
              "      <td>0</td>\n",
              "    </tr>\n",
              "    <tr>\n",
              "      <th>4</th>\n",
              "      <td>33</td>\n",
              "      <td>55</td>\n",
              "      <td>12</td>\n",
              "      <td>11514330</td>\n",
              "      <td>0</td>\n",
              "      <td>1</td>\n",
              "      <td>0</td>\n",
              "      <td>0</td>\n",
              "      <td>0</td>\n",
              "      <td>0</td>\n",
              "      <td>0</td>\n",
              "      <td>0</td>\n",
              "      <td>0</td>\n",
              "      <td>0</td>\n",
              "      <td>0</td>\n",
              "      <td>0</td>\n",
              "      <td>0</td>\n",
              "      <td>0</td>\n",
              "      <td>0</td>\n",
              "      <td>0</td>\n",
              "      <td>0</td>\n",
              "      <td>0</td>\n",
              "      <td>0</td>\n",
              "      <td>0</td>\n",
              "      <td>0</td>\n",
              "      <td>0</td>\n",
              "      <td>0</td>\n",
              "      <td>0</td>\n",
              "    </tr>\n",
              "  </tbody>\n",
              "</table>\n",
              "</div>"
            ],
            "text/plain": [
              "   age  salary  ...  position_Торговый представитель  position_Управляющий магазином\n",
              "0   31      60  ...                                0                               0\n",
              "1   31      60  ...                                0                               0\n",
              "2   29      50  ...                                0                               0\n",
              "3   29      50  ...                                0                               0\n",
              "4   33      55  ...                                0                               0\n",
              "\n",
              "[5 rows x 28 columns]"
            ]
          },
          "metadata": {
            "tags": []
          },
          "execution_count": 36
        }
      ]
    },
    {
      "cell_type": "code",
      "metadata": {
        "id": "MisnVcJe1cDN",
        "colab_type": "code",
        "colab": {
          "base_uri": "https://localhost:8080/",
          "height": 334
        },
        "outputId": "2b833c5d-6a87-4d6d-ce4b-bf3fd2a7cdb6"
      },
      "source": [
        "balanced_data.describe()"
      ],
      "execution_count": 37,
      "outputs": [
        {
          "output_type": "execute_result",
          "data": {
            "text/html": [
              "<div>\n",
              "<style scoped>\n",
              "    .dataframe tbody tr th:only-of-type {\n",
              "        vertical-align: middle;\n",
              "    }\n",
              "\n",
              "    .dataframe tbody tr th {\n",
              "        vertical-align: top;\n",
              "    }\n",
              "\n",
              "    .dataframe thead th {\n",
              "        text-align: right;\n",
              "    }\n",
              "</style>\n",
              "<table border=\"1\" class=\"dataframe\">\n",
              "  <thead>\n",
              "    <tr style=\"text-align: right;\">\n",
              "      <th></th>\n",
              "      <th>age</th>\n",
              "      <th>salary</th>\n",
              "      <th>experience</th>\n",
              "      <th>population</th>\n",
              "      <th>gender_lbl</th>\n",
              "      <th>position_Администратор</th>\n",
              "      <th>position_Водитель</th>\n",
              "      <th>position_Кам</th>\n",
              "      <th>position_Кассир</th>\n",
              "      <th>position_Кладовщик</th>\n",
              "      <th>position_Клиентский менеджер</th>\n",
              "      <th>position_Коммерческий директор</th>\n",
              "      <th>position_Курьер</th>\n",
              "      <th>position_Менеджер по закупкам</th>\n",
              "      <th>position_Менеджер по продажам</th>\n",
              "      <th>position_Менеджер по развитию</th>\n",
              "      <th>position_Мерчендайзер</th>\n",
              "      <th>position_Оператор</th>\n",
              "      <th>position_Помощник менеджера</th>\n",
              "      <th>position_Продавец-консультант</th>\n",
              "      <th>position_Региональный менеджер</th>\n",
              "      <th>position_Руководитель продаж</th>\n",
              "      <th>position_Специалист</th>\n",
              "      <th>position_Супервайзер</th>\n",
              "      <th>position_Территориальный менеджер</th>\n",
              "      <th>position_Товаровед</th>\n",
              "      <th>position_Торговый представитель</th>\n",
              "      <th>position_Управляющий магазином</th>\n",
              "    </tr>\n",
              "  </thead>\n",
              "  <tbody>\n",
              "    <tr>\n",
              "      <th>count</th>\n",
              "      <td>7312.000000</td>\n",
              "      <td>7312.000000</td>\n",
              "      <td>7312.000000</td>\n",
              "      <td>7.312000e+03</td>\n",
              "      <td>7312.000000</td>\n",
              "      <td>7312.000000</td>\n",
              "      <td>7312.000000</td>\n",
              "      <td>7312.000000</td>\n",
              "      <td>7312.000000</td>\n",
              "      <td>7312.000000</td>\n",
              "      <td>7312.000000</td>\n",
              "      <td>7312.000000</td>\n",
              "      <td>7312.000000</td>\n",
              "      <td>7312.000000</td>\n",
              "      <td>7312.000000</td>\n",
              "      <td>7312.000000</td>\n",
              "      <td>7312.000000</td>\n",
              "      <td>7312.000000</td>\n",
              "      <td>7312.000000</td>\n",
              "      <td>7312.000000</td>\n",
              "      <td>7312.000000</td>\n",
              "      <td>7312.000000</td>\n",
              "      <td>7312.000000</td>\n",
              "      <td>7312.000000</td>\n",
              "      <td>7312.000000</td>\n",
              "      <td>7312.000000</td>\n",
              "      <td>7312.000000</td>\n",
              "      <td>7312.000000</td>\n",
              "    </tr>\n",
              "    <tr>\n",
              "      <th>mean</th>\n",
              "      <td>33.188868</td>\n",
              "      <td>63.462391</td>\n",
              "      <td>10.638950</td>\n",
              "      <td>5.398106e+06</td>\n",
              "      <td>0.673550</td>\n",
              "      <td>0.054705</td>\n",
              "      <td>0.054705</td>\n",
              "      <td>0.019694</td>\n",
              "      <td>0.019283</td>\n",
              "      <td>0.015591</td>\n",
              "      <td>0.054705</td>\n",
              "      <td>0.054705</td>\n",
              "      <td>0.013676</td>\n",
              "      <td>0.027216</td>\n",
              "      <td>0.054705</td>\n",
              "      <td>0.054705</td>\n",
              "      <td>0.054705</td>\n",
              "      <td>0.007112</td>\n",
              "      <td>0.022155</td>\n",
              "      <td>0.054705</td>\n",
              "      <td>0.054705</td>\n",
              "      <td>0.054705</td>\n",
              "      <td>0.054705</td>\n",
              "      <td>0.054705</td>\n",
              "      <td>0.054705</td>\n",
              "      <td>0.054705</td>\n",
              "      <td>0.054705</td>\n",
              "      <td>0.054705</td>\n",
              "    </tr>\n",
              "    <tr>\n",
              "      <th>std</th>\n",
              "      <td>11.316139</td>\n",
              "      <td>35.010079</td>\n",
              "      <td>4.609032</td>\n",
              "      <td>4.863162e+06</td>\n",
              "      <td>0.468946</td>\n",
              "      <td>0.227418</td>\n",
              "      <td>0.227418</td>\n",
              "      <td>0.138955</td>\n",
              "      <td>0.137529</td>\n",
              "      <td>0.123894</td>\n",
              "      <td>0.227418</td>\n",
              "      <td>0.227418</td>\n",
              "      <td>0.116151</td>\n",
              "      <td>0.162722</td>\n",
              "      <td>0.227418</td>\n",
              "      <td>0.227418</td>\n",
              "      <td>0.227418</td>\n",
              "      <td>0.084036</td>\n",
              "      <td>0.147199</td>\n",
              "      <td>0.227418</td>\n",
              "      <td>0.227418</td>\n",
              "      <td>0.227418</td>\n",
              "      <td>0.227418</td>\n",
              "      <td>0.227418</td>\n",
              "      <td>0.227418</td>\n",
              "      <td>0.227418</td>\n",
              "      <td>0.227418</td>\n",
              "      <td>0.227418</td>\n",
              "    </tr>\n",
              "    <tr>\n",
              "      <th>min</th>\n",
              "      <td>0.000000</td>\n",
              "      <td>32.000000</td>\n",
              "      <td>5.000000</td>\n",
              "      <td>1.184800e+04</td>\n",
              "      <td>0.000000</td>\n",
              "      <td>0.000000</td>\n",
              "      <td>0.000000</td>\n",
              "      <td>0.000000</td>\n",
              "      <td>0.000000</td>\n",
              "      <td>0.000000</td>\n",
              "      <td>0.000000</td>\n",
              "      <td>0.000000</td>\n",
              "      <td>0.000000</td>\n",
              "      <td>0.000000</td>\n",
              "      <td>0.000000</td>\n",
              "      <td>0.000000</td>\n",
              "      <td>0.000000</td>\n",
              "      <td>0.000000</td>\n",
              "      <td>0.000000</td>\n",
              "      <td>0.000000</td>\n",
              "      <td>0.000000</td>\n",
              "      <td>0.000000</td>\n",
              "      <td>0.000000</td>\n",
              "      <td>0.000000</td>\n",
              "      <td>0.000000</td>\n",
              "      <td>0.000000</td>\n",
              "      <td>0.000000</td>\n",
              "      <td>0.000000</td>\n",
              "    </tr>\n",
              "    <tr>\n",
              "      <th>25%</th>\n",
              "      <td>28.000000</td>\n",
              "      <td>40.000000</td>\n",
              "      <td>7.000000</td>\n",
              "      <td>8.899890e+05</td>\n",
              "      <td>0.000000</td>\n",
              "      <td>0.000000</td>\n",
              "      <td>0.000000</td>\n",
              "      <td>0.000000</td>\n",
              "      <td>0.000000</td>\n",
              "      <td>0.000000</td>\n",
              "      <td>0.000000</td>\n",
              "      <td>0.000000</td>\n",
              "      <td>0.000000</td>\n",
              "      <td>0.000000</td>\n",
              "      <td>0.000000</td>\n",
              "      <td>0.000000</td>\n",
              "      <td>0.000000</td>\n",
              "      <td>0.000000</td>\n",
              "      <td>0.000000</td>\n",
              "      <td>0.000000</td>\n",
              "      <td>0.000000</td>\n",
              "      <td>0.000000</td>\n",
              "      <td>0.000000</td>\n",
              "      <td>0.000000</td>\n",
              "      <td>0.000000</td>\n",
              "      <td>0.000000</td>\n",
              "      <td>0.000000</td>\n",
              "      <td>0.000000</td>\n",
              "    </tr>\n",
              "    <tr>\n",
              "      <th>50%</th>\n",
              "      <td>34.000000</td>\n",
              "      <td>50.000000</td>\n",
              "      <td>10.000000</td>\n",
              "      <td>4.394741e+06</td>\n",
              "      <td>1.000000</td>\n",
              "      <td>0.000000</td>\n",
              "      <td>0.000000</td>\n",
              "      <td>0.000000</td>\n",
              "      <td>0.000000</td>\n",
              "      <td>0.000000</td>\n",
              "      <td>0.000000</td>\n",
              "      <td>0.000000</td>\n",
              "      <td>0.000000</td>\n",
              "      <td>0.000000</td>\n",
              "      <td>0.000000</td>\n",
              "      <td>0.000000</td>\n",
              "      <td>0.000000</td>\n",
              "      <td>0.000000</td>\n",
              "      <td>0.000000</td>\n",
              "      <td>0.000000</td>\n",
              "      <td>0.000000</td>\n",
              "      <td>0.000000</td>\n",
              "      <td>0.000000</td>\n",
              "      <td>0.000000</td>\n",
              "      <td>0.000000</td>\n",
              "      <td>0.000000</td>\n",
              "      <td>0.000000</td>\n",
              "      <td>0.000000</td>\n",
              "    </tr>\n",
              "    <tr>\n",
              "      <th>75%</th>\n",
              "      <td>40.000000</td>\n",
              "      <td>70.000000</td>\n",
              "      <td>12.000000</td>\n",
              "      <td>1.151433e+07</td>\n",
              "      <td>1.000000</td>\n",
              "      <td>0.000000</td>\n",
              "      <td>0.000000</td>\n",
              "      <td>0.000000</td>\n",
              "      <td>0.000000</td>\n",
              "      <td>0.000000</td>\n",
              "      <td>0.000000</td>\n",
              "      <td>0.000000</td>\n",
              "      <td>0.000000</td>\n",
              "      <td>0.000000</td>\n",
              "      <td>0.000000</td>\n",
              "      <td>0.000000</td>\n",
              "      <td>0.000000</td>\n",
              "      <td>0.000000</td>\n",
              "      <td>0.000000</td>\n",
              "      <td>0.000000</td>\n",
              "      <td>0.000000</td>\n",
              "      <td>0.000000</td>\n",
              "      <td>0.000000</td>\n",
              "      <td>0.000000</td>\n",
              "      <td>0.000000</td>\n",
              "      <td>0.000000</td>\n",
              "      <td>0.000000</td>\n",
              "      <td>0.000000</td>\n",
              "    </tr>\n",
              "    <tr>\n",
              "      <th>max</th>\n",
              "      <td>72.000000</td>\n",
              "      <td>280.000000</td>\n",
              "      <td>50.000000</td>\n",
              "      <td>1.151433e+07</td>\n",
              "      <td>1.000000</td>\n",
              "      <td>1.000000</td>\n",
              "      <td>1.000000</td>\n",
              "      <td>1.000000</td>\n",
              "      <td>1.000000</td>\n",
              "      <td>1.000000</td>\n",
              "      <td>1.000000</td>\n",
              "      <td>1.000000</td>\n",
              "      <td>1.000000</td>\n",
              "      <td>1.000000</td>\n",
              "      <td>1.000000</td>\n",
              "      <td>1.000000</td>\n",
              "      <td>1.000000</td>\n",
              "      <td>1.000000</td>\n",
              "      <td>1.000000</td>\n",
              "      <td>1.000000</td>\n",
              "      <td>1.000000</td>\n",
              "      <td>1.000000</td>\n",
              "      <td>1.000000</td>\n",
              "      <td>1.000000</td>\n",
              "      <td>1.000000</td>\n",
              "      <td>1.000000</td>\n",
              "      <td>1.000000</td>\n",
              "      <td>1.000000</td>\n",
              "    </tr>\n",
              "  </tbody>\n",
              "</table>\n",
              "</div>"
            ],
            "text/plain": [
              "               age  ...  position_Управляющий магазином\n",
              "count  7312.000000  ...                     7312.000000\n",
              "mean     33.188868  ...                        0.054705\n",
              "std      11.316139  ...                        0.227418\n",
              "min       0.000000  ...                        0.000000\n",
              "25%      28.000000  ...                        0.000000\n",
              "50%      34.000000  ...                        0.000000\n",
              "75%      40.000000  ...                        0.000000\n",
              "max      72.000000  ...                        1.000000\n",
              "\n",
              "[8 rows x 28 columns]"
            ]
          },
          "metadata": {
            "tags": []
          },
          "execution_count": 37
        }
      ]
    },
    {
      "cell_type": "code",
      "metadata": {
        "id": "DgAnFV8TpTJf",
        "colab_type": "code",
        "colab": {
          "base_uri": "https://localhost:8080/",
          "height": 612
        },
        "outputId": "402cc538-3fe7-4e34-9aaa-05235258e5f1"
      },
      "source": [
        "balanced_data.info()"
      ],
      "execution_count": 97,
      "outputs": [
        {
          "output_type": "stream",
          "text": [
            "<class 'pandas.core.frame.DataFrame'>\n",
            "RangeIndex: 7312 entries, 0 to 7311\n",
            "Data columns (total 28 columns):\n",
            " #   Column                             Non-Null Count  Dtype\n",
            "---  ------                             --------------  -----\n",
            " 0   age                                7312 non-null   int64\n",
            " 1   salary                             7312 non-null   int64\n",
            " 2   experience                         7312 non-null   int64\n",
            " 3   population                         7312 non-null   int64\n",
            " 4   gender_lbl                         7312 non-null   int64\n",
            " 5   position_Администратор             7312 non-null   int64\n",
            " 6   position_Водитель                  7312 non-null   int64\n",
            " 7   position_Кам                       7312 non-null   int64\n",
            " 8   position_Кассир                    7312 non-null   int64\n",
            " 9   position_Кладовщик                 7312 non-null   int64\n",
            " 10  position_Клиентский менеджер       7312 non-null   int64\n",
            " 11  position_Коммерческий директор     7312 non-null   int64\n",
            " 12  position_Курьер                    7312 non-null   int64\n",
            " 13  position_Менеджер по закупкам      7312 non-null   int64\n",
            " 14  position_Менеджер по продажам      7312 non-null   int64\n",
            " 15  position_Менеджер по развитию      7312 non-null   int64\n",
            " 16  position_Мерчендайзер              7312 non-null   int64\n",
            " 17  position_Оператор                  7312 non-null   int64\n",
            " 18  position_Помощник менеджера        7312 non-null   int64\n",
            " 19  position_Продавец-консультант      7312 non-null   int64\n",
            " 20  position_Региональный менеджер     7312 non-null   int64\n",
            " 21  position_Руководитель продаж       7312 non-null   int64\n",
            " 22  position_Специалист                7312 non-null   int64\n",
            " 23  position_Супервайзер               7312 non-null   int64\n",
            " 24  position_Территориальный менеджер  7312 non-null   int64\n",
            " 25  position_Товаровед                 7312 non-null   int64\n",
            " 26  position_Торговый представитель    7312 non-null   int64\n",
            " 27  position_Управляющий магазином     7312 non-null   int64\n",
            "dtypes: int64(28)\n",
            "memory usage: 1.6 MB\n"
          ],
          "name": "stdout"
        }
      ]
    },
    {
      "cell_type": "code",
      "metadata": {
        "id": "-J9tu99QsiL_",
        "colab_type": "code",
        "colab": {
          "base_uri": "https://localhost:8080/",
          "height": 265
        },
        "outputId": "5e55c720-afa8-41d5-b8b3-20470576fd82"
      },
      "source": [
        "# Снова посмотрим на позиции\n",
        "import seaborn as sns\n",
        "import matplotlib.pyplot as plt\n",
        "\n",
        "db = balanced_data.drop(['age',\t'salary',\t'experience',\t\n",
        "                       'population',\t'gender_lbl'], axis=1)\n",
        "\n",
        "sns.barplot(x = db.sum(), \n",
        "            y = db.sum().index);"
      ],
      "execution_count": 38,
      "outputs": [
        {
          "output_type": "display_data",
          "data": {
            "image/png": "[encoded data removed]",
            "text/plain": [
              "<Figure size 432x288 with 1 Axes>"
            ]
          },
          "metadata": {
            "tags": [],
            "needs_background": "light"
          }
        }
      ]
    },
    {
      "cell_type": "markdown",
      "metadata": {
        "id": "qJ6RunJQ1owW",
        "colab_type": "text"
      },
      "source": [
        "Совсем другое дело..."
      ]
    },
    {
      "cell_type": "code",
      "metadata": {
        "id": "jZJtYmIrwvkg",
        "colab_type": "code",
        "colab": {
          "base_uri": "https://localhost:8080/",
          "height": 437
        },
        "outputId": "402da60b-94b6-4f0a-b888-562f2dad76ab"
      },
      "source": [
        "import seaborn as sns\n",
        "from seaborn import heatmap\n",
        "\n",
        "heatmap(balanced_data[['salary',\n",
        "                   'position_Коммерческий директор',\n",
        "                   'position_Менеджер по продажам',\n",
        "                   'position_Мерчендайзер',\n",
        "                   'position_Руководитель продаж',\n",
        "                    'position_Региональный менеджер',\n",
        "                   'position_Супервайзер',\n",
        "                   'position_Торговый представитель'\n",
        "                    ]].corr());"
      ],
      "execution_count": 39,
      "outputs": [
        {
          "output_type": "display_data",
          "data": {
            "image/png": "[encoded data removed]",
            "text/plain": [
              "<Figure size 432x288 with 2 Axes>"
            ]
          },
          "metadata": {
            "tags": [],
            "needs_background": "light"
          }
        }
      ]
    },
    {
      "cell_type": "markdown",
      "metadata": {
        "id": "xbU1BM04yB7d",
        "colab_type": "text"
      },
      "source": [
        "Также на примере мы видим явную зависимость между статусными позициями, такими как \"Коммерческий директор\" и \"Руководитель продаж\" и уровнем их ожиданий по доходу"
      ]
    },
    {
      "cell_type": "markdown",
      "metadata": {
        "id": "cUfjcM12NVDx",
        "colab_type": "text"
      },
      "source": [
        "## Baseline - тренируем наивную модель"
      ]
    },
    {
      "cell_type": "markdown",
      "metadata": {
        "id": "KQMuAa9M65OT",
        "colab_type": "text"
      },
      "source": [
        "\"Always start with a stupid model, no exceptions...\""
      ]
    },
    {
      "cell_type": "code",
      "metadata": {
        "id": "7d-VQlV0kfbz",
        "colab_type": "code",
        "colab": {}
      },
      "source": [
        "# Фиксируем гиперпараметры\n",
        "random_seed = 42\n",
        "splits = 5"
      ],
      "execution_count": 40,
      "outputs": []
    },
    {
      "cell_type": "code",
      "metadata": {
        "id": "PpQd7pKYUwbp",
        "colab_type": "code",
        "colab": {}
      },
      "source": [
        "from sklearn.model_selection import train_test_split\n",
        "\n",
        "\n",
        "def data_split(data):\n",
        "  \"\"\"Hold-out разбиение датасета на две выборки\"\"\"\n",
        "  X = data.drop(['salary'], axis=1)\n",
        "  y = data['salary'].values\n",
        "\n",
        "  X_train, X_test, y_train, y_test = train_test_split(\n",
        "      X, y, test_size=0.2, shuffle=True,\n",
        "      random_state=random_seed\n",
        "      )\n",
        "  \n",
        "  return X_train, X_test, y_train, y_test\n"
      ],
      "execution_count": 41,
      "outputs": []
    },
    {
      "cell_type": "code",
      "metadata": {
        "id": "K_LxoSPR9Bpf",
        "colab_type": "code",
        "colab": {
          "base_uri": "https://localhost:8080/",
          "height": 170
        },
        "outputId": "a5a14270-25e8-4b07-ecd8-79e1d65788b9"
      },
      "source": [
        "# Посмотрим на структуру разбиения\n",
        "from prettytable import PrettyTable\n",
        "x = PrettyTable()\n",
        "\n",
        "X_train, X_test, y_train, y_test = data_split(balanced_data)\n",
        "\n",
        "x.field_names = [\"Тип выборки\", \"Размерность\"]\n",
        "x.add_row([\"Исходная выборка\", balanced_data.shape])\n",
        "x.add_row([\"X_train\", X_train.shape])\n",
        "x.add_row([\"X_test\", X_test.shape])\n",
        "x.add_row([\"y_train\", y_train.shape])\n",
        "x.add_row([\"y_test\", y_test.shape])\n",
        "print(x)"
      ],
      "execution_count": 42,
      "outputs": [
        {
          "output_type": "stream",
          "text": [
            "+------------------+-------------+\n",
            "|   Тип выборки    | Размерность |\n",
            "+------------------+-------------+\n",
            "| Исходная выборка |  (7312, 28) |\n",
            "|     X_train      |  (5849, 27) |\n",
            "|      X_test      |  (1463, 27) |\n",
            "|     y_train      |   (5849,)   |\n",
            "|      y_test      |   (1463,)   |\n",
            "+------------------+-------------+\n"
          ],
          "name": "stdout"
        }
      ]
    },
    {
      "cell_type": "markdown",
      "metadata": {
        "id": "JLsF47UCZ7bo",
        "colab_type": "text"
      },
      "source": [
        "Наша задача предсказания ожиданий кандидата по уровню оплаты труда сводится к классической задаче регрессии (с учителем)."
      ]
    },
    {
      "cell_type": "code",
      "metadata": {
        "id": "6W6VYopeNxQV",
        "colab_type": "code",
        "colab": {}
      },
      "source": [
        "from sklearn.linear_model import LinearRegression\n",
        "from sklearn.metrics import mean_absolute_error as mae\n",
        "\n",
        "\n",
        "def train_linreg(data):\n",
        "  \"\"\"Обучает модель регрессии\"\"\"\n",
        "\n",
        "  X_train, X_test, y_train, y_test = data_split(data)\n",
        " \n",
        "  # Описание модели\n",
        "  model = LinearRegression()\n",
        "  \n",
        "  # Обучение модели\n",
        "  model.fit(\n",
        "      X_train, y_train\n",
        "      )\n",
        "  \n",
        "  # Предсказание на основании обученной модели\n",
        "  y_pred = model.predict(X_test)\n",
        "  \n",
        "  # Метрика качества mse\n",
        "  error = mae(y_test, y_pred)\n",
        "  \n",
        "  print('mae:', error, 'mape:', error / data['salary'].mean())"
      ],
      "execution_count": 47,
      "outputs": []
    },
    {
      "cell_type": "markdown",
      "metadata": {
        "id": "LThyg7QBqFK4",
        "colab_type": "text"
      },
      "source": [
        "Более всего целевая переменная зависит от параметров:\n",
        "- численность населения (population)\n",
        "- позиция (position)\n",
        "\n",
        "Посмотрим на ошибку, которую выдаст наивная модель по каждому из параметров в отдельности"
      ]
    },
    {
      "cell_type": "code",
      "metadata": {
        "id": "RzEjq3t4HZmM",
        "colab_type": "code",
        "colab": {
          "base_uri": "https://localhost:8080/",
          "height": 34
        },
        "outputId": "2720b28d-5142-4070-dbcc-8119faf40a31"
      },
      "source": [
        "# Какую ошибку выдаст наивная модель по одной позиции\n",
        "train_linreg(\n",
        "    balanced_data[balanced_data['position_Менеджер по продажам'] == 1]\n",
        ")"
      ],
      "execution_count": 48,
      "outputs": [
        {
          "output_type": "stream",
          "text": [
            "mae: 20.46442590395653 mape: 0.31795573360196594\n"
          ],
          "name": "stdout"
        }
      ]
    },
    {
      "cell_type": "code",
      "metadata": {
        "id": "18wPQcl2n-mu",
        "colab_type": "code",
        "colab": {
          "base_uri": "https://localhost:8080/",
          "height": 34
        },
        "outputId": "cc06bba5-08d3-4309-8c18-2148367e2226"
      },
      "source": [
        "# Какую ошибку выдаст наивная модель по одному городу\n",
        "# (численность города Москва)\n",
        "train_linreg(\n",
        "    balanced_data[balanced_data['population'] == 11514330]\n",
        ")"
      ],
      "execution_count": 49,
      "outputs": [
        {
          "output_type": "stream",
          "text": [
            "mae: 12.985730744238905 mape: 0.16928599157229177\n"
          ],
          "name": "stdout"
        }
      ]
    },
    {
      "cell_type": "code",
      "metadata": {
        "id": "pO0c3RMs1bTN",
        "colab_type": "code",
        "colab": {
          "base_uri": "https://localhost:8080/",
          "height": 34
        },
        "outputId": "03b95921-0f19-4fb9-b9ff-b9380fb351e3"
      },
      "source": [
        "# Какую ошибку выдаст наивная модель по всей выборке\n",
        "train_linreg(balanced_data)"
      ],
      "execution_count": 50,
      "outputs": [
        {
          "output_type": "stream",
          "text": [
            "mae: 14.076955348208232 mape: 0.22181571190680613\n"
          ],
          "name": "stdout"
        }
      ]
    },
    {
      "cell_type": "markdown",
      "metadata": {
        "id": "SHrxJhjuhFO-",
        "colab_type": "text"
      },
      "source": [
        "Метрики `mae` и `mape` выберем в связи с их высокой интуитивностью, ведь все понимают, что ошибка модели в 14 тыс.р при средней ожидаемой зарплате в 65 тыс.р. - это достаточно много (22% - показатель MAPE)."
      ]
    },
    {
      "cell_type": "markdown",
      "metadata": {
        "id": "yocoFjYWs1DL",
        "colab_type": "text"
      },
      "source": [
        "Из оценок наивной модели явно видно, что величина средней ошибки от 14 до 20 тыс.р., причем в рамках одной позиции ошибка даже выше, чем в рамках одного города, что говорит о высоком разбросе значений ожиданий кандидатов по одной позиции"
      ]
    },
    {
      "cell_type": "markdown",
      "metadata": {
        "id": "v0j9EBPhFNOs",
        "colab_type": "text"
      },
      "source": [
        "## Подготовка и построение модели"
      ]
    },
    {
      "cell_type": "markdown",
      "metadata": {
        "id": "Q6Y0koR7c8To",
        "colab_type": "text"
      },
      "source": [
        "### Разбиение выборки и кросс-валидация"
      ]
    },
    {
      "cell_type": "markdown",
      "metadata": {
        "id": "5Jd3SjeZc4aS",
        "colab_type": "text"
      },
      "source": [
        "![image.png](data:image/png;base64,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)"
      ]
    },
    {
      "cell_type": "markdown",
      "metadata": {
        "id": "4h1Xt0AddWgW",
        "colab_type": "text"
      },
      "source": [
        "Обучение модели на одной разбивке данных, особенно при небольшом их количестве, как в нашем случае - является методологической ошибкой. Поэтому, сделаем разбиение данных на фолды и кросс-валидацию"
      ]
    },
    {
      "cell_type": "code",
      "metadata": {
        "id": "gCIfgX2ggk4i",
        "colab_type": "code",
        "colab": {
          "base_uri": "https://localhost:8080/",
          "height": 54
        },
        "outputId": "4acdda55-66cd-4648-8bce-1f52f03b5056"
      },
      "source": [
        "import sklearn\n",
        "\n",
        "sklearn.metrics.SCORERS.keys()"
      ],
      "execution_count": 51,
      "outputs": [
        {
          "output_type": "execute_result",
          "data": {
            "text/plain": [
              "dict_keys(['explained_variance', 'r2', 'max_error', 'neg_median_absolute_error', 'neg_mean_absolute_error', 'neg_mean_squared_error', 'neg_mean_squared_log_error', 'neg_root_mean_squared_error', 'neg_mean_poisson_deviance', 'neg_mean_gamma_deviance', 'accuracy', 'roc_auc', 'roc_auc_ovr', 'roc_auc_ovo', 'roc_auc_ovr_weighted', 'roc_auc_ovo_weighted', 'balanced_accuracy', 'average_precision', 'neg_log_loss', 'neg_brier_score', 'adjusted_rand_score', 'homogeneity_score', 'completeness_score', 'v_measure_score', 'mutual_info_score', 'adjusted_mutual_info_score', 'normalized_mutual_info_score', 'fowlkes_mallows_score', 'precision', 'precision_macro', 'precision_micro', 'precision_samples', 'precision_weighted', 'recall', 'recall_macro', 'recall_micro', 'recall_samples', 'recall_weighted', 'f1', 'f1_macro', 'f1_micro', 'f1_samples', 'f1_weighted', 'jaccard', 'jaccard_macro', 'jaccard_micro', 'jaccard_samples', 'jaccard_weighted'])"
            ]
          },
          "metadata": {
            "tags": []
          },
          "execution_count": 51
        }
      ]
    },
    {
      "cell_type": "code",
      "metadata": {
        "id": "taY1MjmVP5Lx",
        "colab_type": "code",
        "colab": {}
      },
      "source": [
        "from sklearn.model_selection import cross_val_score\n",
        "\n",
        "\n",
        "def cross_val(data, model):\n",
        "  \"\"\"Скоринг кросс-валидации данных\"\"\"\n",
        "  X = data.drop(['salary'], axis=1)\n",
        "  y = data['salary'].values\n",
        "\n",
        "  predicted = cross_val_score(model, \n",
        "                              X, y, \n",
        "                              cv=splits,\n",
        "                              scoring='neg_mean_absolute_error')\n",
        "  return predicted\n"
      ],
      "execution_count": 52,
      "outputs": []
    },
    {
      "cell_type": "code",
      "metadata": {
        "id": "LkTS5GgpS78q",
        "colab_type": "code",
        "colab": {
          "base_uri": "https://localhost:8080/",
          "height": 51
        },
        "outputId": "44707d0a-d97c-452b-b51d-6abdc183eaf2"
      },
      "source": [
        "# Начнем с модели линейной регрессии\n",
        "from sklearn.linear_model import LinearRegression\n",
        "\n",
        "model_lr = LinearRegression()\n",
        "cross_val(balanced_data, model_lr)"
      ],
      "execution_count": 53,
      "outputs": [
        {
          "output_type": "execute_result",
          "data": {
            "text/plain": [
              "array([-28.0189495 , -27.97175023, -25.06500226, -19.08384004,\n",
              "       -18.74082811])"
            ]
          },
          "metadata": {
            "tags": []
          },
          "execution_count": 53
        }
      ]
    },
    {
      "cell_type": "markdown",
      "metadata": {
        "id": "5QUokW73XJA9",
        "colab_type": "text"
      },
      "source": [
        "Мы видим что критичного дисбаланса в выборке между фолдами не наблюдается, поэтому можем разбить данные на тренировочный и тестовый датасеты, не опасаясь переобучения. Но перед этим посмотрим визуально как работает кросс-валидация на наших данных в модели линейной регрессии"
      ]
    },
    {
      "cell_type": "code",
      "metadata": {
        "id": "Tzk772NaSPIt",
        "colab_type": "code",
        "colab": {}
      },
      "source": [
        "from sklearn.model_selection import cross_val_predict\n",
        "from sklearn.metrics import mean_absolute_error as mae\n",
        "import matplotlib.pyplot as plt\n",
        "\n",
        "\n",
        "def cross_val_fig(data, model):\n",
        "  \"\"\"Визуализация прогноза кросс-валидации данных\"\"\"\n",
        "  X = data.drop(['salary'], axis=1)\n",
        "  y = data['salary'].values\n",
        "\n",
        "  predicted = cross_val_predict(model, \n",
        "                                X, y, \n",
        "                                cv=splits)\n",
        "  \n",
        "  error = mae(y, predicted)\n",
        "  # cross_val_predict возвращает массив размерности `y`, где каждое значение\n",
        "  # где каждый прогноз получен методом кросс-валидации:\n",
        "  fig, ax = plt.subplots()\n",
        "  ax.scatter(y, predicted, edgecolors=(0, 0, 0))\n",
        "  ax.plot([y.min(), y.max()], [y.min(), y.max()], 'k--', lw=1)\n",
        "  ax.set_xlabel('Measured')\n",
        "  ax.set_ylabel('Predicted')\n",
        "  \n",
        "  print('MAE:', error)\n",
        "  plt.show()\n"
      ],
      "execution_count": 54,
      "outputs": []
    },
    {
      "cell_type": "code",
      "metadata": {
        "id": "TgnTb_zreWvh",
        "colab_type": "code",
        "colab": {
          "base_uri": "https://localhost:8080/",
          "height": 296
        },
        "outputId": "bd98d1c9-a8e8-4384-b3e9-78b057960e68"
      },
      "source": [
        "from sklearn.linear_model import LinearRegression\n",
        "\n",
        "model_lr = LinearRegression()\n",
        "cross_val_fig(balanced_data, model_lr)"
      ],
      "execution_count": 57,
      "outputs": [
        {
          "output_type": "stream",
          "text": [
            "MAE: 23.777228096119707\n"
          ],
          "name": "stdout"
        },
        {
          "output_type": "display_data",
          "data": {
            "image/png": "[encoded data removed]",
            "text/plain": [
              "<Figure size 432x288 with 1 Axes>"
            ]
          },
          "metadata": {
            "tags": [],
            "needs_background": "light"
          }
        }
      ]
    },
    {
      "cell_type": "markdown",
      "metadata": {
        "id": "tG0-brwoBTtH",
        "colab_type": "text"
      },
      "source": [
        "Как видно, предсказание по зарплатным ожиданиям > 100 тыс.р - на базовой модели линейной регрессии работает плохо"
      ]
    },
    {
      "cell_type": "code",
      "metadata": {
        "id": "gQ9YzqOjFt4l",
        "colab_type": "code",
        "colab": {
          "base_uri": "https://localhost:8080/",
          "height": 313
        },
        "outputId": "d8c66b64-789c-4f41-cd43-5f9f17a6f29e"
      },
      "source": [
        "# Посмотрим на данных с ожиданиями более 100 тыс.р\n",
        "print('Позиций с ЗП > 100:', len(balanced_data[balanced_data['salary'] > 100]))\n",
        "model_lr = LinearRegression()\n",
        "cross_val_fig(balanced_data[balanced_data['salary'] > 100], model_lr)"
      ],
      "execution_count": 58,
      "outputs": [
        {
          "output_type": "stream",
          "text": [
            "Позиций с ЗП > 100: 595\n",
            "MAE: 18.002847517138598\n"
          ],
          "name": "stdout"
        },
        {
          "output_type": "display_data",
          "data": {
            "image/png": "[encoded data removed]",
            "text/plain": [
              "<Figure size 432x288 with 1 Axes>"
            ]
          },
          "metadata": {
            "tags": [],
            "needs_background": "light"
          }
        }
      ]
    },
    {
      "cell_type": "code",
      "metadata": {
        "id": "ONvm2M-iKN2A",
        "colab_type": "code",
        "colab": {
          "base_uri": "https://localhost:8080/",
          "height": 313
        },
        "outputId": "96e5a549-13c2-423b-c54c-d443061f4ac3"
      },
      "source": [
        "print('Позиций с ЗП < 100:', len(balanced_data[balanced_data['salary'] < 100]))\n",
        "model_lr = LinearRegression()\n",
        "cross_val_fig(balanced_data[balanced_data['salary'] < 100], model_lr)"
      ],
      "execution_count": 59,
      "outputs": [
        {
          "output_type": "stream",
          "text": [
            "Позиций с ЗП < 100: 6440\n",
            "MAE: 11.53896619629305\n"
          ],
          "name": "stdout"
        },
        {
          "output_type": "display_data",
          "data": {
            "image/png": "[encoded data removed]",
            "text/plain": [
              "<Figure size 432x288 with 1 Axes>"
            ]
          },
          "metadata": {
            "tags": [],
            "needs_background": "light"
          }
        }
      ]
    },
    {
      "cell_type": "markdown",
      "metadata": {
        "id": "9SUchVXAY-gx",
        "colab_type": "text"
      },
      "source": [
        "Средняя ошибка на данных кандидатов с ожиданиями < 100 тыс.р - почти в два раза ниже, чем на данных кандидатов с ожиданиями > 100 тыс.р."
      ]
    },
    {
      "cell_type": "markdown",
      "metadata": {
        "id": "VdGrxLZdvGqw",
        "colab_type": "text"
      },
      "source": [
        "### Сравнительное тестирование различных моделей с базовыми параметрами"
      ]
    },
    {
      "cell_type": "code",
      "metadata": {
        "id": "NCOaQernazzf",
        "colab_type": "code",
        "colab": {}
      },
      "source": [
        "!pip install catboost"
      ],
      "execution_count": null,
      "outputs": []
    },
    {
      "cell_type": "code",
      "metadata": {
        "id": "bftMFFmFadhW",
        "colab_type": "code",
        "colab": {}
      },
      "source": [
        "from sklearn.metrics import mean_absolute_error as mae\n",
        "from catboost import CatBoostRegressor\n",
        "from lightgbm import LGBMRegressor\n",
        "from xgboost import XGBRegressor\n",
        "from sklearn.ensemble import RandomForestRegressor\n",
        "from sklearn.ensemble import ExtraTreesRegressor\n",
        "\n",
        "from prettytable import PrettyTable\n",
        "x = PrettyTable()\n",
        "\n",
        "\n",
        "def review_models(data):\n",
        "  \"\"\"Обзор метрики MAE / MAPE некоторых моделей на\n",
        "  стандартных настройках\"\"\"\n",
        "\n",
        "  mean_salary = data['salary'].mean()\n",
        "\n",
        "  X_train, X_test, y_train, y_test = data_split(data)\n",
        "  \n",
        "  # CatBoost\n",
        "  model_catboost = CatBoostRegressor(random_state=random_seed)\n",
        "  model_catboost.fit(X_train, y_train, silent=True)\n",
        "  y_catboost = model_catboost.predict(X_test)\n",
        "  mae_catboost = mae(y_test, y_catboost)\n",
        "\n",
        "  # Lightgbm\n",
        "  model_lightgbm = LGBMRegressor(random_state=random_seed)\n",
        "  model_lightgbm.fit(X_train, y_train)\n",
        "  y_lightgbm = model_lightgbm.predict(X_test)\n",
        "  mae_lightgbm = mae(y_test, y_lightgbm)\n",
        "\n",
        "  # XGBRegressor\n",
        "  model_xgb = XGBRegressor(random_state=random_seed)\n",
        "  model_xgb.fit(X_train, y_train)\n",
        "  y_xgb = model_xgb.predict(X_test)\n",
        "  mae_xgb = mae(y_test, y_xgb)\n",
        "\n",
        "  # RandomForest\n",
        "  model_rf = RandomForestRegressor(random_state=random_seed)\n",
        "  model_rf.fit(X_train, y_train)\n",
        "  y_rf = model_rf.predict(X_test)\n",
        "  mae_rf = mae(y_test, y_rf)\n",
        "\n",
        "  #ExtraTrees\n",
        "  model_etr = ExtraTreesRegressor(random_state=random_seed)\n",
        "  model_etr.fit(X_train, y_train)\n",
        "  y_etr = model_etr.predict(X_test)\n",
        "  mae_etr = mae(y_test, y_etr)\n",
        "  \n",
        "  # Таблица итогового сравнения\n",
        "  x.field_names = [\"Regressor\", \"MAE\", \"MAPE\"]\n",
        "  x.add_row([\"CatBoost\", mae_catboost, mae_catboost / mean_salary])\n",
        "  x.add_row([\"LGBM\", mae_lightgbm, mae_lightgbm / mean_salary])\n",
        "  x.add_row([\"RandomForest\", mae_rf, mae_rf / mean_salary])\n",
        "  x.add_row([\"XGBoost\", mae_xgb, mae_xgb / mean_salary])\n",
        "  x.add_row([\"ExtraTrees\", mae_etr, mae_etr / mean_salary])\n",
        "\n",
        "  print(x.get_string(sortby=\"MAPE\"))\n"
      ],
      "execution_count": 72,
      "outputs": []
    },
    {
      "cell_type": "code",
      "metadata": {
        "id": "DA3e-sNzckcH",
        "colab_type": "code",
        "colab": {
          "base_uri": "https://localhost:8080/",
          "height": 207
        },
        "outputId": "a02aa68b-4e5e-4ae7-deb9-a8a6167c4225"
      },
      "source": [
        "# Обзор результатов\n",
        "import warnings\n",
        "warnings.filterwarnings('ignore')\n",
        "\n",
        "review_models(balanced_data)"
      ],
      "execution_count": 73,
      "outputs": [
        {
          "output_type": "stream",
          "text": [
            "[17:51:40] WARNING: /workspace/src/objective/regression_obj.cu:152: reg:linear is now deprecated in favor of reg:squarederror.\n",
            "+--------------+--------------------+---------------------+\n",
            "|  Regressor   |        MAE         |         MAPE        |\n",
            "+--------------+--------------------+---------------------+\n",
            "|  ExtraTrees  | 3.0873140236956025 | 0.04864793139612196 |\n",
            "| RandomForest |  4.05694934637645  | 0.06392682829322792 |\n",
            "|   CatBoost   | 6.889728563697291  |  0.1085639620499111 |\n",
            "|     LGBM     | 7.790427504977169  |  0.1227566032803269 |\n",
            "|   XGBoost    | 11.865602111294917 |  0.1869706136316467 |\n",
            "+--------------+--------------------+---------------------+\n"
          ],
          "name": "stdout"
        }
      ]
    },
    {
      "cell_type": "markdown",
      "metadata": {
        "id": "wJ1uaipQ-Mit",
        "colab_type": "text"
      },
      "source": [
        "Модель ExtraTreesRegressor из библиотеки sklearn показывает лучший стартовый  результат. Данный алгоритм использует метаоценщик и усреднение решений деревьев, что позволяет снизить риск переобучения модели, а также снизить ошибку на небольших наборах данных"
      ]
    },
    {
      "cell_type": "markdown",
      "metadata": {
        "id": "TGUu8mRiAxFj",
        "colab_type": "text"
      },
      "source": [
        "### Обучение модели ExtraTreesRegressor с оптимизацией гиперпараметров"
      ]
    },
    {
      "cell_type": "markdown",
      "metadata": {
        "id": "T7uUywnCnN1Y",
        "colab_type": "text"
      },
      "source": [
        "#### Оптимизация гиперпараметров"
      ]
    },
    {
      "cell_type": "code",
      "metadata": {
        "id": "2SbuTHGW_1AS",
        "colab_type": "code",
        "colab": {}
      },
      "source": [
        "from sklearn.ensemble import ExtraTreesRegressor\n",
        "from sklearn.ensemble import BaggingRegressor\n",
        "from sklearn.metrics import mean_absolute_error as mae\n",
        "from sklearn.model_selection import RandomizedSearchCV\n",
        "\n",
        "\n",
        "def train_extra_trees(data):\n",
        "  \"\"\"Обучает модель регрессии ExtraTrees\"\"\"\n",
        "  \n",
        "  mean_salary = data['salary'].mean()\n",
        "  X = data.drop(['salary'], axis=1)\n",
        "  y = data['salary'].values\n",
        "  X_train, X_test, y_train, y_test = data_split(data)\n",
        "  \n",
        "  # Описание модели\n",
        "  model = ExtraTreesRegressor(random_state=random_seed)\n",
        "  \n",
        "  # Оптимизатор гиперпараметров\n",
        "  params = {'criterion': ['mae', 'mse'],\n",
        "            'n_estimators': [20, 30, 50, 100, 250],\n",
        "            'min_samples_split': [1, 2, 4, 6, 8],\n",
        "            'min_samples_leaf': [1, 2, 4, 6, 8],\n",
        "            'min_weight_fraction_leaf': [0.0, 0.1],\n",
        "            'min_impurity_decrease': [0.0, 0.1],\n",
        "            'min_impurity_split': [0.0, 0.1],\n",
        "            'bootstrap': ['True', 'False'],\n",
        "            'verbose': [0, 1],\n",
        "            'ccp_alpha': [0.0, 0.1]}\n",
        "\n",
        "  clf = RandomizedSearchCV(model, \n",
        "                           params, \n",
        "                           random_state=random_seed)\n",
        "  \n",
        "  search = clf.fit(X, y)\n",
        "  best_params = search.best_params_\n",
        "  print('Лучшие параметры:', best_params)\n",
        "  print('Обучение модели на лучших параметрах...')\n",
        "\n",
        "  # Обучение модели с оптимальными гиперпараметрами\n",
        "  best_model = ExtraTreesRegressor(\n",
        "      random_state=random_seed,\n",
        "      criterion=best_params['criterion'],\n",
        "      n_estimators=best_params['n_estimators'],\n",
        "      min_samples_split=best_params['min_samples_split'],\n",
        "      min_samples_leaf=best_params['min_samples_leaf'],\n",
        "      min_weight_fraction_leaf=best_params['min_weight_fraction_leaf'],\n",
        "      min_impurity_decrease=best_params['min_impurity_decrease'],\n",
        "      min_impurity_split=best_params['min_impurity_split'],\n",
        "      bootstrap=best_params['bootstrap'],\n",
        "      verbose=best_params['verbose'],\n",
        "      ccp_alpha=best_params['ccp_alpha'],\n",
        "      n_jobs=-1)\n",
        "  \n",
        "  best_model.fit(X_train, y_train)\n",
        "  \n",
        "  # Предсказание на основании обученной модели\n",
        "  y_pred = best_model.predict(X_test)\n",
        "\n",
        "  # Метрика качества mse\n",
        "  error = mae(y_test, y_pred)\n",
        "  print('MAE:', error, 'MAPE:', error / mean_salary)\n",
        "  \n",
        "  return best_model\n"
      ],
      "execution_count": 112,
      "outputs": []
    },
    {
      "cell_type": "code",
      "metadata": {
        "id": "rPmYZiWUpDWC",
        "colab_type": "code",
        "colab": {
          "base_uri": "https://localhost:8080/",
          "height": 1000
        },
        "outputId": "57f656f5-9289-4ed4-dbab-ba458e56f6d2"
      },
      "source": [
        "train_extra_trees(balanced_data)"
      ],
      "execution_count": 113,
      "outputs": [
        {
          "output_type": "stream",
          "text": [
            "[Parallel(n_jobs=1)]: Using backend SequentialBackend with 1 concurrent workers.\n",
            "[Parallel(n_jobs=1)]: Done  50 out of  50 | elapsed:    0.1s finished\n",
            "[Parallel(n_jobs=1)]: Using backend SequentialBackend with 1 concurrent workers.\n",
            "[Parallel(n_jobs=1)]: Done  50 out of  50 | elapsed:    0.0s finished\n",
            "[Parallel(n_jobs=1)]: Using backend SequentialBackend with 1 concurrent workers.\n",
            "[Parallel(n_jobs=1)]: Done  50 out of  50 | elapsed:    0.1s finished\n",
            "[Parallel(n_jobs=1)]: Using backend SequentialBackend with 1 concurrent workers.\n",
            "[Parallel(n_jobs=1)]: Done  50 out of  50 | elapsed:    0.0s finished\n",
            "[Parallel(n_jobs=1)]: Using backend SequentialBackend with 1 concurrent workers.\n",
            "[Parallel(n_jobs=1)]: Done  50 out of  50 | elapsed:    0.1s finished\n",
            "[Parallel(n_jobs=1)]: Using backend SequentialBackend with 1 concurrent workers.\n",
            "[Parallel(n_jobs=1)]: Done  50 out of  50 | elapsed:    0.0s finished\n",
            "[Parallel(n_jobs=1)]: Using backend SequentialBackend with 1 concurrent workers.\n",
            "[Parallel(n_jobs=1)]: Done  50 out of  50 | elapsed:    0.1s finished\n",
            "[Parallel(n_jobs=1)]: Using backend SequentialBackend with 1 concurrent workers.\n",
            "[Parallel(n_jobs=1)]: Done  50 out of  50 | elapsed:    0.0s finished\n",
            "[Parallel(n_jobs=1)]: Using backend SequentialBackend with 1 concurrent workers.\n",
            "[Parallel(n_jobs=1)]: Done  50 out of  50 | elapsed:    0.1s finished\n",
            "[Parallel(n_jobs=1)]: Using backend SequentialBackend with 1 concurrent workers.\n",
            "[Parallel(n_jobs=1)]: Done  50 out of  50 | elapsed:    0.0s finished\n",
            "[Parallel(n_jobs=1)]: Using backend SequentialBackend with 1 concurrent workers.\n",
            "[Parallel(n_jobs=1)]: Done  20 out of  20 | elapsed:    4.4s finished\n",
            "[Parallel(n_jobs=1)]: Using backend SequentialBackend with 1 concurrent workers.\n",
            "[Parallel(n_jobs=1)]: Done  20 out of  20 | elapsed:    0.0s finished\n",
            "[Parallel(n_jobs=1)]: Using backend SequentialBackend with 1 concurrent workers.\n",
            "[Parallel(n_jobs=1)]: Done  20 out of  20 | elapsed:    4.4s finished\n",
            "[Parallel(n_jobs=1)]: Using backend SequentialBackend with 1 concurrent workers.\n",
            "[Parallel(n_jobs=1)]: Done  20 out of  20 | elapsed:    0.0s finished\n",
            "[Parallel(n_jobs=1)]: Using backend SequentialBackend with 1 concurrent workers.\n",
            "[Parallel(n_jobs=1)]: Done  20 out of  20 | elapsed:    4.5s finished\n",
            "[Parallel(n_jobs=1)]: Using backend SequentialBackend with 1 concurrent workers.\n",
            "[Parallel(n_jobs=1)]: Done  20 out of  20 | elapsed:    0.0s finished\n",
            "[Parallel(n_jobs=1)]: Using backend SequentialBackend with 1 concurrent workers.\n",
            "[Parallel(n_jobs=1)]: Done  20 out of  20 | elapsed:    4.4s finished\n",
            "[Parallel(n_jobs=1)]: Using backend SequentialBackend with 1 concurrent workers.\n",
            "[Parallel(n_jobs=1)]: Done  20 out of  20 | elapsed:    0.0s finished\n",
            "[Parallel(n_jobs=1)]: Using backend SequentialBackend with 1 concurrent workers.\n",
            "[Parallel(n_jobs=1)]: Done  20 out of  20 | elapsed:    4.5s finished\n",
            "[Parallel(n_jobs=1)]: Using backend SequentialBackend with 1 concurrent workers.\n",
            "[Parallel(n_jobs=1)]: Done  20 out of  20 | elapsed:    0.0s finished\n",
            "[Parallel(n_jobs=1)]: Using backend SequentialBackend with 1 concurrent workers.\n",
            "[Parallel(n_jobs=1)]: Done  50 out of  50 | elapsed:    0.3s finished\n",
            "[Parallel(n_jobs=1)]: Using backend SequentialBackend with 1 concurrent workers.\n",
            "[Parallel(n_jobs=1)]: Done  50 out of  50 | elapsed:    0.0s finished\n",
            "[Parallel(n_jobs=1)]: Using backend SequentialBackend with 1 concurrent workers.\n",
            "[Parallel(n_jobs=1)]: Done  50 out of  50 | elapsed:    0.3s finished\n",
            "[Parallel(n_jobs=1)]: Using backend SequentialBackend with 1 concurrent workers.\n",
            "[Parallel(n_jobs=1)]: Done  50 out of  50 | elapsed:    0.0s finished\n",
            "[Parallel(n_jobs=1)]: Using backend SequentialBackend with 1 concurrent workers.\n",
            "[Parallel(n_jobs=1)]: Done  50 out of  50 | elapsed:    0.3s finished\n",
            "[Parallel(n_jobs=1)]: Using backend SequentialBackend with 1 concurrent workers.\n",
            "[Parallel(n_jobs=1)]: Done  50 out of  50 | elapsed:    0.0s finished\n",
            "[Parallel(n_jobs=1)]: Using backend SequentialBackend with 1 concurrent workers.\n",
            "[Parallel(n_jobs=1)]: Done  50 out of  50 | elapsed:    0.3s finished\n",
            "[Parallel(n_jobs=1)]: Using backend SequentialBackend with 1 concurrent workers.\n",
            "[Parallel(n_jobs=1)]: Done  50 out of  50 | elapsed:    0.0s finished\n",
            "[Parallel(n_jobs=1)]: Using backend SequentialBackend with 1 concurrent workers.\n",
            "[Parallel(n_jobs=1)]: Done  50 out of  50 | elapsed:    0.3s finished\n",
            "[Parallel(n_jobs=1)]: Using backend SequentialBackend with 1 concurrent workers.\n",
            "[Parallel(n_jobs=1)]: Done  50 out of  50 | elapsed:    0.0s finished\n"
          ],
          "name": "stderr"
        },
        {
          "output_type": "stream",
          "text": [
            "Лучшие параметры: {'verbose': 0, 'n_estimators': 20, 'min_weight_fraction_leaf': 0.0, 'min_samples_split': 6, 'min_samples_leaf': 6, 'min_impurity_split': 0.1, 'min_impurity_decrease': 0.0, 'criterion': 'mae', 'ccp_alpha': 0.0, 'bootstrap': 'True'}\n",
            "Обучение модели на лучших параметрах...\n",
            "MAE: 8.3553998632946 MAPE: 0.13165907847953962\n"
          ],
          "name": "stdout"
        },
        {
          "output_type": "execute_result",
          "data": {
            "text/plain": [
              "ExtraTreesRegressor(bootstrap='True', ccp_alpha=0.0, criterion='mae',\n",
              "                    max_depth=None, max_features='auto', max_leaf_nodes=None,\n",
              "                    max_samples=None, min_impurity_decrease=0.0,\n",
              "                    min_impurity_split=0.1, min_samples_leaf=6,\n",
              "                    min_samples_split=6, min_weight_fraction_leaf=0.0,\n",
              "                    n_estimators=20, n_jobs=-1, oob_score=False,\n",
              "                    random_state=42, verbose=0, warm_start=False)"
            ]
          },
          "metadata": {
            "tags": []
          },
          "execution_count": 113
        }
      ]
    },
    {
      "cell_type": "markdown",
      "metadata": {
        "id": "iphOZAqBb502",
        "colab_type": "text"
      },
      "source": [
        "## Сериализация модели"
      ]
    },
    {
      "cell_type": "code",
      "metadata": {
        "id": "_5vbmLfeLevO",
        "colab_type": "code",
        "colab": {}
      },
      "source": [
        "import pickle\n",
        "\n",
        "\n",
        "def serial_model(data):\n",
        "  \"\"\"Сохраняет модель регрессии в бинарный файл\"\"\"\n",
        "\n",
        "  model = train_extra_trees(data)\n",
        "\n",
        "  # Сериализация модели\n",
        "  with open(f'{wdir}/jsp_model.pkl', 'wb') as output:\n",
        "    pickle.dump(model, output)\n"
      ],
      "execution_count": 74,
      "outputs": []
    },
    {
      "cell_type": "code",
      "metadata": {
        "id": "Tfpy31RJctMm",
        "colab_type": "code",
        "colab": {
          "base_uri": "https://localhost:8080/",
          "height": 68
        },
        "outputId": "e17f720c-7518-44c1-e130-5b32bb005613"
      },
      "source": [
        "serial_model(balanced_data)"
      ],
      "execution_count": 75,
      "outputs": [
        {
          "output_type": "stream",
          "text": [
            "Лучшие параметры: {'n_estimators': 30, 'min_samples_split': 4, 'min_samples_leaf': 2}\n",
            "Обучение модели на лучших параметрах...\n",
            "MAE: 5.80308726361358 MAPE: 0.09144135935613432\n"
          ],
          "name": "stdout"
        }
      ]
    },
    {
      "cell_type": "code",
      "metadata": {
        "id": "AHsm_BWn1Mqc",
        "colab_type": "code",
        "colab": {}
      },
      "source": [
        "!pip freeze > requirements.txt"
      ],
      "execution_count": null,
      "outputs": []
    },
    {
      "cell_type": "code",
      "metadata": {
        "id": "HqkHGfeL2WmD",
        "colab_type": "code",
        "colab": {
          "base_uri": "https://localhost:8080/",
          "height": 34
        },
        "outputId": "b470d499-366d-44ee-f89f-57035fb6a574"
      },
      "source": [
        "!ls"
      ],
      "execution_count": null,
      "outputs": [
        {
          "output_type": "stream",
          "text": [
            "drive  jsp_model.pkl  requirements.txt\tsample_data\n"
          ],
          "name": "stdout"
        }
      ]
    }
  ]
}