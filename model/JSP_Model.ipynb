{
  "nbformat": 4,
  "nbformat_minor": 0,
  "metadata": {
    "colab": {
      "name": "JSP_Model.ipynb",
      "provenance": [],
      "collapsed_sections": [],
      "toc_visible": true
    },
    "kernelspec": {
      "name": "python3",
      "display_name": "Python 3"
    }
  },
  "cells": [
    {
      "cell_type": "markdown",
      "metadata": {
        "id": "1pOVaX3YhHIb",
        "colab_type": "text"
      },
      "source": [
        "# Модель для предсказания уровня зарплатных ожиданий сотрудников"
      ]
    },
    {
      "cell_type": "markdown",
      "metadata": {
        "id": "GCttf0FVhMsS",
        "colab_type": "text"
      },
      "source": [
        "## Импорты"
      ]
    },
    {
      "cell_type": "code",
      "metadata": {
        "id": "RH6D4V-rhrMT",
        "colab_type": "code",
        "colab": {}
      },
      "source": [
        "!pip install catboost"
      ],
      "execution_count": null,
      "outputs": []
    },
    {
      "cell_type": "code",
      "metadata": {
        "id": "4a_6kRxehAq4",
        "colab_type": "code",
        "colab": {}
      },
      "source": [
        "import numpy as np\n",
        "import pandas as pd\n",
        "import pickle"
      ],
      "execution_count": 2,
      "outputs": []
    },
    {
      "cell_type": "markdown",
      "metadata": {
        "id": "NmDCu-nAh2-v",
        "colab_type": "text"
      },
      "source": [
        "## Исходные данные"
      ]
    },
    {
      "cell_type": "code",
      "metadata": {
        "id": "D8cj6umx9jM3",
        "colab_type": "code",
        "colab": {}
      },
      "source": [
        "from google.colab import drive\n",
        "drive.mount('/content/drive')"
      ],
      "execution_count": null,
      "outputs": []
    },
    {
      "cell_type": "code",
      "metadata": {
        "id": "KJPddKMThkjL",
        "colab_type": "code",
        "colab": {}
      },
      "source": [
        "wdir = '/content/drive/My Drive/Courses/DataScience/DataScience/I_DIPLOMA/data'\n",
        "raw_data = pd.read_excel(f'{wdir}/raw_data.xlsx')"
      ],
      "execution_count": 4,
      "outputs": []
    },
    {
      "cell_type": "code",
      "metadata": {
        "id": "ZbipQiM8iebR",
        "colab_type": "code",
        "colab": {
          "base_uri": "https://localhost:8080/",
          "height": 358
        },
        "outputId": "eaa8b8c8-cd8b-4437-a913-230e3db4bae4"
      },
      "source": [
        "raw_data.head(3)"
      ],
      "execution_count": 5,
      "outputs": [
        {
          "output_type": "execute_result",
          "data": {
            "text/html": [
              "<div>\n",
              "<style scoped>\n",
              "    .dataframe tbody tr th:only-of-type {\n",
              "        vertical-align: middle;\n",
              "    }\n",
              "\n",
              "    .dataframe tbody tr th {\n",
              "        vertical-align: top;\n",
              "    }\n",
              "\n",
              "    .dataframe thead th {\n",
              "        text-align: right;\n",
              "    }\n",
              "</style>\n",
              "<table border=\"1\" class=\"dataframe\">\n",
              "  <thead>\n",
              "    <tr style=\"text-align: right;\">\n",
              "      <th></th>\n",
              "      <th>Unnamed: 0</th>\n",
              "      <th>entrydate</th>\n",
              "      <th>title</th>\n",
              "      <th>position</th>\n",
              "      <th>gender</th>\n",
              "      <th>city</th>\n",
              "      <th>age</th>\n",
              "      <th>salary</th>\n",
              "      <th>experience</th>\n",
              "      <th>last_job</th>\n",
              "      <th>updated</th>\n",
              "      <th>link</th>\n",
              "    </tr>\n",
              "  </thead>\n",
              "  <tbody>\n",
              "    <tr>\n",
              "      <th>0</th>\n",
              "      <td>0</td>\n",
              "      <td>2020-04-08</td>\n",
              "      <td>Резюме Менеджер по продажам мебели, дизайнер-к...</td>\n",
              "      <td>Менеджер по продажам</td>\n",
              "      <td>Женщина</td>\n",
              "      <td>Москва</td>\n",
              "      <td>31</td>\n",
              "      <td>70</td>\n",
              "      <td>8.0</td>\n",
              "      <td>ООО ИНТЕХ</td>\n",
              "      <td>2020-04-08</td>\n",
              "      <td>https://hh.ru/resume/840fd6300000a252640039ed1...</td>\n",
              "    </tr>\n",
              "    <tr>\n",
              "      <th>1</th>\n",
              "      <td>1</td>\n",
              "      <td>2020-04-08</td>\n",
              "      <td>Резюме Специалист по работе с клиентами</td>\n",
              "      <td>Клиентский менеджер</td>\n",
              "      <td>Мужчина</td>\n",
              "      <td>Липецк</td>\n",
              "      <td>40</td>\n",
              "      <td>90</td>\n",
              "      <td>15.0</td>\n",
              "      <td>МДК</td>\n",
              "      <td>2020-04-08</td>\n",
              "      <td>https://hh.ru/resume/66498670000716a4250039ed1...</td>\n",
              "    </tr>\n",
              "    <tr>\n",
              "      <th>2</th>\n",
              "      <td>2</td>\n",
              "      <td>2020-04-08</td>\n",
              "      <td>Резюме Супервайзер торговых представителей, ст...</td>\n",
              "      <td>Супервайзер</td>\n",
              "      <td>Мужчина</td>\n",
              "      <td>Самара</td>\n",
              "      <td>34</td>\n",
              "      <td>50</td>\n",
              "      <td>7.0</td>\n",
              "      <td>Ютф-дистрибьютор</td>\n",
              "      <td>2020-04-08</td>\n",
              "      <td>https://hh.ru/resume/70e7817700035195b70039ed1...</td>\n",
              "    </tr>\n",
              "  </tbody>\n",
              "</table>\n",
              "</div>"
            ],
            "text/plain": [
              "   Unnamed: 0  ...                                               link\n",
              "0           0  ...  https://hh.ru/resume/840fd6300000a252640039ed1...\n",
              "1           1  ...  https://hh.ru/resume/66498670000716a4250039ed1...\n",
              "2           2  ...  https://hh.ru/resume/70e7817700035195b70039ed1...\n",
              "\n",
              "[3 rows x 12 columns]"
            ]
          },
          "metadata": {
            "tags": []
          },
          "execution_count": 5
        }
      ]
    },
    {
      "cell_type": "code",
      "metadata": {
        "id": "ofF-GCwZmIgQ",
        "colab_type": "code",
        "colab": {
          "base_uri": "https://localhost:8080/",
          "height": 336
        },
        "outputId": "c9b1df8c-ce75-4170-f343-3e860b27604e"
      },
      "source": [
        "raw_data.info()"
      ],
      "execution_count": 6,
      "outputs": [
        {
          "output_type": "stream",
          "text": [
            "<class 'pandas.core.frame.DataFrame'>\n",
            "RangeIndex: 3178 entries, 0 to 3177\n",
            "Data columns (total 12 columns):\n",
            " #   Column      Non-Null Count  Dtype         \n",
            "---  ------      --------------  -----         \n",
            " 0   Unnamed: 0  3178 non-null   int64         \n",
            " 1   entrydate   3178 non-null   datetime64[ns]\n",
            " 2   title       3178 non-null   object        \n",
            " 3   position    3178 non-null   object        \n",
            " 4   gender      3178 non-null   object        \n",
            " 5   city        3178 non-null   object        \n",
            " 6   age         3178 non-null   int64         \n",
            " 7   salary      3178 non-null   int64         \n",
            " 8   experience  2522 non-null   float64       \n",
            " 9   last_job    3178 non-null   object        \n",
            " 10  updated     3178 non-null   datetime64[ns]\n",
            " 11  link        3178 non-null   object        \n",
            "dtypes: datetime64[ns](2), float64(1), int64(3), object(6)\n",
            "memory usage: 298.1+ KB\n"
          ],
          "name": "stdout"
        }
      ]
    },
    {
      "cell_type": "code",
      "metadata": {
        "id": "2Hkv7366sLHV",
        "colab_type": "code",
        "colab": {
          "base_uri": "https://localhost:8080/",
          "height": 67
        },
        "outputId": "89b4ad92-002d-4f46-fd9e-2ca798938f4d"
      },
      "source": [
        "raw_data.columns"
      ],
      "execution_count": 7,
      "outputs": [
        {
          "output_type": "execute_result",
          "data": {
            "text/plain": [
              "Index(['Unnamed: 0', 'entrydate', 'title', 'position', 'gender', 'city', 'age',\n",
              "       'salary', 'experience', 'last_job', 'updated', 'link'],\n",
              "      dtype='object')"
            ]
          },
          "metadata": {
            "tags": []
          },
          "execution_count": 7
        }
      ]
    },
    {
      "cell_type": "markdown",
      "metadata": {
        "id": "5I90Ar6BualG",
        "colab_type": "text"
      },
      "source": [
        "## Предобработка данных"
      ]
    },
    {
      "cell_type": "code",
      "metadata": {
        "id": "9y-XwzYMjTi1",
        "colab_type": "code",
        "colab": {}
      },
      "source": [
        "def data_prep(df_input):\n",
        "  \"\"\"Обрабатывает исходные данные\"\"\"\n",
        "  df_output = df_input.copy()\n",
        "  df_output['experience'] = df_output['experience'].fillna(\n",
        "                            df_output['experience'].mean())\n",
        "  df_output['experience'] = df_output['experience'].astype(np.int)\n",
        "  df_output.drop([\n",
        "                  'Unnamed: 0',\n",
        "                  'title',\n",
        "                  'entrydate',\n",
        "                  'last_job',\n",
        "                  'updated',\n",
        "                  'link'],\n",
        "                 axis=1,\n",
        "                 inplace=True)\n",
        "  \n",
        "  return df_output"
      ],
      "execution_count": 8,
      "outputs": []
    },
    {
      "cell_type": "code",
      "metadata": {
        "id": "pncsRZl1tDv-",
        "colab_type": "code",
        "colab": {
          "base_uri": "https://localhost:8080/",
          "height": 195
        },
        "outputId": "2cb387e0-4260-4832-d872-d101c18d594f"
      },
      "source": [
        "# Посмотрим на подготовленные данные\n",
        "data = data_prep(raw_data)\n",
        "data.head()"
      ],
      "execution_count": 9,
      "outputs": [
        {
          "output_type": "execute_result",
          "data": {
            "text/html": [
              "<div>\n",
              "<style scoped>\n",
              "    .dataframe tbody tr th:only-of-type {\n",
              "        vertical-align: middle;\n",
              "    }\n",
              "\n",
              "    .dataframe tbody tr th {\n",
              "        vertical-align: top;\n",
              "    }\n",
              "\n",
              "    .dataframe thead th {\n",
              "        text-align: right;\n",
              "    }\n",
              "</style>\n",
              "<table border=\"1\" class=\"dataframe\">\n",
              "  <thead>\n",
              "    <tr style=\"text-align: right;\">\n",
              "      <th></th>\n",
              "      <th>position</th>\n",
              "      <th>gender</th>\n",
              "      <th>city</th>\n",
              "      <th>age</th>\n",
              "      <th>salary</th>\n",
              "      <th>experience</th>\n",
              "    </tr>\n",
              "  </thead>\n",
              "  <tbody>\n",
              "    <tr>\n",
              "      <th>0</th>\n",
              "      <td>Менеджер по продажам</td>\n",
              "      <td>Женщина</td>\n",
              "      <td>Москва</td>\n",
              "      <td>31</td>\n",
              "      <td>70</td>\n",
              "      <td>8</td>\n",
              "    </tr>\n",
              "    <tr>\n",
              "      <th>1</th>\n",
              "      <td>Клиентский менеджер</td>\n",
              "      <td>Мужчина</td>\n",
              "      <td>Липецк</td>\n",
              "      <td>40</td>\n",
              "      <td>90</td>\n",
              "      <td>15</td>\n",
              "    </tr>\n",
              "    <tr>\n",
              "      <th>2</th>\n",
              "      <td>Супервайзер</td>\n",
              "      <td>Мужчина</td>\n",
              "      <td>Самара</td>\n",
              "      <td>34</td>\n",
              "      <td>50</td>\n",
              "      <td>7</td>\n",
              "    </tr>\n",
              "    <tr>\n",
              "      <th>3</th>\n",
              "      <td>Коммерческий директор</td>\n",
              "      <td>Мужчина</td>\n",
              "      <td>Краснодар</td>\n",
              "      <td>47</td>\n",
              "      <td>60</td>\n",
              "      <td>10</td>\n",
              "    </tr>\n",
              "    <tr>\n",
              "      <th>4</th>\n",
              "      <td>Менеджер по продажам</td>\n",
              "      <td>Мужчина</td>\n",
              "      <td>Москва</td>\n",
              "      <td>43</td>\n",
              "      <td>50</td>\n",
              "      <td>11</td>\n",
              "    </tr>\n",
              "  </tbody>\n",
              "</table>\n",
              "</div>"
            ],
            "text/plain": [
              "                position   gender       city  age  salary  experience\n",
              "0   Менеджер по продажам  Женщина     Москва   31      70           8\n",
              "1    Клиентский менеджер  Мужчина     Липецк   40      90          15\n",
              "2            Супервайзер  Мужчина     Самара   34      50           7\n",
              "3  Коммерческий директор  Мужчина  Краснодар   47      60          10\n",
              "4   Менеджер по продажам  Мужчина     Москва   43      50          11"
            ]
          },
          "metadata": {
            "tags": []
          },
          "execution_count": 9
        }
      ]
    },
    {
      "cell_type": "code",
      "metadata": {
        "id": "1VfnkY62t29k",
        "colab_type": "code",
        "colab": {
          "base_uri": "https://localhost:8080/",
          "height": 235
        },
        "outputId": "c308b180-0c04-42af-f29f-3aa13085e343"
      },
      "source": [
        "data.info()"
      ],
      "execution_count": 10,
      "outputs": [
        {
          "output_type": "stream",
          "text": [
            "<class 'pandas.core.frame.DataFrame'>\n",
            "RangeIndex: 3178 entries, 0 to 3177\n",
            "Data columns (total 6 columns):\n",
            " #   Column      Non-Null Count  Dtype \n",
            "---  ------      --------------  ----- \n",
            " 0   position    3178 non-null   object\n",
            " 1   gender      3178 non-null   object\n",
            " 2   city        3178 non-null   object\n",
            " 3   age         3178 non-null   int64 \n",
            " 4   salary      3178 non-null   int64 \n",
            " 5   experience  3178 non-null   int64 \n",
            "dtypes: int64(3), object(3)\n",
            "memory usage: 149.1+ KB\n"
          ],
          "name": "stdout"
        }
      ]
    },
    {
      "cell_type": "code",
      "metadata": {
        "id": "E9vLSd2olDvt",
        "colab_type": "code",
        "colab": {
          "base_uri": "https://localhost:8080/",
          "height": 265
        },
        "outputId": "16e34663-7940-49dc-e4e2-5f935b862f90"
      },
      "source": [
        "# Посмотрим, есть ли в данных выбросы\n",
        "data.plot();"
      ],
      "execution_count": 11,
      "outputs": [
        {
          "output_type": "display_data",
          "data": {
            "image/png": "[encoded data removed]",
            "text/plain": [
              "<Figure size 432x288 with 1 Axes>"
            ]
          },
          "metadata": {
            "tags": [],
            "needs_background": "light"
          }
        }
      ]
    },
    {
      "cell_type": "code",
      "metadata": {
        "id": "VbU-KfRPlcsD",
        "colab_type": "code",
        "colab": {
          "base_uri": "https://localhost:8080/",
          "height": 580
        },
        "outputId": "9fcc3395-2792-4f6f-a101-14017abe45bd"
      },
      "source": [
        "data[data['salary'] > 200]"
      ],
      "execution_count": 12,
      "outputs": [
        {
          "output_type": "execute_result",
          "data": {
            "text/html": [
              "<div>\n",
              "<style scoped>\n",
              "    .dataframe tbody tr th:only-of-type {\n",
              "        vertical-align: middle;\n",
              "    }\n",
              "\n",
              "    .dataframe tbody tr th {\n",
              "        vertical-align: top;\n",
              "    }\n",
              "\n",
              "    .dataframe thead th {\n",
              "        text-align: right;\n",
              "    }\n",
              "</style>\n",
              "<table border=\"1\" class=\"dataframe\">\n",
              "  <thead>\n",
              "    <tr style=\"text-align: right;\">\n",
              "      <th></th>\n",
              "      <th>position</th>\n",
              "      <th>gender</th>\n",
              "      <th>city</th>\n",
              "      <th>age</th>\n",
              "      <th>salary</th>\n",
              "      <th>experience</th>\n",
              "    </tr>\n",
              "  </thead>\n",
              "  <tbody>\n",
              "    <tr>\n",
              "      <th>130</th>\n",
              "      <td>Коммерческий директор</td>\n",
              "      <td>Мужчина</td>\n",
              "      <td>Москва</td>\n",
              "      <td>36</td>\n",
              "      <td>265</td>\n",
              "      <td>12</td>\n",
              "    </tr>\n",
              "    <tr>\n",
              "      <th>322</th>\n",
              "      <td>Менеджер по продажам</td>\n",
              "      <td>Мужчина</td>\n",
              "      <td>Москва</td>\n",
              "      <td>29</td>\n",
              "      <td>210</td>\n",
              "      <td>7</td>\n",
              "    </tr>\n",
              "    <tr>\n",
              "      <th>331</th>\n",
              "      <td>Менеджер по продажам</td>\n",
              "      <td>Мужчина</td>\n",
              "      <td>Москва</td>\n",
              "      <td>29</td>\n",
              "      <td>210</td>\n",
              "      <td>7</td>\n",
              "    </tr>\n",
              "    <tr>\n",
              "      <th>342</th>\n",
              "      <td>Менеджер по продажам</td>\n",
              "      <td>Мужчина</td>\n",
              "      <td>Москва</td>\n",
              "      <td>29</td>\n",
              "      <td>210</td>\n",
              "      <td>7</td>\n",
              "    </tr>\n",
              "    <tr>\n",
              "      <th>537</th>\n",
              "      <td>Региональный менеджер</td>\n",
              "      <td>Male</td>\n",
              "      <td>Moscow</td>\n",
              "      <td>35</td>\n",
              "      <td>220</td>\n",
              "      <td>10</td>\n",
              "    </tr>\n",
              "    <tr>\n",
              "      <th>1162</th>\n",
              "      <td>Менеджер по продажам</td>\n",
              "      <td>Мужчина</td>\n",
              "      <td>Москва</td>\n",
              "      <td>37</td>\n",
              "      <td>250</td>\n",
              "      <td>14</td>\n",
              "    </tr>\n",
              "    <tr>\n",
              "      <th>1421</th>\n",
              "      <td>Руководитель продаж</td>\n",
              "      <td>Мужчина</td>\n",
              "      <td>Москва</td>\n",
              "      <td>51</td>\n",
              "      <td>250</td>\n",
              "      <td>10</td>\n",
              "    </tr>\n",
              "    <tr>\n",
              "      <th>1429</th>\n",
              "      <td>Руководитель продаж</td>\n",
              "      <td>Мужчина</td>\n",
              "      <td>Москва</td>\n",
              "      <td>51</td>\n",
              "      <td>250</td>\n",
              "      <td>10</td>\n",
              "    </tr>\n",
              "    <tr>\n",
              "      <th>1438</th>\n",
              "      <td>Менеджер по продажам</td>\n",
              "      <td>Мужчина</td>\n",
              "      <td>Уфа</td>\n",
              "      <td>26</td>\n",
              "      <td>270</td>\n",
              "      <td>10</td>\n",
              "    </tr>\n",
              "    <tr>\n",
              "      <th>1511</th>\n",
              "      <td>Менеджер по продажам</td>\n",
              "      <td>Женщина</td>\n",
              "      <td>Москва</td>\n",
              "      <td>48</td>\n",
              "      <td>250</td>\n",
              "      <td>10</td>\n",
              "    </tr>\n",
              "    <tr>\n",
              "      <th>1518</th>\n",
              "      <td>Менеджер по продажам</td>\n",
              "      <td>Женщина</td>\n",
              "      <td>Москва</td>\n",
              "      <td>48</td>\n",
              "      <td>250</td>\n",
              "      <td>10</td>\n",
              "    </tr>\n",
              "    <tr>\n",
              "      <th>1578</th>\n",
              "      <td>Коммерческий директор</td>\n",
              "      <td>Мужчина</td>\n",
              "      <td>Москва</td>\n",
              "      <td>35</td>\n",
              "      <td>250</td>\n",
              "      <td>12</td>\n",
              "    </tr>\n",
              "    <tr>\n",
              "      <th>1612</th>\n",
              "      <td>Руководитель продаж</td>\n",
              "      <td>Мужчина</td>\n",
              "      <td>Москва</td>\n",
              "      <td>39</td>\n",
              "      <td>250</td>\n",
              "      <td>16</td>\n",
              "    </tr>\n",
              "    <tr>\n",
              "      <th>1711</th>\n",
              "      <td>Коммерческий директор</td>\n",
              "      <td>Мужчина</td>\n",
              "      <td>Москва</td>\n",
              "      <td>48</td>\n",
              "      <td>250</td>\n",
              "      <td>10</td>\n",
              "    </tr>\n",
              "    <tr>\n",
              "      <th>1714</th>\n",
              "      <td>Руководитель продаж</td>\n",
              "      <td>Мужчина</td>\n",
              "      <td>Москва</td>\n",
              "      <td>34</td>\n",
              "      <td>250</td>\n",
              "      <td>9</td>\n",
              "    </tr>\n",
              "    <tr>\n",
              "      <th>2029</th>\n",
              "      <td>Специалист</td>\n",
              "      <td>Женщина</td>\n",
              "      <td>Тюмень</td>\n",
              "      <td>27</td>\n",
              "      <td>207</td>\n",
              "      <td>6</td>\n",
              "    </tr>\n",
              "    <tr>\n",
              "      <th>2054</th>\n",
              "      <td>Коммерческий директор</td>\n",
              "      <td>Мужчина</td>\n",
              "      <td>Москва</td>\n",
              "      <td>37</td>\n",
              "      <td>250</td>\n",
              "      <td>14</td>\n",
              "    </tr>\n",
              "    <tr>\n",
              "      <th>2765</th>\n",
              "      <td>Коммерческий директор</td>\n",
              "      <td>Мужчина</td>\n",
              "      <td>Москва</td>\n",
              "      <td>42</td>\n",
              "      <td>280</td>\n",
              "      <td>10</td>\n",
              "    </tr>\n",
              "  </tbody>\n",
              "</table>\n",
              "</div>"
            ],
            "text/plain": [
              "                   position   gender    city  age  salary  experience\n",
              "130   Коммерческий директор  Мужчина  Москва   36     265          12\n",
              "322    Менеджер по продажам  Мужчина  Москва   29     210           7\n",
              "331    Менеджер по продажам  Мужчина  Москва   29     210           7\n",
              "342    Менеджер по продажам  Мужчина  Москва   29     210           7\n",
              "537   Региональный менеджер     Male  Moscow   35     220          10\n",
              "1162   Менеджер по продажам  Мужчина  Москва   37     250          14\n",
              "1421    Руководитель продаж  Мужчина  Москва   51     250          10\n",
              "1429    Руководитель продаж  Мужчина  Москва   51     250          10\n",
              "1438   Менеджер по продажам  Мужчина     Уфа   26     270          10\n",
              "1511   Менеджер по продажам  Женщина  Москва   48     250          10\n",
              "1518   Менеджер по продажам  Женщина  Москва   48     250          10\n",
              "1578  Коммерческий директор  Мужчина  Москва   35     250          12\n",
              "1612    Руководитель продаж  Мужчина  Москва   39     250          16\n",
              "1711  Коммерческий директор  Мужчина  Москва   48     250          10\n",
              "1714    Руководитель продаж  Мужчина  Москва   34     250           9\n",
              "2029             Специалист  Женщина  Тюмень   27     207           6\n",
              "2054  Коммерческий директор  Мужчина  Москва   37     250          14\n",
              "2765  Коммерческий директор  Мужчина  Москва   42     280          10"
            ]
          },
          "metadata": {
            "tags": []
          },
          "execution_count": 12
        }
      ]
    },
    {
      "cell_type": "markdown",
      "metadata": {
        "id": "TVjaoxqKmWU3",
        "colab_type": "text"
      },
      "source": [
        "Пожалуй, все позиции кроме \"Руководитель продаж\" и \"Коммерческий директор\" с ожиданиями выше 200 тыс.руб - будут вносить \"разлад\" в наши данные. Удалим их"
      ]
    },
    {
      "cell_type": "code",
      "metadata": {
        "id": "o5bMuArxmL7n",
        "colab_type": "code",
        "colab": {
          "base_uri": "https://localhost:8080/",
          "height": 235
        },
        "outputId": "a5310985-e6e6-483c-9075-e52bfa89ecdf"
      },
      "source": [
        " isx = data[\n",
        "      (data['salary'] > 200) & \n",
        "      (data['position'] != 'Коммерческий директор') &\n",
        "      (data['position'] != 'Руководитель продаж')].index\n",
        "\n",
        "data = data.drop(data.index[isx])\n",
        "data.info()"
      ],
      "execution_count": 13,
      "outputs": [
        {
          "output_type": "stream",
          "text": [
            "<class 'pandas.core.frame.DataFrame'>\n",
            "Int64Index: 3169 entries, 0 to 3177\n",
            "Data columns (total 6 columns):\n",
            " #   Column      Non-Null Count  Dtype \n",
            "---  ------      --------------  ----- \n",
            " 0   position    3169 non-null   object\n",
            " 1   gender      3169 non-null   object\n",
            " 2   city        3169 non-null   object\n",
            " 3   age         3169 non-null   int64 \n",
            " 4   salary      3169 non-null   int64 \n",
            " 5   experience  3169 non-null   int64 \n",
            "dtypes: int64(3), object(3)\n",
            "memory usage: 173.3+ KB\n"
          ],
          "name": "stdout"
        }
      ]
    },
    {
      "cell_type": "markdown",
      "metadata": {
        "id": "CAOnLs5u-Z81",
        "colab_type": "text"
      },
      "source": [
        "## Feature engineering"
      ]
    },
    {
      "cell_type": "markdown",
      "metadata": {
        "id": "LjJP0tOz-8Pd",
        "colab_type": "text"
      },
      "source": [
        "Обогатим наши данные численностью населения в городах проживания кандидатов, источник данных: https://zema.su/blog/polnyi-spisok-vsekh-gorodov-rossii-po-chislennosti-naseleniya"
      ]
    },
    {
      "cell_type": "code",
      "metadata": {
        "id": "RbSml0aUDMuT",
        "colab_type": "code",
        "colab": {
          "base_uri": "https://localhost:8080/",
          "height": 195
        },
        "outputId": "fe8dc827-d6c5-4084-d2bf-4f5f537ca462"
      },
      "source": [
        "cities = pd.read_excel(f'{wdir}/cities.xlsx')\n",
        "cities = cities.drop('Н', axis=1)\n",
        "cities.columns = ['city', 'population']\n",
        "cities.head()"
      ],
      "execution_count": 14,
      "outputs": [
        {
          "output_type": "execute_result",
          "data": {
            "text/html": [
              "<div>\n",
              "<style scoped>\n",
              "    .dataframe tbody tr th:only-of-type {\n",
              "        vertical-align: middle;\n",
              "    }\n",
              "\n",
              "    .dataframe tbody tr th {\n",
              "        vertical-align: top;\n",
              "    }\n",
              "\n",
              "    .dataframe thead th {\n",
              "        text-align: right;\n",
              "    }\n",
              "</style>\n",
              "<table border=\"1\" class=\"dataframe\">\n",
              "  <thead>\n",
              "    <tr style=\"text-align: right;\">\n",
              "      <th></th>\n",
              "      <th>city</th>\n",
              "      <th>population</th>\n",
              "    </tr>\n",
              "  </thead>\n",
              "  <tbody>\n",
              "    <tr>\n",
              "      <th>0</th>\n",
              "      <td>Москва</td>\n",
              "      <td>11514330</td>\n",
              "    </tr>\n",
              "    <tr>\n",
              "      <th>1</th>\n",
              "      <td>Санкт-Петербург</td>\n",
              "      <td>4848742</td>\n",
              "    </tr>\n",
              "    <tr>\n",
              "      <th>2</th>\n",
              "      <td>Новосибирск</td>\n",
              "      <td>1473737</td>\n",
              "    </tr>\n",
              "    <tr>\n",
              "      <th>3</th>\n",
              "      <td>Екатеринбург</td>\n",
              "      <td>1350136</td>\n",
              "    </tr>\n",
              "    <tr>\n",
              "      <th>4</th>\n",
              "      <td>Нижний Новгород</td>\n",
              "      <td>1250615</td>\n",
              "    </tr>\n",
              "  </tbody>\n",
              "</table>\n",
              "</div>"
            ],
            "text/plain": [
              "              city  population\n",
              "0           Москва    11514330\n",
              "1  Санкт-Петербург     4848742\n",
              "2      Новосибирск     1473737\n",
              "3     Екатеринбург     1350136\n",
              "4  Нижний Новгород     1250615"
            ]
          },
          "metadata": {
            "tags": []
          },
          "execution_count": 14
        }
      ]
    },
    {
      "cell_type": "code",
      "metadata": {
        "id": "c2kt1ceXEr62",
        "colab_type": "code",
        "colab": {
          "base_uri": "https://localhost:8080/",
          "height": 168
        },
        "outputId": "9c6fae1b-f4c6-4ea9-a1aa-df893923dca6"
      },
      "source": [
        "cities.info()"
      ],
      "execution_count": 15,
      "outputs": [
        {
          "output_type": "stream",
          "text": [
            "<class 'pandas.core.frame.DataFrame'>\n",
            "RangeIndex: 1109 entries, 0 to 1108\n",
            "Data columns (total 2 columns):\n",
            " #   Column      Non-Null Count  Dtype \n",
            "---  ------      --------------  ----- \n",
            " 0   city        1109 non-null   object\n",
            " 1   population  1109 non-null   int64 \n",
            "dtypes: int64(1), object(1)\n",
            "memory usage: 17.5+ KB\n"
          ],
          "name": "stdout"
        }
      ]
    },
    {
      "cell_type": "code",
      "metadata": {
        "id": "yHvWJuwTEy2D",
        "colab_type": "code",
        "colab": {
          "base_uri": "https://localhost:8080/",
          "height": 195
        },
        "outputId": "62745168-a715-4d89-ab3f-6b9c014be098"
      },
      "source": [
        "# Добавим данные по численности к основному датасету\n",
        "data_merged = data.merge(cities, how='left', left_on='city', right_on='city')\n",
        "data_merged.head()"
      ],
      "execution_count": 16,
      "outputs": [
        {
          "output_type": "execute_result",
          "data": {
            "text/html": [
              "<div>\n",
              "<style scoped>\n",
              "    .dataframe tbody tr th:only-of-type {\n",
              "        vertical-align: middle;\n",
              "    }\n",
              "\n",
              "    .dataframe tbody tr th {\n",
              "        vertical-align: top;\n",
              "    }\n",
              "\n",
              "    .dataframe thead th {\n",
              "        text-align: right;\n",
              "    }\n",
              "</style>\n",
              "<table border=\"1\" class=\"dataframe\">\n",
              "  <thead>\n",
              "    <tr style=\"text-align: right;\">\n",
              "      <th></th>\n",
              "      <th>position</th>\n",
              "      <th>gender</th>\n",
              "      <th>city</th>\n",
              "      <th>age</th>\n",
              "      <th>salary</th>\n",
              "      <th>experience</th>\n",
              "      <th>population</th>\n",
              "    </tr>\n",
              "  </thead>\n",
              "  <tbody>\n",
              "    <tr>\n",
              "      <th>0</th>\n",
              "      <td>Менеджер по продажам</td>\n",
              "      <td>Женщина</td>\n",
              "      <td>Москва</td>\n",
              "      <td>31</td>\n",
              "      <td>70</td>\n",
              "      <td>8</td>\n",
              "      <td>11514330.0</td>\n",
              "    </tr>\n",
              "    <tr>\n",
              "      <th>1</th>\n",
              "      <td>Клиентский менеджер</td>\n",
              "      <td>Мужчина</td>\n",
              "      <td>Липецк</td>\n",
              "      <td>40</td>\n",
              "      <td>90</td>\n",
              "      <td>15</td>\n",
              "      <td>508124.0</td>\n",
              "    </tr>\n",
              "    <tr>\n",
              "      <th>2</th>\n",
              "      <td>Супервайзер</td>\n",
              "      <td>Мужчина</td>\n",
              "      <td>Самара</td>\n",
              "      <td>34</td>\n",
              "      <td>50</td>\n",
              "      <td>7</td>\n",
              "      <td>1164896.0</td>\n",
              "    </tr>\n",
              "    <tr>\n",
              "      <th>3</th>\n",
              "      <td>Коммерческий директор</td>\n",
              "      <td>Мужчина</td>\n",
              "      <td>Краснодар</td>\n",
              "      <td>47</td>\n",
              "      <td>60</td>\n",
              "      <td>10</td>\n",
              "      <td>744933.0</td>\n",
              "    </tr>\n",
              "    <tr>\n",
              "      <th>4</th>\n",
              "      <td>Менеджер по продажам</td>\n",
              "      <td>Мужчина</td>\n",
              "      <td>Москва</td>\n",
              "      <td>43</td>\n",
              "      <td>50</td>\n",
              "      <td>11</td>\n",
              "      <td>11514330.0</td>\n",
              "    </tr>\n",
              "  </tbody>\n",
              "</table>\n",
              "</div>"
            ],
            "text/plain": [
              "                position   gender       city  ...  salary  experience  population\n",
              "0   Менеджер по продажам  Женщина     Москва  ...      70           8  11514330.0\n",
              "1    Клиентский менеджер  Мужчина     Липецк  ...      90          15    508124.0\n",
              "2            Супервайзер  Мужчина     Самара  ...      50           7   1164896.0\n",
              "3  Коммерческий директор  Мужчина  Краснодар  ...      60          10    744933.0\n",
              "4   Менеджер по продажам  Мужчина     Москва  ...      50          11  11514330.0\n",
              "\n",
              "[5 rows x 7 columns]"
            ]
          },
          "metadata": {
            "tags": []
          },
          "execution_count": 16
        }
      ]
    },
    {
      "cell_type": "code",
      "metadata": {
        "id": "1CQEiddpIG2W",
        "colab_type": "code",
        "colab": {
          "base_uri": "https://localhost:8080/",
          "height": 34
        },
        "outputId": "3e5f3921-433f-489b-a923-8c25ad8c1218"
      },
      "source": [
        "# Посмотрим % пропусков в столбце \"population\"\n",
        "data_merged['population'].isna().sum() / len (data_merged)"
      ],
      "execution_count": 17,
      "outputs": [
        {
          "output_type": "execute_result",
          "data": {
            "text/plain": [
              "0.066898075102556"
            ]
          },
          "metadata": {
            "tags": []
          },
          "execution_count": 17
        }
      ]
    },
    {
      "cell_type": "code",
      "metadata": {
        "id": "JLufxiQdInuR",
        "colab_type": "code",
        "colab": {
          "base_uri": "https://localhost:8080/",
          "height": 252
        },
        "outputId": "0d569149-26bf-4829-fb29-4ed42667f942"
      },
      "source": [
        "# Пропуски есть, но не критично много\n",
        "# заполним их средними значениями\n",
        "data_merged['population'] = data_merged['population'].fillna(\n",
        "                            data_merged['population'].mean())\n",
        "# И преобразуем float к int\n",
        "data_merged['population'] = data_merged['population'].astype(np.int)\n",
        "data_merged.info()"
      ],
      "execution_count": 18,
      "outputs": [
        {
          "output_type": "stream",
          "text": [
            "<class 'pandas.core.frame.DataFrame'>\n",
            "Int64Index: 3169 entries, 0 to 3168\n",
            "Data columns (total 7 columns):\n",
            " #   Column      Non-Null Count  Dtype \n",
            "---  ------      --------------  ----- \n",
            " 0   position    3169 non-null   object\n",
            " 1   gender      3169 non-null   object\n",
            " 2   city        3169 non-null   object\n",
            " 3   age         3169 non-null   int64 \n",
            " 4   salary      3169 non-null   int64 \n",
            " 5   experience  3169 non-null   int64 \n",
            " 6   population  3169 non-null   int64 \n",
            "dtypes: int64(4), object(3)\n",
            "memory usage: 198.1+ KB\n"
          ],
          "name": "stdout"
        }
      ]
    },
    {
      "cell_type": "code",
      "metadata": {
        "id": "sgzpCHXaJvPF",
        "colab_type": "code",
        "colab": {
          "base_uri": "https://localhost:8080/",
          "height": 195
        },
        "outputId": "6e37759b-2256-4f0e-85de-56c5a1fb81c5"
      },
      "source": [
        "data_merged.head()"
      ],
      "execution_count": 19,
      "outputs": [
        {
          "output_type": "execute_result",
          "data": {
            "text/html": [
              "<div>\n",
              "<style scoped>\n",
              "    .dataframe tbody tr th:only-of-type {\n",
              "        vertical-align: middle;\n",
              "    }\n",
              "\n",
              "    .dataframe tbody tr th {\n",
              "        vertical-align: top;\n",
              "    }\n",
              "\n",
              "    .dataframe thead th {\n",
              "        text-align: right;\n",
              "    }\n",
              "</style>\n",
              "<table border=\"1\" class=\"dataframe\">\n",
              "  <thead>\n",
              "    <tr style=\"text-align: right;\">\n",
              "      <th></th>\n",
              "      <th>position</th>\n",
              "      <th>gender</th>\n",
              "      <th>city</th>\n",
              "      <th>age</th>\n",
              "      <th>salary</th>\n",
              "      <th>experience</th>\n",
              "      <th>population</th>\n",
              "    </tr>\n",
              "  </thead>\n",
              "  <tbody>\n",
              "    <tr>\n",
              "      <th>0</th>\n",
              "      <td>Менеджер по продажам</td>\n",
              "      <td>Женщина</td>\n",
              "      <td>Москва</td>\n",
              "      <td>31</td>\n",
              "      <td>70</td>\n",
              "      <td>8</td>\n",
              "      <td>11514330</td>\n",
              "    </tr>\n",
              "    <tr>\n",
              "      <th>1</th>\n",
              "      <td>Клиентский менеджер</td>\n",
              "      <td>Мужчина</td>\n",
              "      <td>Липецк</td>\n",
              "      <td>40</td>\n",
              "      <td>90</td>\n",
              "      <td>15</td>\n",
              "      <td>508124</td>\n",
              "    </tr>\n",
              "    <tr>\n",
              "      <th>2</th>\n",
              "      <td>Супервайзер</td>\n",
              "      <td>Мужчина</td>\n",
              "      <td>Самара</td>\n",
              "      <td>34</td>\n",
              "      <td>50</td>\n",
              "      <td>7</td>\n",
              "      <td>1164896</td>\n",
              "    </tr>\n",
              "    <tr>\n",
              "      <th>3</th>\n",
              "      <td>Коммерческий директор</td>\n",
              "      <td>Мужчина</td>\n",
              "      <td>Краснодар</td>\n",
              "      <td>47</td>\n",
              "      <td>60</td>\n",
              "      <td>10</td>\n",
              "      <td>744933</td>\n",
              "    </tr>\n",
              "    <tr>\n",
              "      <th>4</th>\n",
              "      <td>Менеджер по продажам</td>\n",
              "      <td>Мужчина</td>\n",
              "      <td>Москва</td>\n",
              "      <td>43</td>\n",
              "      <td>50</td>\n",
              "      <td>11</td>\n",
              "      <td>11514330</td>\n",
              "    </tr>\n",
              "  </tbody>\n",
              "</table>\n",
              "</div>"
            ],
            "text/plain": [
              "                position   gender       city  ...  salary  experience  population\n",
              "0   Менеджер по продажам  Женщина     Москва  ...      70           8    11514330\n",
              "1    Клиентский менеджер  Мужчина     Липецк  ...      90          15      508124\n",
              "2            Супервайзер  Мужчина     Самара  ...      50           7     1164896\n",
              "3  Коммерческий директор  Мужчина  Краснодар  ...      60          10      744933\n",
              "4   Менеджер по продажам  Мужчина     Москва  ...      50          11    11514330\n",
              "\n",
              "[5 rows x 7 columns]"
            ]
          },
          "metadata": {
            "tags": []
          },
          "execution_count": 19
        }
      ]
    },
    {
      "cell_type": "code",
      "metadata": {
        "id": "_Xg1p5HU1tat",
        "colab_type": "code",
        "colab": {
          "base_uri": "https://localhost:8080/",
          "height": 195
        },
        "outputId": "c3bf8f80-d610-478c-a086-8a91af19f17c"
      },
      "source": [
        "# Далее, преобразуем категориальные признаки в числовые\n",
        "data_merged['gender_lbl'] = data_merged['gender'].apply(\n",
        "                            lambda x: 1 if x == 'Мужчина' else 0\n",
        "                            )\n",
        "data_merged.head()"
      ],
      "execution_count": 21,
      "outputs": [
        {
          "output_type": "execute_result",
          "data": {
            "text/html": [
              "<div>\n",
              "<style scoped>\n",
              "    .dataframe tbody tr th:only-of-type {\n",
              "        vertical-align: middle;\n",
              "    }\n",
              "\n",
              "    .dataframe tbody tr th {\n",
              "        vertical-align: top;\n",
              "    }\n",
              "\n",
              "    .dataframe thead th {\n",
              "        text-align: right;\n",
              "    }\n",
              "</style>\n",
              "<table border=\"1\" class=\"dataframe\">\n",
              "  <thead>\n",
              "    <tr style=\"text-align: right;\">\n",
              "      <th></th>\n",
              "      <th>position</th>\n",
              "      <th>gender</th>\n",
              "      <th>city</th>\n",
              "      <th>age</th>\n",
              "      <th>salary</th>\n",
              "      <th>experience</th>\n",
              "      <th>population</th>\n",
              "      <th>gender_lbl</th>\n",
              "    </tr>\n",
              "  </thead>\n",
              "  <tbody>\n",
              "    <tr>\n",
              "      <th>0</th>\n",
              "      <td>Менеджер по продажам</td>\n",
              "      <td>Женщина</td>\n",
              "      <td>Москва</td>\n",
              "      <td>31</td>\n",
              "      <td>70</td>\n",
              "      <td>8</td>\n",
              "      <td>11514330</td>\n",
              "      <td>0</td>\n",
              "    </tr>\n",
              "    <tr>\n",
              "      <th>1</th>\n",
              "      <td>Клиентский менеджер</td>\n",
              "      <td>Мужчина</td>\n",
              "      <td>Липецк</td>\n",
              "      <td>40</td>\n",
              "      <td>90</td>\n",
              "      <td>15</td>\n",
              "      <td>508124</td>\n",
              "      <td>1</td>\n",
              "    </tr>\n",
              "    <tr>\n",
              "      <th>2</th>\n",
              "      <td>Супервайзер</td>\n",
              "      <td>Мужчина</td>\n",
              "      <td>Самара</td>\n",
              "      <td>34</td>\n",
              "      <td>50</td>\n",
              "      <td>7</td>\n",
              "      <td>1164896</td>\n",
              "      <td>1</td>\n",
              "    </tr>\n",
              "    <tr>\n",
              "      <th>3</th>\n",
              "      <td>Коммерческий директор</td>\n",
              "      <td>Мужчина</td>\n",
              "      <td>Краснодар</td>\n",
              "      <td>47</td>\n",
              "      <td>60</td>\n",
              "      <td>10</td>\n",
              "      <td>744933</td>\n",
              "      <td>1</td>\n",
              "    </tr>\n",
              "    <tr>\n",
              "      <th>4</th>\n",
              "      <td>Менеджер по продажам</td>\n",
              "      <td>Мужчина</td>\n",
              "      <td>Москва</td>\n",
              "      <td>43</td>\n",
              "      <td>50</td>\n",
              "      <td>11</td>\n",
              "      <td>11514330</td>\n",
              "      <td>1</td>\n",
              "    </tr>\n",
              "  </tbody>\n",
              "</table>\n",
              "</div>"
            ],
            "text/plain": [
              "                position   gender  ... population  gender_lbl\n",
              "0   Менеджер по продажам  Женщина  ...   11514330           0\n",
              "1    Клиентский менеджер  Мужчина  ...     508124           1\n",
              "2            Супервайзер  Мужчина  ...    1164896           1\n",
              "3  Коммерческий директор  Мужчина  ...     744933           1\n",
              "4   Менеджер по продажам  Мужчина  ...   11514330           1\n",
              "\n",
              "[5 rows x 8 columns]"
            ]
          },
          "metadata": {
            "tags": []
          },
          "execution_count": 21
        }
      ]
    },
    {
      "cell_type": "code",
      "metadata": {
        "id": "Zkrnpu9NdRo9",
        "colab_type": "code",
        "colab": {
          "base_uri": "https://localhost:8080/",
          "height": 315
        },
        "outputId": "4d138c72-0b7d-4b4e-ff44-d6b7123b56b6"
      },
      "source": [
        "# Посмотрим на зависимости между признаками\n",
        "\n",
        "from seaborn import heatmap\n",
        "\n",
        "heatmap(\n",
        "    data_merged[['salary', \n",
        "                 'age', \n",
        "                 'experience', \n",
        "                 'population', \n",
        "                 'gender_lbl']\n",
        "                ].corr());"
      ],
      "execution_count": 23,
      "outputs": [
        {
          "output_type": "display_data",
          "data": {
            "image/png": "[encoded data removed]",
            "text/plain": [
              "<Figure size 432x288 with 2 Axes>"
            ]
          },
          "metadata": {
            "tags": [],
            "needs_background": "light"
          }
        }
      ]
    },
    {
      "cell_type": "markdown",
      "metadata": {
        "id": "ywIo6ZpLftD7",
        "colab_type": "text"
      },
      "source": [
        "Как видно, самая сильная зависимость уровня ожиданий - от численности населения города проживания (в крупных городах ожидания явно выше)"
      ]
    },
    {
      "cell_type": "code",
      "metadata": {
        "id": "yfAhvXI77NYf",
        "colab_type": "code",
        "colab": {
          "base_uri": "https://localhost:8080/",
          "height": 232
        },
        "outputId": "655f93b0-8019-412c-ce36-7af6b47b2ce6"
      },
      "source": [
        "# Добавим фиктивные переменные к датасету из наименований позиций\n",
        "data_dummy = pd.get_dummies(data_merged.drop(['city', 'gender'], axis=1))\n",
        "data_dummy.head()"
      ],
      "execution_count": 24,
      "outputs": [
        {
          "output_type": "execute_result",
          "data": {
            "text/html": [
              "<div>\n",
              "<style scoped>\n",
              "    .dataframe tbody tr th:only-of-type {\n",
              "        vertical-align: middle;\n",
              "    }\n",
              "\n",
              "    .dataframe tbody tr th {\n",
              "        vertical-align: top;\n",
              "    }\n",
              "\n",
              "    .dataframe thead th {\n",
              "        text-align: right;\n",
              "    }\n",
              "</style>\n",
              "<table border=\"1\" class=\"dataframe\">\n",
              "  <thead>\n",
              "    <tr style=\"text-align: right;\">\n",
              "      <th></th>\n",
              "      <th>age</th>\n",
              "      <th>salary</th>\n",
              "      <th>experience</th>\n",
              "      <th>population</th>\n",
              "      <th>gender_lbl</th>\n",
              "      <th>position_Администратор</th>\n",
              "      <th>position_Водитель</th>\n",
              "      <th>position_Кам</th>\n",
              "      <th>position_Кассир</th>\n",
              "      <th>position_Кладовщик</th>\n",
              "      <th>position_Клиентский менеджер</th>\n",
              "      <th>position_Коммерческий директор</th>\n",
              "      <th>position_Курьер</th>\n",
              "      <th>position_Менеджер по закупкам</th>\n",
              "      <th>position_Менеджер по продажам</th>\n",
              "      <th>position_Менеджер по развитию</th>\n",
              "      <th>position_Мерчендайзер</th>\n",
              "      <th>position_Оператор</th>\n",
              "      <th>position_Помощник менеджера</th>\n",
              "      <th>position_Продавец-консультант</th>\n",
              "      <th>position_Региональный менеджер</th>\n",
              "      <th>position_Руководитель продаж</th>\n",
              "      <th>position_Специалист</th>\n",
              "      <th>position_Супервайзер</th>\n",
              "      <th>position_Территориальный менеджер</th>\n",
              "      <th>position_Товаровед</th>\n",
              "      <th>position_Торговый представитель</th>\n",
              "      <th>position_Управляющий магазином</th>\n",
              "    </tr>\n",
              "  </thead>\n",
              "  <tbody>\n",
              "    <tr>\n",
              "      <th>0</th>\n",
              "      <td>31</td>\n",
              "      <td>70</td>\n",
              "      <td>8</td>\n",
              "      <td>11514330</td>\n",
              "      <td>0</td>\n",
              "      <td>0</td>\n",
              "      <td>0</td>\n",
              "      <td>0</td>\n",
              "      <td>0</td>\n",
              "      <td>0</td>\n",
              "      <td>0</td>\n",
              "      <td>0</td>\n",
              "      <td>0</td>\n",
              "      <td>0</td>\n",
              "      <td>1</td>\n",
              "      <td>0</td>\n",
              "      <td>0</td>\n",
              "      <td>0</td>\n",
              "      <td>0</td>\n",
              "      <td>0</td>\n",
              "      <td>0</td>\n",
              "      <td>0</td>\n",
              "      <td>0</td>\n",
              "      <td>0</td>\n",
              "      <td>0</td>\n",
              "      <td>0</td>\n",
              "      <td>0</td>\n",
              "      <td>0</td>\n",
              "    </tr>\n",
              "    <tr>\n",
              "      <th>1</th>\n",
              "      <td>40</td>\n",
              "      <td>90</td>\n",
              "      <td>15</td>\n",
              "      <td>508124</td>\n",
              "      <td>1</td>\n",
              "      <td>0</td>\n",
              "      <td>0</td>\n",
              "      <td>0</td>\n",
              "      <td>0</td>\n",
              "      <td>0</td>\n",
              "      <td>1</td>\n",
              "      <td>0</td>\n",
              "      <td>0</td>\n",
              "      <td>0</td>\n",
              "      <td>0</td>\n",
              "      <td>0</td>\n",
              "      <td>0</td>\n",
              "      <td>0</td>\n",
              "      <td>0</td>\n",
              "      <td>0</td>\n",
              "      <td>0</td>\n",
              "      <td>0</td>\n",
              "      <td>0</td>\n",
              "      <td>0</td>\n",
              "      <td>0</td>\n",
              "      <td>0</td>\n",
              "      <td>0</td>\n",
              "      <td>0</td>\n",
              "    </tr>\n",
              "    <tr>\n",
              "      <th>2</th>\n",
              "      <td>34</td>\n",
              "      <td>50</td>\n",
              "      <td>7</td>\n",
              "      <td>1164896</td>\n",
              "      <td>1</td>\n",
              "      <td>0</td>\n",
              "      <td>0</td>\n",
              "      <td>0</td>\n",
              "      <td>0</td>\n",
              "      <td>0</td>\n",
              "      <td>0</td>\n",
              "      <td>0</td>\n",
              "      <td>0</td>\n",
              "      <td>0</td>\n",
              "      <td>0</td>\n",
              "      <td>0</td>\n",
              "      <td>0</td>\n",
              "      <td>0</td>\n",
              "      <td>0</td>\n",
              "      <td>0</td>\n",
              "      <td>0</td>\n",
              "      <td>0</td>\n",
              "      <td>0</td>\n",
              "      <td>1</td>\n",
              "      <td>0</td>\n",
              "      <td>0</td>\n",
              "      <td>0</td>\n",
              "      <td>0</td>\n",
              "    </tr>\n",
              "    <tr>\n",
              "      <th>3</th>\n",
              "      <td>47</td>\n",
              "      <td>60</td>\n",
              "      <td>10</td>\n",
              "      <td>744933</td>\n",
              "      <td>1</td>\n",
              "      <td>0</td>\n",
              "      <td>0</td>\n",
              "      <td>0</td>\n",
              "      <td>0</td>\n",
              "      <td>0</td>\n",
              "      <td>0</td>\n",
              "      <td>1</td>\n",
              "      <td>0</td>\n",
              "      <td>0</td>\n",
              "      <td>0</td>\n",
              "      <td>0</td>\n",
              "      <td>0</td>\n",
              "      <td>0</td>\n",
              "      <td>0</td>\n",
              "      <td>0</td>\n",
              "      <td>0</td>\n",
              "      <td>0</td>\n",
              "      <td>0</td>\n",
              "      <td>0</td>\n",
              "      <td>0</td>\n",
              "      <td>0</td>\n",
              "      <td>0</td>\n",
              "      <td>0</td>\n",
              "    </tr>\n",
              "    <tr>\n",
              "      <th>4</th>\n",
              "      <td>43</td>\n",
              "      <td>50</td>\n",
              "      <td>11</td>\n",
              "      <td>11514330</td>\n",
              "      <td>1</td>\n",
              "      <td>0</td>\n",
              "      <td>0</td>\n",
              "      <td>0</td>\n",
              "      <td>0</td>\n",
              "      <td>0</td>\n",
              "      <td>0</td>\n",
              "      <td>0</td>\n",
              "      <td>0</td>\n",
              "      <td>0</td>\n",
              "      <td>1</td>\n",
              "      <td>0</td>\n",
              "      <td>0</td>\n",
              "      <td>0</td>\n",
              "      <td>0</td>\n",
              "      <td>0</td>\n",
              "      <td>0</td>\n",
              "      <td>0</td>\n",
              "      <td>0</td>\n",
              "      <td>0</td>\n",
              "      <td>0</td>\n",
              "      <td>0</td>\n",
              "      <td>0</td>\n",
              "      <td>0</td>\n",
              "    </tr>\n",
              "  </tbody>\n",
              "</table>\n",
              "</div>"
            ],
            "text/plain": [
              "   age  salary  ...  position_Торговый представитель  position_Управляющий магазином\n",
              "0   31      70  ...                                0                               0\n",
              "1   40      90  ...                                0                               0\n",
              "2   34      50  ...                                0                               0\n",
              "3   47      60  ...                                0                               0\n",
              "4   43      50  ...                                0                               0\n",
              "\n",
              "[5 rows x 28 columns]"
            ]
          },
          "metadata": {
            "tags": []
          },
          "execution_count": 24
        }
      ]
    },
    {
      "cell_type": "code",
      "metadata": {
        "id": "l_dlgxGy5B6g",
        "colab_type": "code",
        "colab": {
          "base_uri": "https://localhost:8080/",
          "height": 265
        },
        "outputId": "40199382-2ccd-4fb5-cb61-355e97797504"
      },
      "source": [
        "# Посмотрим на частые позиции\n",
        "import seaborn as sns\n",
        "import matplotlib.pyplot as plt\n",
        "\n",
        "db = data_dummy.drop(['age',\t'salary',\t'experience',\t\n",
        "                       'population',\t'gender_lbl'], axis=1)\n",
        "\n",
        "sns.barplot(x = db.sum(), \n",
        "            y = db.sum().index);"
      ],
      "execution_count": 25,
      "outputs": [
        {
          "output_type": "display_data",
          "data": {
            "image/png": "[encoded data removed]",
            "text/plain": [
              "<Figure size 432x288 with 1 Axes>"
            ]
          },
          "metadata": {
            "tags": [],
            "needs_background": "light"
          }
        }
      ]
    },
    {
      "cell_type": "code",
      "metadata": {
        "id": "fmBNzSNaqHtw",
        "colab_type": "code",
        "colab": {
          "base_uri": "https://localhost:8080/",
          "height": 34
        },
        "outputId": "f753ffc4-d056-47d0-e566-932eb9f0a421"
      },
      "source": [
        "# Как видно, данные по позициям очень неоднородны\n",
        "# Случайным образом \"перемешаем\" и добавим частями\n",
        "# уже имеющиеся данные в датасет\n",
        "\n",
        "from sklearn.utils import shuffle\n",
        "import random\n",
        "\n",
        "for i in range(10000):\n",
        "  data_shuffle = shuffle(data_dummy).head(10)\n",
        "  data_dummy = data_dummy.append(data_shuffle)\n",
        "\n",
        "len(data_dummy)"
      ],
      "execution_count": 26,
      "outputs": [
        {
          "output_type": "execute_result",
          "data": {
            "text/plain": [
              "103169"
            ]
          },
          "metadata": {
            "tags": []
          },
          "execution_count": 26
        }
      ]
    },
    {
      "cell_type": "code",
      "metadata": {
        "id": "sO_b41ULyTo6",
        "colab_type": "code",
        "colab": {
          "base_uri": "https://localhost:8080/",
          "height": 232
        },
        "outputId": "1cb2fb50-ef8f-4c65-e682-254c888dde29"
      },
      "source": [
        "# Теперь выберем по 200 случайных строк по каждой позиции\n",
        "\n",
        "balanced_data = pd.DataFrame()\n",
        "\n",
        "for i in data_dummy.columns[5:]:\n",
        "  data_filtred = data_dummy[data_dummy[i] == 1].head(200)\n",
        "  balanced_data = balanced_data.append(data_filtred)\n",
        "\n",
        "balanced_data.head()"
      ],
      "execution_count": 27,
      "outputs": [
        {
          "output_type": "execute_result",
          "data": {
            "text/html": [
              "<div>\n",
              "<style scoped>\n",
              "    .dataframe tbody tr th:only-of-type {\n",
              "        vertical-align: middle;\n",
              "    }\n",
              "\n",
              "    .dataframe tbody tr th {\n",
              "        vertical-align: top;\n",
              "    }\n",
              "\n",
              "    .dataframe thead th {\n",
              "        text-align: right;\n",
              "    }\n",
              "</style>\n",
              "<table border=\"1\" class=\"dataframe\">\n",
              "  <thead>\n",
              "    <tr style=\"text-align: right;\">\n",
              "      <th></th>\n",
              "      <th>age</th>\n",
              "      <th>salary</th>\n",
              "      <th>experience</th>\n",
              "      <th>population</th>\n",
              "      <th>gender_lbl</th>\n",
              "      <th>position_Администратор</th>\n",
              "      <th>position_Водитель</th>\n",
              "      <th>position_Кам</th>\n",
              "      <th>position_Кассир</th>\n",
              "      <th>position_Кладовщик</th>\n",
              "      <th>position_Клиентский менеджер</th>\n",
              "      <th>position_Коммерческий директор</th>\n",
              "      <th>position_Курьер</th>\n",
              "      <th>position_Менеджер по закупкам</th>\n",
              "      <th>position_Менеджер по продажам</th>\n",
              "      <th>position_Менеджер по развитию</th>\n",
              "      <th>position_Мерчендайзер</th>\n",
              "      <th>position_Оператор</th>\n",
              "      <th>position_Помощник менеджера</th>\n",
              "      <th>position_Продавец-консультант</th>\n",
              "      <th>position_Региональный менеджер</th>\n",
              "      <th>position_Руководитель продаж</th>\n",
              "      <th>position_Специалист</th>\n",
              "      <th>position_Супервайзер</th>\n",
              "      <th>position_Территориальный менеджер</th>\n",
              "      <th>position_Товаровед</th>\n",
              "      <th>position_Торговый представитель</th>\n",
              "      <th>position_Управляющий магазином</th>\n",
              "    </tr>\n",
              "  </thead>\n",
              "  <tbody>\n",
              "    <tr>\n",
              "      <th>194</th>\n",
              "      <td>31</td>\n",
              "      <td>60</td>\n",
              "      <td>8</td>\n",
              "      <td>11514330</td>\n",
              "      <td>1</td>\n",
              "      <td>1</td>\n",
              "      <td>0</td>\n",
              "      <td>0</td>\n",
              "      <td>0</td>\n",
              "      <td>0</td>\n",
              "      <td>0</td>\n",
              "      <td>0</td>\n",
              "      <td>0</td>\n",
              "      <td>0</td>\n",
              "      <td>0</td>\n",
              "      <td>0</td>\n",
              "      <td>0</td>\n",
              "      <td>0</td>\n",
              "      <td>0</td>\n",
              "      <td>0</td>\n",
              "      <td>0</td>\n",
              "      <td>0</td>\n",
              "      <td>0</td>\n",
              "      <td>0</td>\n",
              "      <td>0</td>\n",
              "      <td>0</td>\n",
              "      <td>0</td>\n",
              "      <td>0</td>\n",
              "    </tr>\n",
              "    <tr>\n",
              "      <th>200</th>\n",
              "      <td>31</td>\n",
              "      <td>60</td>\n",
              "      <td>8</td>\n",
              "      <td>11514330</td>\n",
              "      <td>1</td>\n",
              "      <td>1</td>\n",
              "      <td>0</td>\n",
              "      <td>0</td>\n",
              "      <td>0</td>\n",
              "      <td>0</td>\n",
              "      <td>0</td>\n",
              "      <td>0</td>\n",
              "      <td>0</td>\n",
              "      <td>0</td>\n",
              "      <td>0</td>\n",
              "      <td>0</td>\n",
              "      <td>0</td>\n",
              "      <td>0</td>\n",
              "      <td>0</td>\n",
              "      <td>0</td>\n",
              "      <td>0</td>\n",
              "      <td>0</td>\n",
              "      <td>0</td>\n",
              "      <td>0</td>\n",
              "      <td>0</td>\n",
              "      <td>0</td>\n",
              "      <td>0</td>\n",
              "      <td>0</td>\n",
              "    </tr>\n",
              "    <tr>\n",
              "      <th>244</th>\n",
              "      <td>29</td>\n",
              "      <td>50</td>\n",
              "      <td>7</td>\n",
              "      <td>11514330</td>\n",
              "      <td>0</td>\n",
              "      <td>1</td>\n",
              "      <td>0</td>\n",
              "      <td>0</td>\n",
              "      <td>0</td>\n",
              "      <td>0</td>\n",
              "      <td>0</td>\n",
              "      <td>0</td>\n",
              "      <td>0</td>\n",
              "      <td>0</td>\n",
              "      <td>0</td>\n",
              "      <td>0</td>\n",
              "      <td>0</td>\n",
              "      <td>0</td>\n",
              "      <td>0</td>\n",
              "      <td>0</td>\n",
              "      <td>0</td>\n",
              "      <td>0</td>\n",
              "      <td>0</td>\n",
              "      <td>0</td>\n",
              "      <td>0</td>\n",
              "      <td>0</td>\n",
              "      <td>0</td>\n",
              "      <td>0</td>\n",
              "    </tr>\n",
              "    <tr>\n",
              "      <th>251</th>\n",
              "      <td>29</td>\n",
              "      <td>50</td>\n",
              "      <td>7</td>\n",
              "      <td>11514330</td>\n",
              "      <td>0</td>\n",
              "      <td>1</td>\n",
              "      <td>0</td>\n",
              "      <td>0</td>\n",
              "      <td>0</td>\n",
              "      <td>0</td>\n",
              "      <td>0</td>\n",
              "      <td>0</td>\n",
              "      <td>0</td>\n",
              "      <td>0</td>\n",
              "      <td>0</td>\n",
              "      <td>0</td>\n",
              "      <td>0</td>\n",
              "      <td>0</td>\n",
              "      <td>0</td>\n",
              "      <td>0</td>\n",
              "      <td>0</td>\n",
              "      <td>0</td>\n",
              "      <td>0</td>\n",
              "      <td>0</td>\n",
              "      <td>0</td>\n",
              "      <td>0</td>\n",
              "      <td>0</td>\n",
              "      <td>0</td>\n",
              "    </tr>\n",
              "    <tr>\n",
              "      <th>259</th>\n",
              "      <td>33</td>\n",
              "      <td>55</td>\n",
              "      <td>12</td>\n",
              "      <td>11514330</td>\n",
              "      <td>0</td>\n",
              "      <td>1</td>\n",
              "      <td>0</td>\n",
              "      <td>0</td>\n",
              "      <td>0</td>\n",
              "      <td>0</td>\n",
              "      <td>0</td>\n",
              "      <td>0</td>\n",
              "      <td>0</td>\n",
              "      <td>0</td>\n",
              "      <td>0</td>\n",
              "      <td>0</td>\n",
              "      <td>0</td>\n",
              "      <td>0</td>\n",
              "      <td>0</td>\n",
              "      <td>0</td>\n",
              "      <td>0</td>\n",
              "      <td>0</td>\n",
              "      <td>0</td>\n",
              "      <td>0</td>\n",
              "      <td>0</td>\n",
              "      <td>0</td>\n",
              "      <td>0</td>\n",
              "      <td>0</td>\n",
              "    </tr>\n",
              "  </tbody>\n",
              "</table>\n",
              "</div>"
            ],
            "text/plain": [
              "     age  ...  position_Управляющий магазином\n",
              "194   31  ...                               0\n",
              "200   31  ...                               0\n",
              "244   29  ...                               0\n",
              "251   29  ...                               0\n",
              "259   33  ...                               0\n",
              "\n",
              "[5 rows x 28 columns]"
            ]
          },
          "metadata": {
            "tags": []
          },
          "execution_count": 27
        }
      ]
    },
    {
      "cell_type": "code",
      "metadata": {
        "id": "MisnVcJe1cDN",
        "colab_type": "code",
        "colab": {
          "base_uri": "https://localhost:8080/",
          "height": 605
        },
        "outputId": "016850e2-d9bf-4ccf-e0de-6e16b11b1586"
      },
      "source": [
        "balanced_data.info()"
      ],
      "execution_count": 28,
      "outputs": [
        {
          "output_type": "stream",
          "text": [
            "<class 'pandas.core.frame.DataFrame'>\n",
            "Int64Index: 3506 entries, 194 to 227\n",
            "Data columns (total 28 columns):\n",
            " #   Column                             Non-Null Count  Dtype\n",
            "---  ------                             --------------  -----\n",
            " 0   age                                3506 non-null   int64\n",
            " 1   salary                             3506 non-null   int64\n",
            " 2   experience                         3506 non-null   int64\n",
            " 3   population                         3506 non-null   int64\n",
            " 4   gender_lbl                         3506 non-null   int64\n",
            " 5   position_Администратор             3506 non-null   uint8\n",
            " 6   position_Водитель                  3506 non-null   uint8\n",
            " 7   position_Кам                       3506 non-null   uint8\n",
            " 8   position_Кассир                    3506 non-null   uint8\n",
            " 9   position_Кладовщик                 3506 non-null   uint8\n",
            " 10  position_Клиентский менеджер       3506 non-null   uint8\n",
            " 11  position_Коммерческий директор     3506 non-null   uint8\n",
            " 12  position_Курьер                    3506 non-null   uint8\n",
            " 13  position_Менеджер по закупкам      3506 non-null   uint8\n",
            " 14  position_Менеджер по продажам      3506 non-null   uint8\n",
            " 15  position_Менеджер по развитию      3506 non-null   uint8\n",
            " 16  position_Мерчендайзер              3506 non-null   uint8\n",
            " 17  position_Оператор                  3506 non-null   uint8\n",
            " 18  position_Помощник менеджера        3506 non-null   uint8\n",
            " 19  position_Продавец-консультант      3506 non-null   uint8\n",
            " 20  position_Региональный менеджер     3506 non-null   uint8\n",
            " 21  position_Руководитель продаж       3506 non-null   uint8\n",
            " 22  position_Специалист                3506 non-null   uint8\n",
            " 23  position_Супервайзер               3506 non-null   uint8\n",
            " 24  position_Территориальный менеджер  3506 non-null   uint8\n",
            " 25  position_Товаровед                 3506 non-null   uint8\n",
            " 26  position_Торговый представитель    3506 non-null   uint8\n",
            " 27  position_Управляющий магазином     3506 non-null   uint8\n",
            "dtypes: int64(5), uint8(23)\n",
            "memory usage: 243.1 KB\n"
          ],
          "name": "stdout"
        }
      ]
    },
    {
      "cell_type": "code",
      "metadata": {
        "id": "-J9tu99QsiL_",
        "colab_type": "code",
        "colab": {
          "base_uri": "https://localhost:8080/",
          "height": 265
        },
        "outputId": "f32c70bb-b304-4d95-864d-fc7442d4db36"
      },
      "source": [
        "# Снова посмотрим на позиции\n",
        "import seaborn as sns\n",
        "import matplotlib.pyplot as plt\n",
        "\n",
        "db = balanced_data.drop(['age',\t'salary',\t'experience',\t\n",
        "                       'population',\t'gender_lbl'], axis=1)\n",
        "\n",
        "sns.barplot(x = db.sum(), \n",
        "            y = db.sum().index);"
      ],
      "execution_count": 29,
      "outputs": [
        {
          "output_type": "display_data",
          "data": {
            "image/png": "[encoded data removed]",
            "text/plain": [
              "<Figure size 432x288 with 1 Axes>"
            ]
          },
          "metadata": {
            "tags": [],
            "needs_background": "light"
          }
        }
      ]
    },
    {
      "cell_type": "markdown",
      "metadata": {
        "id": "qJ6RunJQ1owW",
        "colab_type": "text"
      },
      "source": [
        "Совсем другое дело..."
      ]
    },
    {
      "cell_type": "code",
      "metadata": {
        "id": "jZJtYmIrwvkg",
        "colab_type": "code",
        "colab": {
          "base_uri": "https://localhost:8080/",
          "height": 437
        },
        "outputId": "50ce4ff2-f497-467e-bca6-3fba135d9fbe"
      },
      "source": [
        "import seaborn as sns\n",
        "from seaborn import heatmap\n",
        "\n",
        "heatmap(balanced_data[['salary',\n",
        "                   'position_Коммерческий директор',\n",
        "                   'position_Менеджер по продажам',\n",
        "                   'position_Мерчендайзер',\n",
        "                   'position_Руководитель продаж',\n",
        "                    'position_Региональный менеджер',\n",
        "                   'position_Супервайзер',\n",
        "                   'position_Торговый представитель'\n",
        "                    ]].corr());"
      ],
      "execution_count": 30,
      "outputs": [
        {
          "output_type": "display_data",
          "data": {
            "image/png": "[encoded data removed]",
            "text/plain": [
              "<Figure size 432x288 with 2 Axes>"
            ]
          },
          "metadata": {
            "tags": [],
            "needs_background": "light"
          }
        }
      ]
    },
    {
      "cell_type": "markdown",
      "metadata": {
        "id": "xbU1BM04yB7d",
        "colab_type": "text"
      },
      "source": [
        "Также на примере мы видим явную зависимость между статусными позициями, такими как \"Коммерческий директор\" и \"Руководитель продаж\" и уровнем их ожиданий по доходу"
      ]
    },
    {
      "cell_type": "markdown",
      "metadata": {
        "id": "v0j9EBPhFNOs",
        "colab_type": "text"
      },
      "source": [
        "## Подготовка и построение модели"
      ]
    },
    {
      "cell_type": "markdown",
      "metadata": {
        "id": "uWxrD07_-8HA",
        "colab_type": "text"
      },
      "source": [
        "### Разбиение выборки"
      ]
    },
    {
      "cell_type": "code",
      "metadata": {
        "id": "BfnM9vuqCnVs",
        "colab_type": "code",
        "colab": {}
      },
      "source": [
        "from sklearn.model_selection import train_test_split\n",
        "\n",
        "rs = 42\n",
        "\n",
        "\n",
        "def data_split(data):\n",
        "  \"\"\"Hold-out разбиение на две выборки\"\"\"\n",
        "  X = data.drop(['salary'], axis=1)\n",
        "  y = data['salary'].values\n",
        "\n",
        "  X_train, X_test, y_train, y_test = train_test_split(\n",
        "      X, y, test_size=0.2, shuffle=True,\n",
        "      random_state=rs\n",
        "      )\n",
        "  \n",
        "  return X_train, X_test, y_train, y_test"
      ],
      "execution_count": 31,
      "outputs": []
    },
    {
      "cell_type": "code",
      "metadata": {
        "id": "Wweko1QVJvkm",
        "colab_type": "code",
        "colab": {}
      },
      "source": [
        "X_train, X_test, y_train, y_test = data_split(balanced_data)"
      ],
      "execution_count": 32,
      "outputs": []
    },
    {
      "cell_type": "code",
      "metadata": {
        "id": "K_LxoSPR9Bpf",
        "colab_type": "code",
        "colab": {
          "base_uri": "https://localhost:8080/",
          "height": 168
        },
        "outputId": "b9899204-8b9c-4532-8db3-e9cb8a95ee0a"
      },
      "source": [
        "from prettytable import PrettyTable\n",
        "x = PrettyTable()\n",
        "x.field_names = [\"Тип выборки\", \"Размерность\"]\n",
        "x.add_row([\"Исходная выборка\", balanced_data.shape])\n",
        "x.add_row([\"X_train\", X_train.shape])\n",
        "x.add_row([\"X_test\", X_test.shape])\n",
        "x.add_row([\"y_train\", y_train.shape])\n",
        "x.add_row([\"y_test\", y_test.shape])\n",
        "print(x)"
      ],
      "execution_count": 33,
      "outputs": [
        {
          "output_type": "stream",
          "text": [
            "+------------------+-------------+\n",
            "|   Тип выборки    | Размерность |\n",
            "+------------------+-------------+\n",
            "| Исходная выборка |  (3506, 28) |\n",
            "|     X_train      |  (2804, 27) |\n",
            "|      X_test      |  (702, 27)  |\n",
            "|     y_train      |   (2804,)   |\n",
            "|      y_test      |    (702,)   |\n",
            "+------------------+-------------+\n"
          ],
          "name": "stdout"
        }
      ]
    },
    {
      "cell_type": "markdown",
      "metadata": {
        "id": "JLsF47UCZ7bo",
        "colab_type": "text"
      },
      "source": [
        "Наша задача предсказания ожиданий кандидата по уровню оплаты труда сводится к классической задаче регрессии (с учителем). Рассмотрим несколько моделей."
      ]
    },
    {
      "cell_type": "markdown",
      "metadata": {
        "id": "KQMuAa9M65OT",
        "colab_type": "text"
      },
      "source": [
        "Начнем с самого простого"
      ]
    },
    {
      "cell_type": "markdown",
      "metadata": {
        "id": "cUfjcM12NVDx",
        "colab_type": "text"
      },
      "source": [
        "### Обучение sklearn.LinearRegression"
      ]
    },
    {
      "cell_type": "code",
      "metadata": {
        "id": "6W6VYopeNxQV",
        "colab_type": "code",
        "colab": {}
      },
      "source": [
        "from sklearn.linear_model import LinearRegression\n",
        "from sklearn.metrics import mean_absolute_error as mae\n",
        "\n",
        "\n",
        "def train_linreg(data):\n",
        "  \"\"\"Обучает модель регрессии\"\"\"\n",
        "\n",
        "  X_train, X_test, y_train, y_test = data_split(data)\n",
        " \n",
        "  # Описание модели\n",
        "  model = LinearRegression()\n",
        "  \n",
        "  # Обучение модели\n",
        "  model.fit(\n",
        "      X_train, y_train\n",
        "      )\n",
        "  \n",
        "  # Предсказание на основании обученной модели\n",
        "  y_pred = model.predict(X_test)\n",
        "  \n",
        "  # Метрика качества mse\n",
        "  error = mae(y_test, y_pred)\n",
        "  \n",
        "  print('mae:', error)"
      ],
      "execution_count": 34,
      "outputs": []
    },
    {
      "cell_type": "code",
      "metadata": {
        "id": "RzEjq3t4HZmM",
        "colab_type": "code",
        "colab": {
          "base_uri": "https://localhost:8080/",
          "height": 34
        },
        "outputId": "69a909ec-ae73-4f22-cbdc-edf04df49415"
      },
      "source": [
        "sklr = train_linreg(balanced_data)"
      ],
      "execution_count": 35,
      "outputs": [
        {
          "output_type": "stream",
          "text": [
            "mae: 15.356253133910084\n"
          ],
          "name": "stdout"
        }
      ]
    },
    {
      "cell_type": "markdown",
      "metadata": {
        "id": "SHrxJhjuhFO-",
        "colab_type": "text"
      },
      "source": [
        "Метрику `mae` выберем в связи с ее высокой интуитивностью, ведь все понимают, что ошибка модели в 15 тысяч рублей при средней ожидаемой зарплате в 65 тыс.рублей - это достаточно много (22% - показатель MAPE). Попробуем усложнить решение"
      ]
    },
    {
      "cell_type": "markdown",
      "metadata": {
        "id": "4_eS1TjCi_Bx",
        "colab_type": "text"
      },
      "source": [
        "### Обучение модели RandomForest с бэггингом"
      ]
    },
    {
      "cell_type": "code",
      "metadata": {
        "id": "SyDoZN5SjFlE",
        "colab_type": "code",
        "colab": {}
      },
      "source": [
        "from sklearn.ensemble import RandomForestRegressor\n",
        "from sklearn.ensemble import BaggingRegressor\n",
        "from sklearn.metrics import mean_absolute_error as mae\n",
        "\n",
        "\n",
        "def train_forest(data, nest, mss, msl):\n",
        "  \"\"\"Обучает модель регрессии RandomForest\"\"\"\n",
        "\n",
        "  X_train, X_test, y_train, y_test = data_split(data)\n",
        "\n",
        "  # Описание модели\n",
        "  model = RandomForestRegressor(\n",
        "      n_estimators=nest, # количество деревьев (макс=100)\n",
        "      criterion='mae',\n",
        "      min_samples_split=mss, # минимальное разбиение выборок\n",
        "      min_samples_leaf=msl, # минимальное количество листов в узле\n",
        "      n_jobs=5, # количество параллельных джоб\n",
        "      bootstrap=True # моделирует наличие бОльшено V-ма данных\n",
        "  )\n",
        "  \n",
        "  # Используем бэггинг для усиления алгоритма\n",
        "  model = BaggingRegressor(model)\n",
        "\n",
        "  # Обучение модели\n",
        "  model.fit(\n",
        "      X_train, y_train\n",
        "  )\n",
        "\n",
        "  # Предсказание на основании обученной модели\n",
        "  y_pred = model.predict(X_test)\n",
        "\n",
        "  # Метрика качества mse\n",
        "  error = mae(y_test, y_pred)\n",
        "  \n",
        "  return error, nest, mss, msl"
      ],
      "execution_count": 40,
      "outputs": []
    },
    {
      "cell_type": "markdown",
      "metadata": {
        "id": "PjODRgJVROCe",
        "colab_type": "text"
      },
      "source": [
        "#### Оптимизация гиперпараметров"
      ]
    },
    {
      "cell_type": "code",
      "metadata": {
        "id": "XenuUC3fN5gF",
        "colab_type": "code",
        "colab": {
          "base_uri": "https://localhost:8080/",
          "height": 34
        },
        "outputId": "21510f39-f2c3-4694-d46f-60dfe825fec8"
      },
      "source": [
        "from itertools import product\n",
        "\n",
        "# Гиперпараметры\n",
        "nest = range(50, 100, 20)\n",
        "mss = range(2, 10, 2)\n",
        "msl = range(2, 10, 2)\n",
        "\n",
        "parameters = product(nest, mss, msl)\n",
        "parameters_list = list(parameters)\n",
        "\n",
        "# Количество параметров для перебора\n",
        "len(parameters_list)"
      ],
      "execution_count": 41,
      "outputs": [
        {
          "output_type": "execute_result",
          "data": {
            "text/plain": [
              "48"
            ]
          },
          "metadata": {
            "tags": []
          },
          "execution_count": 41
        }
      ]
    },
    {
      "cell_type": "code",
      "metadata": {
        "id": "MSLUQGkWRHts",
        "colab_type": "code",
        "colab": {
          "base_uri": "https://localhost:8080/",
          "height": 67
        },
        "outputId": "55496d7f-825e-4af5-b19e-8aca85b6ee8a"
      },
      "source": [
        "import warnings\n",
        "\n",
        "%timeit\n",
        "results = []\n",
        "best_mae = float(\"inf\")\n",
        "\n",
        "for param in parameters_list:\n",
        "  model=train_forest(balanced_data, param[0], param[1], param[2])\n",
        "  res_mae = model[0]\n",
        "  if res_mae < best_mae:\n",
        "    best_model = model\n",
        "    best_mae = res_mae\n",
        "    best_param = param\n",
        "    results.append([param, model[0]])\n",
        "\n",
        "warnings.filterwarnings('default')\n",
        "\n",
        "result_table = pd.DataFrame(results)\n",
        "result_table.columns = ['parameters', 'res_mae']\n",
        "print(result_table.sort_values(by = 'res_mae', ascending=True).head())"
      ],
      "execution_count": 42,
      "outputs": [
        {
          "output_type": "stream",
          "text": [
            "   parameters   res_mae\n",
            "1  (50, 4, 2)  7.970871\n",
            "0  (50, 2, 2)  8.094365\n"
          ],
          "name": "stdout"
        }
      ]
    },
    {
      "cell_type": "markdown",
      "metadata": {
        "id": "-qBBcoFtcWV9",
        "colab_type": "text"
      },
      "source": [
        "Минимальное значение MAE достигается при:\n",
        "- n_estimators=50\n",
        "- min_samples_split=4\n",
        "- min_samples_leaf=2\n",
        "\n",
        "Уже неплохо. MAE в %% (MAPE) - 12%, т.е. точность модели 88%"
      ]
    },
    {
      "cell_type": "markdown",
      "metadata": {
        "id": "iphOZAqBb502",
        "colab_type": "text"
      },
      "source": [
        "## Сериализация модели"
      ]
    },
    {
      "cell_type": "code",
      "metadata": {
        "id": "_5vbmLfeLevO",
        "colab_type": "code",
        "colab": {}
      },
      "source": [
        "def serial_forest(data):\n",
        "  \"\"\"Сохраняет модель регрессии RandomForest\"\"\"\n",
        "\n",
        "  X_train, X_test, y_train, y_test = data_split(data)\n",
        "\n",
        "  # Описание модели\n",
        "  model = RandomForestRegressor(\n",
        "      n_estimators=50, # Подставляем оптимальные значения)\n",
        "      criterion='mae',\n",
        "      min_samples_split=4,\n",
        "      min_samples_leaf=2,\n",
        "      n_jobs=5,\n",
        "      bootstrap=True\n",
        "  )\n",
        "  \n",
        "  # Используем бэггинг для усиления алгоритма\n",
        "  model = BaggingRegressor(model)\n",
        "\n",
        "  # Обучение модели\n",
        "  model.fit(\n",
        "      X_train, y_train\n",
        "  )\n",
        "\n",
        "  # Сериализация модели\n",
        "  with open('jsp_model.pkl', 'wb') as output:\n",
        "    pickle.dump(model, output)"
      ],
      "execution_count": 83,
      "outputs": []
    },
    {
      "cell_type": "code",
      "metadata": {
        "id": "Tfpy31RJctMm",
        "colab_type": "code",
        "colab": {}
      },
      "source": [
        "serial_forest(balanced_data)"
      ],
      "execution_count": null,
      "outputs": []
    },
    {
      "cell_type": "code",
      "metadata": {
        "id": "AHsm_BWn1Mqc",
        "colab_type": "code",
        "colab": {}
      },
      "source": [
        "!pip freeze > requirements.txt"
      ],
      "execution_count": null,
      "outputs": []
    },
    {
      "cell_type": "code",
      "metadata": {
        "id": "HqkHGfeL2WmD",
        "colab_type": "code",
        "colab": {
          "base_uri": "https://localhost:8080/",
          "height": 34
        },
        "outputId": "8f63d422-2a19-44b9-9533-9785215fe28a"
      },
      "source": [
        "!ls"
      ],
      "execution_count": null,
      "outputs": [
        {
          "output_type": "stream",
          "text": [
            "catboost_info  drive  jsp_model.pkl  sample_data\n"
          ],
          "name": "stdout"
        }
      ]
    },
    {
      "cell_type": "code",
      "metadata": {
        "id": "4EAnx3G92bsY",
        "colab_type": "code",
        "colab": {}
      },
      "source": [
        ""
      ],
      "execution_count": null,
      "outputs": []
    }
  ]
}